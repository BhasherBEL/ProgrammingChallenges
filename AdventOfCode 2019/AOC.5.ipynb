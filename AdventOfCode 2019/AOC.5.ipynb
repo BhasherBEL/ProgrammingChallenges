{
 "cells": [
  {
   "cell_type": "code",
   "execution_count": 1,
   "metadata": {},
   "outputs": [],
   "source": [
    "import sys\n",
    "import os\n",
    "sys.path.append(os.path.abspath(\"../\"))\n",
    "sys.path.append(os.path.abspath(\"../AdventOfCode 2020/\"))\n",
    "from utils import *\n",
    "from aoc import *\n",
    "from personal import SESSION\n",
    "from datetime import datetime\n",
    "import numpy as np"
   ]
  },
  {
   "cell_type": "code",
   "execution_count": 2,
   "metadata": {},
   "outputs": [],
   "source": [
    "aoc = AOC(session=SESSION)"
   ]
  },
  {
   "cell_type": "code",
   "execution_count": 3,
   "metadata": {},
   "outputs": [
    {
     "data": {
      "text/plain": [
       "True"
      ]
     },
     "execution_count": 3,
     "metadata": {},
     "output_type": "execute_result"
    }
   ],
   "source": [
    "aoc.verify_session()"
   ]
  },
  {
   "cell_type": "code",
   "execution_count": 4,
   "metadata": {},
   "outputs": [],
   "source": [
    "st = datetime.now()"
   ]
  },
  {
   "cell_type": "code",
   "execution_count": 8,
   "metadata": {},
   "outputs": [
    {
     "name": "stdout",
     "output_type": "stream",
     "text": [
      "Local file found.\n"
     ]
    }
   ],
   "source": [
    "data = aoc.get_file(year=2019, day=5).brut.split(',') #.analyse().head().data"
   ]
  },
  {
   "cell_type": "code",
   "execution_count": 65,
   "metadata": {},
   "outputs": [
    {
     "data": {
      "text/plain": [
       "'3 - 225 - 1 - 225 - 6 - 6 - 1100 - 1 - 238 - 225 - 104 - 0 - 1101 - 90 - 64 - 225 - 1101 - 15 - 56 - 225'"
      ]
     },
     "execution_count": 65,
     "metadata": {},
     "output_type": "execute_result"
    }
   ],
   "source": [
    "' - '.join(data[:20])"
   ]
  },
  {
   "cell_type": "markdown",
   "metadata": {},
   "source": [
    "## First part"
   ]
  },
  {
   "cell_type": "code",
   "execution_count": 21,
   "metadata": {},
   "outputs": [],
   "source": [
    "def analyse_head(head):\n",
    "    head = '0'*(5-len(head)) + head\n",
    "    op = int(head[-2:])\n",
    "    inv = list(map(int, head[:-2]))\n",
    "    return op, inv"
   ]
  },
  {
   "cell_type": "code",
   "execution_count": 30,
   "metadata": {},
   "outputs": [],
   "source": [
    "def get_value_by_mode(mode, data, i):\n",
    "    if mode == 0:\n",
    "        return int(data[i])\n",
    "    if mode == 1:\n",
    "        return i"
   ]
  },
  {
   "cell_type": "code",
   "execution_count": 37,
   "metadata": {},
   "outputs": [],
   "source": [
    "def call_with_args(data, inv, current, n, fct):\n",
    "    args = []\n",
    "    for i in range(n):\n",
    "        args.append(get_value_by_mode(inv[i], data, current+i+1))\n",
    "    fct(data, *args)"
   ]
  },
  {
   "cell_type": "code",
   "execution_count": 38,
   "metadata": {},
   "outputs": [],
   "source": [
    "def mod1(data, a, b, c):\n",
    "    data[a] = data[b] + data[c]"
   ]
  },
  {
   "cell_type": "code",
   "execution_count": 39,
   "metadata": {},
   "outputs": [],
   "source": [
    "def mod2(data, a,  b, c):\n",
    "    data[a] = data[b] * data[c]"
   ]
  },
  {
   "cell_type": "code",
   "execution_count": 53,
   "metadata": {},
   "outputs": [],
   "source": [
    "def mod3(data, a):\n",
    "    data[a] = input('> ')"
   ]
  },
  {
   "cell_type": "code",
   "execution_count": 59,
   "metadata": {},
   "outputs": [],
   "source": [
    "def mod4(data, a):\n",
    "    print(' - ', data[a])"
   ]
  },
  {
   "cell_type": "code",
   "execution_count": 61,
   "metadata": {},
   "outputs": [],
   "source": [
    "def execute(data):\n",
    "    i = 0\n",
    "    while i < len(data):\n",
    "        op, inv = analyse_head(data[i])\n",
    "        print(op)\n",
    "        if op == 99:\n",
    "            print('stop')\n",
    "            break\n",
    "        elif op == 1:\n",
    "            call_with_args(data, inv, i, 3, mod1)\n",
    "            i += 3\n",
    "        elif op == 2:\n",
    "            call_with_args(data, inv, i, 3, mod2)\n",
    "            i += 3\n",
    "        elif op == 3:\n",
    "            call_with_args(data, inv, i, 1, mod3)\n",
    "            i += 1\n",
    "        elif op == 4:\n",
    "            call_with_args(data, inv, i, 1, mod4)\n",
    "            i += 1\n",
    "        else:\n",
    "            print('fail')\n",
    "            break\n",
    "        i += 1\n",
    "    return data[0]"
   ]
  },
  {
   "cell_type": "code",
   "execution_count": 62,
   "metadata": {},
   "outputs": [
    {
     "name": "stdout",
     "output_type": "stream",
     "text": [
      "3\n",
      "> 1\n",
      "1\n",
      "0\n",
      "fail\n"
     ]
    },
    {
     "data": {
      "text/plain": [
       "'3'"
      ]
     },
     "execution_count": 62,
     "metadata": {},
     "output_type": "execute_result"
    }
   ],
   "source": [
    "execute(data)"
   ]
  },
  {
   "cell_type": "code",
   "execution_count": 23,
   "metadata": {},
   "outputs": [],
   "source": [
    "b1 = datetime.now()"
   ]
  },
  {
   "cell_type": "code",
   "execution_count": 25,
   "metadata": {},
   "outputs": [],
   "source": [
    "eb1 = datetime.now()"
   ]
  },
  {
   "cell_type": "code",
   "execution_count": 63,
   "metadata": {},
   "outputs": [],
   "source": [
    "b2 = datetime.now()"
   ]
  },
  {
   "cell_type": "code",
   "execution_count": 66,
   "metadata": {},
   "outputs": [],
   "source": [
    "eb2 = datetime.now()"
   ]
  },
  {
   "cell_type": "code",
   "execution_count": 67,
   "metadata": {},
   "outputs": [],
   "source": [
    "e1 = datetime.now()"
   ]
  },
  {
   "cell_type": "markdown",
   "metadata": {},
   "source": [
    "## Second part"
   ]
  },
  {
   "cell_type": "code",
   "execution_count": 46,
   "metadata": {},
   "outputs": [],
   "source": [
    "def is_valid(a, b, c=-1, p=-1):\n",
    "    if a == b:\n",
    "        if b == c or a == p:\n",
    "            return False\n",
    "        return True"
   ]
  },
  {
   "cell_type": "code",
   "execution_count": 47,
   "metadata": {},
   "outputs": [],
   "source": [
    "def check_all(si):\n",
    "    valid = False\n",
    "    skip_next = False\n",
    "    for j in range(0, 5):\n",
    "        if skip_next:\n",
    "            skip_next = False\n",
    "            continue\n",
    "        r = is_valid(si[j], si[j+1], si[j+2] if j < 4 else -1, si[j-1] if j > 0 else -1)\n",
    "        if r is None:\n",
    "            continue\n",
    "        if r == True:\n",
    "            return True\n",
    "        if r == False:\n",
    "            skip_next = True\n",
    "    return valid"
   ]
  },
  {
   "cell_type": "code",
   "execution_count": 48,
   "metadata": {},
   "outputs": [],
   "source": [
    "valids = []\n",
    "for i in range(start, end+1):\n",
    "    si = list(map(int, str(i)))\n",
    "    if si[0] <= si[1] <= si[2] <= si[3] <= si[4] <= si[5]:\n",
    "        if check_all(si):\n",
    "            valids.append(i)"
   ]
  },
  {
   "cell_type": "code",
   "execution_count": 49,
   "metadata": {},
   "outputs": [
    {
     "data": {
      "text/plain": [
       "False"
      ]
     },
     "execution_count": 49,
     "metadata": {},
     "output_type": "execute_result"
    }
   ],
   "source": [
    "check_all([2, 2, 2, 2, 5, 4])"
   ]
  },
  {
   "cell_type": "code",
   "execution_count": 50,
   "metadata": {},
   "outputs": [
    {
     "data": {
      "text/plain": [
       "358"
      ]
     },
     "execution_count": 50,
     "metadata": {},
     "output_type": "execute_result"
    }
   ],
   "source": [
    "len(valids)"
   ]
  },
  {
   "cell_type": "code",
   "execution_count": 71,
   "metadata": {},
   "outputs": [],
   "source": [
    "st2 = datetime.now()"
   ]
  },
  {
   "cell_type": "code",
   "execution_count": 72,
   "metadata": {},
   "outputs": [],
   "source": [
    "e2 = datetime.now()"
   ]
  },
  {
   "cell_type": "code",
   "execution_count": 77,
   "metadata": {},
   "outputs": [
    {
     "name": "stdout",
     "output_type": "stream",
     "text": [
      "Temps du 2019/5:\n",
      "\n",
      "Première partie: 1:14:26.585141\n",
      "Seconde partie: 0:24:12.472333\n"
     ]
    }
   ],
   "source": [
    "print(f'Temps du 2019/5:\\n')\n",
    "print(f'Première partie: {e1-st-(eb1-b1)-(eb2-b2)!s}')\n",
    "print(f'Seconde partie: {e2-st2!s}')"
   ]
  }
 ],
 "metadata": {
  "kernelspec": {
   "display_name": "Python 3",
   "language": "python",
   "name": "python3"
  },
  "language_info": {
   "codemirror_mode": {
    "name": "ipython",
    "version": 3
   },
   "file_extension": ".py",
   "mimetype": "text/x-python",
   "name": "python",
   "nbconvert_exporter": "python",
   "pygments_lexer": "ipython3",
   "version": "3.8.5"
  }
 },
 "nbformat": 4,
 "nbformat_minor": 1
}
