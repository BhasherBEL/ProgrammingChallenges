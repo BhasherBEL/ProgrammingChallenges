{
 "cells": [
  {
   "cell_type": "code",
   "execution_count": 1,
   "metadata": {},
   "outputs": [],
   "source": [
    "import sys\n",
    "import os\n",
    "sys.path.append(os.path.abspath(\"../\"))\n",
    "sys.path.append(os.path.abspath(\"../AdventOfCode 2020/\"))\n",
    "from utils import *\n",
    "from aoc import *\n",
    "from personal import SESSION\n",
    "from datetime import datetime"
   ]
  },
  {
   "cell_type": "code",
   "execution_count": 2,
   "metadata": {},
   "outputs": [],
   "source": [
    "aoc = AOC(session=SESSION)"
   ]
  },
  {
   "cell_type": "code",
   "execution_count": 3,
   "metadata": {},
   "outputs": [
    {
     "data": {
      "text/plain": [
       "True"
      ]
     },
     "execution_count": 3,
     "metadata": {},
     "output_type": "execute_result"
    }
   ],
   "source": [
    "aoc.verify_session()"
   ]
  },
  {
   "cell_type": "code",
   "execution_count": 4,
   "metadata": {},
   "outputs": [
    {
     "name": "stdout",
     "output_type": "stream",
     "text": [
      "Local file found.\n",
      "[1, 0, 0, 3, 1]\n"
     ]
    }
   ],
   "source": [
    "bd = list(map(int, aoc.get_file(year=2019, day=2).brut.split(',')))\n",
    "print(bd[:5])"
   ]
  },
  {
   "cell_type": "code",
   "execution_count": 9,
   "metadata": {},
   "outputs": [],
   "source": [
    "def execute(data):\n",
    "    for a,b,c,d in Iter.sequences(data, 4):\n",
    "        print(a)\n",
    "        if a == 1:\n",
    "            data[d] = data[b] + data[c]\n",
    "        elif a == 2:\n",
    "            data[d] = data[b] * data[c]\n",
    "        elif a == 99:\n",
    "            print('end')\n",
    "            return data[0]\n",
    "        else:\n",
    "            print('fail')\n",
    "            return data[0]\n",
    "    return data[0]"
   ]
  },
  {
   "cell_type": "code",
   "execution_count": 8,
   "metadata": {},
   "outputs": [
    {
     "name": "stdout",
     "output_type": "stream",
     "text": [
      "<utils_components.iter.Iter.SequencedPart object at 0x7f46cc03b370>\n",
      "fail\n"
     ]
    },
    {
     "data": {
      "text/plain": [
       "1"
      ]
     },
     "execution_count": 8,
     "metadata": {},
     "output_type": "execute_result"
    }
   ],
   "source": [
    "data = bd.copy()\n",
    "data[1] = 12\n",
    "data[2] = 2\n",
    "execute(data)"
   ]
  },
  {
   "cell_type": "code",
   "execution_count": 75,
   "metadata": {},
   "outputs": [
    {
     "name": "stdout",
     "output_type": "stream",
     "text": [
      "FINDED\n",
      "4925\n"
     ]
    }
   ],
   "source": [
    "for name in range(100):\n",
    "    for verb in range(100):\n",
    "        data = bd.copy()\n",
    "        data[1] = name\n",
    "        data[2] = verb\n",
    "        if execute(data) == 19690720:\n",
    "            print('FINDED')\n",
    "            print(100*name + verb)\n",
    "            break"
   ]
  }
 ],
 "metadata": {
  "kernelspec": {
   "display_name": "Python 3",
   "language": "python",
   "name": "python3"
  },
  "language_info": {
   "codemirror_mode": {
    "name": "ipython",
    "version": 3
   },
   "file_extension": ".py",
   "mimetype": "text/x-python",
   "name": "python",
   "nbconvert_exporter": "python",
   "pygments_lexer": "ipython3",
   "version": "3.8.5"
  }
 },
 "nbformat": 4,
 "nbformat_minor": 1
}