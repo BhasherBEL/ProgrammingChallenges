{
 "cells": [
  {
   "cell_type": "code",
   "execution_count": 1,
   "metadata": {},
   "outputs": [],
   "source": [
    "import collections\n",
    "import math\n",
    "import re\n",
    "import sys\n",
    "import os\n",
    "sys.path.append(os.path.abspath(\"../\"))\n",
    "import itertools\n",
    "from matplotlib import pyplot as plt\n",
    "import functools\n",
    "import pyparsing\n",
    "import pandas as pd\n",
    "import numpy as np\n",
    "import regex\n",
    "import time\n",
    "from sortedcontainers import SortedDict"
   ]
  },
  {
   "cell_type": "code",
   "execution_count": 2,
   "metadata": {},
   "outputs": [],
   "source": [
    "from utils import *\n",
    "from aoc import *\n",
    "from personal import SESSION"
   ]
  },
  {
   "cell_type": "code",
   "execution_count": 3,
   "metadata": {},
   "outputs": [],
   "source": [
    "aoc = AOC(session=SESSION)"
   ]
  },
  {
   "cell_type": "code",
   "execution_count": 4,
   "metadata": {},
   "outputs": [
    {
     "output_type": "execute_result",
     "data": {
      "text/plain": [
       "True"
      ]
     },
     "metadata": {},
     "execution_count": 4
    }
   ],
   "source": [
    "aoc.verify_session()"
   ]
  },
  {
   "cell_type": "code",
   "execution_count": 84,
   "metadata": {},
   "outputs": [
    {
     "output_type": "stream",
     "name": "stdout",
     "text": [
      "Local file found.\n100% of data are digits. Analyse as numbers.\n0 empty line(s) found. Analyse as monline data.\n===== HEAD (5) =====\n476138259\n====================\n"
     ]
    }
   ],
   "source": [
    "data = list(map(int, str(aoc.get_today_file().analyse().head().data[0])))"
   ]
  },
  {
   "cell_type": "code",
   "execution_count": 170,
   "metadata": {},
   "outputs": [],
   "source": [
    "data = list(map(int, '389125467'))"
   ]
  },
  {
   "cell_type": "code",
   "execution_count": 216,
   "metadata": {},
   "outputs": [],
   "source": [
    "def turn(state, current):\n",
    "    taked = []\n",
    "    for i in range(3):\n",
    "        taked.append(state.pop((state.index(current)+1)%len(state)))\n",
    "    target = current-1\n",
    "    while target not in state:\n",
    "        target -= 1\n",
    "        if target < min(state):\n",
    "            target = max(state)\n",
    "    target_index = (state.index(target) + 1) % len(state)\n",
    "    for el in reversed(taked):\n",
    "        state.insert(target_index, el)"
   ]
  },
  {
   "cell_type": "code",
   "execution_count": 168,
   "metadata": {},
   "outputs": [],
   "source": [
    "c = data[0]\n",
    "for i in range(100):\n",
    "    # print(c)\n",
    "    # print(data)\n",
    "    if i > 0:\n",
    "        c = data[((data.index(c) + 1) % len(data))]\n",
    "    # print(c)\n",
    "    turn(data, c)\n",
    "    # print(data)\n",
    "    # print('---')"
   ]
  },
  {
   "cell_type": "code",
   "execution_count": 169,
   "metadata": {},
   "outputs": [
    {
     "output_type": "stream",
     "name": "stdout",
     "text": [
      "97245386\n"
     ]
    }
   ],
   "source": [
    "one_index = data.index(1)\n",
    "res = data[one_index:] + data[:one_index]\n",
    "print(''.join(map(str, res[1:])))"
   ]
  },
  {
   "source": [
    "## Partie 2"
   ],
   "cell_type": "markdown",
   "metadata": {}
  },
  {
   "cell_type": "code",
   "execution_count": 62,
   "metadata": {},
   "outputs": [],
   "source": [
    "class CircularLinkedList(object):\n",
    "    def __init__(self, init_values):\n",
    "        self.min_ = min(init_values)\n",
    "        self.max_ = max(init_values)\n",
    "        self.head = None\n",
    "        self.first = None\n",
    "\n",
    "        history = SortedDict()\n",
    "        last = None\n",
    "        for value in init_values:\n",
    "            node = CircularLinkedList.Node(value, None)\n",
    "            if last is None:\n",
    "                self.head = node # First item\n",
    "            else:\n",
    "                last.next = node # Others items\n",
    "            history[value] = node\n",
    "            last = node\n",
    "\n",
    "        last.next = self.head # Circular\n",
    "\n",
    "        for a, b in Iter.multimove(history.values(), 2):\n",
    "            b.iPrev = a\n",
    "\n",
    "        history.peekitem(0)[1].iPrev = history.peekitem()[1]\n",
    "\n",
    "        self.first = history.peekitem(0)[1]\n",
    "\n",
    "\n",
    "    def __next__(self):\n",
    "        self.head = next(self.head)\n",
    "\n",
    "    class Node(object):\n",
    "        def __init__(self, value, next_):\n",
    "            self.value = value\n",
    "            self.next = next_\n",
    "            self.iPrev = None\n",
    "\n",
    "        def __next__(self):\n",
    "            return self.next"
   ]
  },
  {
   "cell_type": "code",
   "execution_count": 52,
   "metadata": {},
   "outputs": [],
   "source": [
    "def turn(cll):\n",
    "    taked = (cll.head.next.value, cll.head.next.next.value, cll.head.next.next.next.value)\n",
    "    target = cll.head.iPrev\n",
    "    while target.value in taked:\n",
    "        target = target.iPrev\n",
    "\n",
    "    last_taken = cll.head.next.next.next\n",
    "    cll.head.next, target.next, last_taken.next = last_taken.next, cll.head.next, target.next\n",
    "\n",
    "    next(cll)"
   ]
  },
  {
   "cell_type": "code",
   "execution_count": 76,
   "metadata": {},
   "outputs": [],
   "source": [
    "def display(cll, join=False):\n",
    "    res = []\n",
    "\n",
    "    last = cll.head\n",
    "    res.append(last.value)\n",
    "    while (last := last.next) != cll.head:\n",
    "        res.append(last.value)\n",
    "    \n",
    "    if join:\n",
    "        return ''.join(map(str, res))\n",
    "    else:\n",
    "        return res"
   ]
  },
  {
   "cell_type": "code",
   "execution_count": 85,
   "metadata": {},
   "outputs": [],
   "source": [
    "cll = CircularLinkedList(data)"
   ]
  },
  {
   "cell_type": "code",
   "execution_count": 86,
   "metadata": {},
   "outputs": [],
   "source": [
    "for i in range(100):\n",
    "    turn(cll)"
   ]
  },
  {
   "cell_type": "code",
   "execution_count": 87,
   "metadata": {},
   "outputs": [],
   "source": [
    "cll.head = cll.first"
   ]
  },
  {
   "cell_type": "code",
   "execution_count": 88,
   "metadata": {},
   "outputs": [
    {
     "output_type": "execute_result",
     "data": {
      "text/plain": [
       "'97245386'"
      ]
     },
     "metadata": {},
     "execution_count": 88
    }
   ],
   "source": [
    "display(cll, join=True)[1:]"
   ]
  },
  {
   "source": [
    "## Partie 2.2"
   ],
   "cell_type": "markdown",
   "metadata": {}
  },
  {
   "cell_type": "code",
   "execution_count": 89,
   "metadata": {},
   "outputs": [],
   "source": [
    "data += range(max(data) + 1, 1000001)"
   ]
  },
  {
   "cell_type": "code",
   "execution_count": 92,
   "metadata": {},
   "outputs": [],
   "source": [
    "cll = CircularLinkedList(data)"
   ]
  },
  {
   "cell_type": "code",
   "execution_count": 93,
   "metadata": {},
   "outputs": [],
   "source": [
    "for i in range(10000000):\n",
    "    turn(cll)"
   ]
  },
  {
   "cell_type": "code",
   "execution_count": 94,
   "metadata": {},
   "outputs": [],
   "source": [
    "cll.head = cll.first"
   ]
  },
  {
   "cell_type": "code",
   "execution_count": 100,
   "metadata": {},
   "outputs": [
    {
     "output_type": "execute_result",
     "data": {
      "text/plain": [
       "(442233, 353163, 156180332979)"
      ]
     },
     "metadata": {},
     "execution_count": 100
    }
   ],
   "source": [
    "a = cll.head.next.value\n",
    "b = cll.head.next.next.value\n",
    "\n",
    "a, b, a*b"
   ]
  }
 ],
 "metadata": {
  "kernelspec": {
   "display_name": "Python 3",
   "language": "python",
   "name": "python3"
  },
  "language_info": {
   "codemirror_mode": {
    "name": "ipython",
    "version": 3
   },
   "file_extension": ".py",
   "mimetype": "text/x-python",
   "name": "python",
   "nbconvert_exporter": "python",
   "pygments_lexer": "ipython3",
   "version": "3.8.5-final"
  }
 },
 "nbformat": 4,
 "nbformat_minor": 4
}