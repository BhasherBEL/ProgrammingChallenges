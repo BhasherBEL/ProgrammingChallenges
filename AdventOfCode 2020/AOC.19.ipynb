{
 "cells": [
  {
   "cell_type": "code",
   "execution_count": 2,
   "metadata": {},
   "outputs": [],
   "source": [
    "import collections\n",
    "import math\n",
    "import re\n",
    "import sys\n",
    "import os\n",
    "sys.path.append(os.path.abspath(\"../\"))\n",
    "import itertools\n",
    "from matplotlib import pyplot as plt\n",
    "import functools\n",
    "import pyparsing"
   ]
  },
  {
   "cell_type": "code",
   "execution_count": 3,
   "metadata": {},
   "outputs": [],
   "source": [
    "from utils import *\n",
    "from aoc import *\n",
    "from personal import SESSION"
   ]
  },
  {
   "cell_type": "code",
   "execution_count": 4,
   "metadata": {},
   "outputs": [],
   "source": [
    "aoc = AOC(session=SESSION)"
   ]
  },
  {
   "cell_type": "code",
   "execution_count": 5,
   "metadata": {},
   "outputs": [
    {
     "output_type": "execute_result",
     "data": {
      "text/plain": [
       "True"
      ]
     },
     "metadata": {},
     "execution_count": 5
    }
   ],
   "source": [
    "aoc.verify_session()"
   ]
  },
  {
   "cell_type": "code",
   "execution_count": 6,
   "metadata": {},
   "outputs": [
    {
     "output_type": "stream",
     "name": "stdout",
     "text": [
      "Local file found.\n"
     ]
    }
   ],
   "source": [
    "data = aoc.get_today_file().brut #.analyse().head().data"
   ]
  },
  {
   "cell_type": "code",
   "execution_count": 9,
   "metadata": {},
   "outputs": [],
   "source": [
    "rules, messages = [sd.split('\\n') for sd in data.split('\\n\\n')]\n",
    "rules = dict(l.replace('\"', '').replace(' | ', '|').split(': ') for l in rules)"
   ]
  },
  {
   "cell_type": "code",
   "execution_count": 23,
   "metadata": {},
   "outputs": [],
   "source": [
    "finder = re.compile(r'(\\{?\\d+\\}?)(?: (\\d+))?')"
   ]
  },
  {
   "cell_type": "code",
   "execution_count": 26,
   "metadata": {},
   "outputs": [
    {
     "output_type": "execute_result",
     "data": {
      "text/plain": [
       "'53 96|90 52'"
      ]
     },
     "metadata": {},
     "execution_count": 26
    }
   ],
   "source": [
    "rules['1']"
   ]
  },
  {
   "cell_type": "code",
   "execution_count": 27,
   "metadata": {},
   "outputs": [
    {
     "output_type": "execute_result",
     "data": {
      "text/plain": [
       "[('53', '96'), ('90', '52')]"
      ]
     },
     "metadata": {},
     "execution_count": 27
    }
   ],
   "source": [
    "finder.findall(rules['1'])"
   ]
  },
  {
   "cell_type": "code",
   "execution_count": null,
   "metadata": {},
   "outputs": [],
   "source": [
    "getfull(\"42\")"
   ]
  },
  {
   "cell_type": "code",
   "execution_count": 36,
   "metadata": {},
   "outputs": [],
   "source": [
    "def get(id_):\n",
    "    if id_ == '8':\n",
    "        return f'({rules[id_]})+'\n",
    "    elif id_ == '11':\n",
    "        return '(' + '|'.join([f'({getfull(\"42\")}){{{i}}}({getfull(\"31\")}){{{i}}}' for i in range(1, 20)]) + ')'\n",
    "    else:\n",
    "        r = rules[id_]\n",
    "        if '|' in r:\n",
    "            return f'({r})'\n",
    "        else:\n",
    "            return r"
   ]
  },
  {
   "cell_type": "code",
   "execution_count": 37,
   "metadata": {},
   "outputs": [],
   "source": [
    "def get_match(m):\n",
    "    return ''.join([get(id_) for id_ in m.groups() if id_ and '{' not in id_ and '}' not in id_])"
   ]
  },
  {
   "cell_type": "code",
   "execution_count": 38,
   "metadata": {},
   "outputs": [],
   "source": [
    "def getfull(id_):\n",
    "    result = get(id_)\n",
    "    lr = None\n",
    "    while re.search(r'\\d', result):\n",
    "        if lr == result:\n",
    "            print('Infinite loop')\n",
    "            break\n",
    "        lr = result\n",
    "        result = finder.sub(get_match, result)\n",
    "    return result"
   ]
  },
  {
   "cell_type": "code",
   "execution_count": 39,
   "metadata": {},
   "outputs": [],
   "source": [
    "rule = rules['0']"
   ]
  },
  {
   "cell_type": "code",
   "execution_count": 40,
   "metadata": {
    "tags": []
   },
   "outputs": [],
   "source": [
    "result = rule\n",
    "lr = None\n",
    "while re.search(r'\\d', result):\n",
    "    if lr == result:\n",
    "        print('Infinite loop')\n",
    "        break\n",
    "    lr = result\n",
    "    result = finder.sub(get_match, result)"
   ]
  },
  {
   "cell_type": "code",
   "execution_count": 41,
   "metadata": {},
   "outputs": [],
   "source": [
    "result = getfull('8') + get('11')"
   ]
  },
  {
   "cell_type": "code",
   "execution_count": 42,
   "metadata": {},
   "outputs": [
    {
     "output_type": "stream",
     "name": "stdout",
     "text": [
      "296\n"
     ]
    }
   ],
   "source": [
    "i = 0\n",
    "for l in messages:\n",
    "    if re.fullmatch(result, l):\n",
    "        i += 1\n",
    "print(i)"
   ]
  }
 ],
 "metadata": {
  "kernelspec": {
   "display_name": "Python 3",
   "language": "python",
   "name": "python3"
  },
  "language_info": {
   "codemirror_mode": {
    "name": "ipython",
    "version": 3
   },
   "file_extension": ".py",
   "mimetype": "text/x-python",
   "name": "python",
   "nbconvert_exporter": "python",
   "pygments_lexer": "ipython3",
   "version": "3.8.5-final"
  }
 },
 "nbformat": 4,
 "nbformat_minor": 4
}