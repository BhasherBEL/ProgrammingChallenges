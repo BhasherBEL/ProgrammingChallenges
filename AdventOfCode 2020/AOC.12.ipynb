{
 "cells": [
  {
   "cell_type": "code",
   "execution_count": 2,
   "metadata": {},
   "outputs": [],
   "source": [
    "import collections\n",
    "import math\n",
    "import re\n",
    "import sys\n",
    "import os\n",
    "sys.path.append(os.path.abspath(\"../\"))\n",
    "import itertools\n",
    "from matplotlib import pyplot as plt"
   ]
  },
  {
   "cell_type": "code",
   "execution_count": 3,
   "metadata": {},
   "outputs": [],
   "source": [
    "from utils import *\n",
    "from aoc import *\n",
    "from personal import SESSION"
   ]
  },
  {
   "cell_type": "code",
   "execution_count": 4,
   "metadata": {},
   "outputs": [],
   "source": [
    "aoc = AOC(session=SESSION)"
   ]
  },
  {
   "cell_type": "code",
   "execution_count": 5,
   "metadata": {},
   "outputs": [
    {
     "output_type": "execute_result",
     "data": {
      "text/plain": [
       "True"
      ]
     },
     "metadata": {},
     "execution_count": 5
    }
   ],
   "source": [
    "aoc.verify_session()"
   ]
  },
  {
   "cell_type": "code",
   "execution_count": 29,
   "metadata": {},
   "outputs": [
    {
     "output_type": "stream",
     "name": "stdout",
     "text": [
      "Local file found.\n0 empty line(s) found. Analyse as monline data.\n===== HEAD (5) =====\nF12\nW1\nN3\nE3\nW3\n====================\n"
     ]
    }
   ],
   "source": [
    "data = aoc.get_today_file().analyse().head().data"
   ]
  },
  {
   "cell_type": "code",
   "execution_count": 18,
   "metadata": {},
   "outputs": [],
   "source": [
    "x = 0\n",
    "y = 0\n",
    "angle = 0\n",
    "for el in data:\n",
    "    d, a = el[0], el[1:]\n",
    "    a = int(a)\n",
    "    if d == 'N':\n",
    "        y += a\n",
    "    elif d == 'S':\n",
    "        y -= a\n",
    "    elif d == 'W':\n",
    "        x -= a\n",
    "    elif d == 'E':\n",
    "        x += a\n",
    "    elif d == 'R':\n",
    "        angle = (angle+360-a)%360\n",
    "    elif d == 'L':\n",
    "        angle = (angle+a)%360\n",
    "    elif d == 'F':\n",
    "        x += int(math.cos(math.radians(angle)) * a)\n",
    "        y += int(math.sin(math.radians(angle)) * a)"
   ]
  },
  {
   "cell_type": "code",
   "execution_count": 20,
   "metadata": {},
   "outputs": [
    {
     "output_type": "stream",
     "name": "stdout",
     "text": [
      "1441\n"
     ]
    }
   ],
   "source": [
    "print(abs(x) + abs(y))"
   ]
  },
  {
   "cell_type": "code",
   "execution_count": 23,
   "metadata": {},
   "outputs": [],
   "source": [
    "data = \"\"\"F10\n",
    "N3\n",
    "F7\n",
    "R90\n",
    "F11\"\"\".split('\\n')"
   ]
  },
  {
   "cell_type": "code",
   "execution_count": 32,
   "metadata": {},
   "outputs": [],
   "source": [
    "cx = 10\n",
    "cy = 1\n",
    "x = 0\n",
    "y = 0\n",
    "for el in data:\n",
    "    d, a = el[0], el[1:]\n",
    "    a = int(a)\n",
    "    if d == 'N':\n",
    "        cy += a\n",
    "    elif d == 'S':\n",
    "        cy -= a\n",
    "    elif d == 'W':\n",
    "        cx -= a\n",
    "    elif d == 'E':\n",
    "        cx += a\n",
    "    elif d == 'R':\n",
    "        if a == 90:\n",
    "            cx, cy = cy, -cx\n",
    "        elif a == 180:\n",
    "            cx, cy = -cx, -cy\n",
    "        elif a == 270:\n",
    "            cx, cy = -cy, cx\n",
    "    elif d == 'L':\n",
    "        if a == 90:\n",
    "            cx, cy = -cy, cx\n",
    "        elif a == 180:\n",
    "            cx, cy = -cx, -cy\n",
    "        elif a == 270:\n",
    "            cx, cy = cy, -cx\n",
    "    elif d == 'F':\n",
    "        x += a * cx\n",
    "        y += a * cy\n",
    "    # print(d, x, y, cx, cy)"
   ]
  },
  {
   "cell_type": "code",
   "execution_count": 34,
   "metadata": {},
   "outputs": [
    {
     "output_type": "stream",
     "name": "stdout",
     "text": [
      "-26129 35487 61616\n"
     ]
    }
   ],
   "source": [
    "print(x, y, abs(x)+abs(y))"
   ]
  }
 ],
 "metadata": {
  "kernelspec": {
   "display_name": "Python 3",
   "language": "python",
   "name": "python3"
  },
  "language_info": {
   "codemirror_mode": {
    "name": "ipython",
    "version": 3
   },
   "file_extension": ".py",
   "mimetype": "text/x-python",
   "name": "python",
   "nbconvert_exporter": "python",
   "pygments_lexer": "ipython3",
   "version": "3.9.0-final"
  }
 },
 "nbformat": 4,
 "nbformat_minor": 4
}