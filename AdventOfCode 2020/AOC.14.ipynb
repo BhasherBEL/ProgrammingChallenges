{
 "cells": [
  {
   "cell_type": "code",
   "execution_count": 1,
   "metadata": {},
   "outputs": [],
   "source": [
    "import collections\n",
    "import math\n",
    "import re\n",
    "import sys\n",
    "import os\n",
    "sys.path.append(os.path.abspath(\"../\"))\n",
    "import itertools\n",
    "from matplotlib import pyplot as plt\n",
    "import functools"
   ]
  },
  {
   "cell_type": "code",
   "execution_count": 2,
   "metadata": {},
   "outputs": [],
   "source": [
    "from utils import *\n",
    "from aoc import *\n",
    "from personal import SESSION"
   ]
  },
  {
   "cell_type": "code",
   "execution_count": 3,
   "metadata": {},
   "outputs": [],
   "source": [
    "aoc = AOC(session=SESSION)"
   ]
  },
  {
   "cell_type": "code",
   "execution_count": 4,
   "metadata": {},
   "outputs": [
    {
     "data": {
      "text/plain": [
       "True"
      ]
     },
     "execution_count": 4,
     "metadata": {},
     "output_type": "execute_result"
    }
   ],
   "source": [
    "aoc.verify_session()"
   ]
  },
  {
   "cell_type": "code",
   "execution_count": 125,
   "metadata": {},
   "outputs": [
    {
     "name": "stdout",
     "output_type": "stream",
     "text": [
      "Local file found.\n",
      "0 empty line(s) found. Analyse as monline data.\n",
      "===== HEAD (5) =====\n",
      "mask = 100X000X100X00XX1010X0001X11XX100110\n",
      "mem[33470] = 43619\n",
      "mem[17642] = 12960\n",
      "mem[54949] = 1594\n",
      "mem[25705] = 17992\n",
      "====================\n"
     ]
    }
   ],
   "source": [
    "data = aoc.get_today_file().analyse().head().data"
   ]
  },
  {
   "cell_type": "code",
   "execution_count": 116,
   "metadata": {},
   "outputs": [],
   "source": [
    "def masked(address, mask):\n",
    "    res = [[]]\n",
    "    address = ''.join(reversed(address))\n",
    "    mask = ''.join(reversed(mask))\n",
    "    for i in range(max(len(address), len(mask))-1, -1, -1):\n",
    "        # print(i, len(address), len(mask))\n",
    "        a = address[i] if i < len(address) else '0'\n",
    "        m = mask[i] if i < len(mask) else '0'\n",
    "        # print(a, m)\n",
    "        \n",
    "        if m == '1':\n",
    "            for el in res:\n",
    "                el.append('1') #.insert(0, '1')\n",
    "        elif m == '0':\n",
    "            for el in res:\n",
    "                el.append(a) #.insert(0, a)\n",
    "        else:\n",
    "            nws = []\n",
    "            for el in res:\n",
    "                elc = el.copy()\n",
    "                el.append('0') #.insert(0, '0')\n",
    "                elc.append('1') #.insert(0, '1')\n",
    "                nws.append(elc)\n",
    "            res.extend(nws)\n",
    "    return [''.join(v) for v in res]"
   ]
  },
  {
   "cell_type": "code",
   "execution_count": 117,
   "metadata": {},
   "outputs": [],
   "source": [
    "data = \"\"\"mask = 000000000000000000000000000000X1001X\n",
    "mem[42] = 100\n",
    "mask = 00000000000000000000000000000000X0XX\n",
    "mem[26] = 1\"\"\".split('\\n')"
   ]
  },
  {
   "cell_type": "code",
   "execution_count": 126,
   "metadata": {},
   "outputs": [],
   "source": [
    "dic = collections.defaultdict(int)\n",
    "current_mask = '0'*36"
   ]
  },
  {
   "cell_type": "code",
   "execution_count": 127,
   "metadata": {},
   "outputs": [],
   "source": [
    "for l in data:\n",
    "    n, v = l.split(' = ')\n",
    "    if n.strip() == 'mask':\n",
    "        current_mask = v\n",
    "        continue\n",
    "    place = int(''.join(filter(lambda x: x.isdigit(), n)))\n",
    "    value = int(v.strip())\n",
    "    binary = bin(place)[2:]\n",
    "    # print('  ', current_mask)\n",
    "    for k in masked(binary, current_mask):\n",
    "        k2 = int(k, 2)\n",
    "        # print(k2, k, value)\n",
    "        dic[k2] = value"
   ]
  },
  {
   "cell_type": "code",
   "execution_count": 128,
   "metadata": {},
   "outputs": [],
   "source": [
    "# < 15912560947180\n",
    "# = 4822600194774"
   ]
  },
  {
   "cell_type": "code",
   "execution_count": 129,
   "metadata": {},
   "outputs": [
    {
     "data": {
      "text/plain": [
       "4822600194774"
      ]
     },
     "execution_count": 129,
     "metadata": {},
     "output_type": "execute_result"
    }
   ],
   "source": [
    "sum(dic.values())"
   ]
  }
 ],
 "metadata": {
  "kernelspec": {
   "display_name": "Python 3",
   "language": "python",
   "name": "python3"
  },
  "language_info": {
   "codemirror_mode": {
    "name": "ipython",
    "version": 3
   },
   "file_extension": ".py",
   "mimetype": "text/x-python",
   "name": "python",
   "nbconvert_exporter": "python",
   "pygments_lexer": "ipython3",
   "version": "3.8.5"
  }
 },
 "nbformat": 4,
 "nbformat_minor": 4
}
