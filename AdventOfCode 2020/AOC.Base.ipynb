{
 "cells": [
  {
   "cell_type": "code",
   "execution_count": 6,
   "metadata": {},
   "outputs": [],
   "source": [
    "import collections\n",
    "import math\n",
    "import re"
   ]
  },
  {
   "cell_type": "code",
   "execution_count": 7,
   "metadata": {},
   "outputs": [],
   "source": [
    "from utils import AOC\n",
    "from personal import SESSION"
   ]
  },
  {
   "cell_type": "code",
   "execution_count": 8,
   "metadata": {},
   "outputs": [],
   "source": [
    "aoc = AOC(session=SESSION)"
   ]
  },
  {
   "cell_type": "code",
   "execution_count": 9,
   "metadata": {},
   "outputs": [
    {
     "data": {
      "text/plain": [
       "True"
      ]
     },
     "execution_count": 9,
     "metadata": {},
     "output_type": "execute_result"
    }
   ],
   "source": [
    "aoc.verify_session()"
   ]
  },
  {
   "cell_type": "code",
   "execution_count": 10,
   "metadata": {},
   "outputs": [
    {
     "name": "stdout",
     "output_type": "stream",
     "text": [
      "Local file found.\n",
      "4% of data are digits. Analyse as text.\n",
      "0 empty line(s) found. Analyse as monline data.\n",
      "===== HEAD (5) =====\n",
      "shiny aqua bags contain 1 dark white bag.\n",
      "muted blue bags contain 1 vibrant lavender bag, 4 dotted silver bags, 2 dim indigo bags.\n",
      "drab gray bags contain 5 mirrored white bags, 1 light green bag, 5 shiny lavender bags, 5 faded aqua bags.\n",
      "muted indigo bags contain 4 muted chartreuse bags, 2 dotted teal bags.\n",
      "drab white bags contain 2 dull fuchsia bags, 1 vibrant bronze bag.\n",
      "====================\n"
     ]
    }
   ],
   "source": [
    "data = aoc.get_today_file().analyse().head().data"
   ]
  }
 ],
 "metadata": {
  "kernelspec": {
   "display_name": "Python 3",
   "language": "python",
   "name": "python3"
  },
  "language_info": {
   "codemirror_mode": {
    "name": "ipython",
    "version": 3
   },
   "file_extension": ".py",
   "mimetype": "text/x-python",
   "name": "python",
   "nbconvert_exporter": "python",
   "pygments_lexer": "ipython3",
   "version": "3.8.5"
  }
 },
 "nbformat": 4,
 "nbformat_minor": 4
}
