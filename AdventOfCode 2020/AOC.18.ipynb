{
 "cells": [
  {
   "cell_type": "code",
   "execution_count": 11,
   "metadata": {},
   "outputs": [],
   "source": [
    "import collections\n",
    "import math\n",
    "import re\n",
    "import sys\n",
    "import os\n",
    "sys.path.append(os.path.abspath(\"../\"))\n",
    "import itertools\n",
    "from matplotlib import pyplot as plt\n",
    "import functools\n",
    "import pyparsing"
   ]
  },
  {
   "cell_type": "code",
   "execution_count": 12,
   "metadata": {},
   "outputs": [],
   "source": [
    "from utils import *\n",
    "from aoc import *\n",
    "from personal import SESSION"
   ]
  },
  {
   "cell_type": "code",
   "execution_count": 13,
   "metadata": {},
   "outputs": [],
   "source": [
    "aoc = AOC(session=SESSION)"
   ]
  },
  {
   "cell_type": "code",
   "execution_count": 14,
   "metadata": {},
   "outputs": [
    {
     "output_type": "execute_result",
     "data": {
      "text/plain": [
       "True"
      ]
     },
     "metadata": {},
     "execution_count": 14
    }
   ],
   "source": [
    "aoc.verify_session()"
   ]
  },
  {
   "cell_type": "code",
   "execution_count": 133,
   "metadata": {},
   "outputs": [
    {
     "output_type": "stream",
     "name": "stdout",
     "text": [
      "Local file found.\n"
     ]
    }
   ],
   "source": [
    "data = aoc.get_today_file().brut #.analyse().head().data"
   ]
  },
  {
   "cell_type": "code",
   "execution_count": 65,
   "metadata": {},
   "outputs": [],
   "source": [
    "data = \"1 + (2 * 3) + (4 * (5 + 6))\""
   ]
  },
  {
   "cell_type": "code",
   "execution_count": 116,
   "metadata": {},
   "outputs": [],
   "source": [
    "thecontent = pyparsing.Word(pyparsing.alphanums) | '+' | '*'\n",
    "parens     = pyparsing.nestedExpr( '(', ')', content=thecontent)"
   ]
  },
  {
   "cell_type": "code",
   "execution_count": 117,
   "metadata": {},
   "outputs": [],
   "source": [
    "def solve(eq):\n",
    "    if type(eq) == str:\n",
    "        eq = parens.parseString(eq)\n",
    "\n",
    "    res = 0\n",
    "    last = '+'\n",
    "    for a in eq:\n",
    "        if isinstance(a, list) or isinstance(a, pyparsing.ParseResults):\n",
    "            if last == '+':\n",
    "                res += solve(a)\n",
    "            elif last == '*':\n",
    "                res *= solve(a)\n",
    "            else:\n",
    "                print(f'Unknown last \"{last}\" t2')\n",
    "        elif a.isdigit():\n",
    "            if last == '+':\n",
    "                res += int(a)\n",
    "                last = None\n",
    "            elif last == '*':\n",
    "                res *= int(a)\n",
    "                last = None\n",
    "            else:\n",
    "                print(f'Unknown last \"{last}\"')\n",
    "        else:\n",
    "            if a == '+' or a == '*':\n",
    "                last = a\n",
    "            else:\n",
    "                print(f'Unknown caracter \"{a}\"')\n",
    "    \n",
    "    return res"
   ]
  },
  {
   "cell_type": "code",
   "execution_count": 79,
   "metadata": {},
   "outputs": [],
   "source": [
    "t = 0\n",
    "for line in data.split('\\n'):\n",
    "    t += solve(f'({line})')"
   ]
  },
  {
   "cell_type": "code",
   "execution_count": 80,
   "metadata": {},
   "outputs": [
    {
     "output_type": "execute_result",
     "data": {
      "text/plain": [
       "7147789965219"
      ]
     },
     "metadata": {},
     "execution_count": 80
    }
   ],
   "source": [
    "t"
   ]
  },
  {
   "source": [
    "## Partie 2"
   ],
   "cell_type": "markdown",
   "metadata": {}
  },
  {
   "cell_type": "code",
   "execution_count": 81,
   "metadata": {},
   "outputs": [],
   "source": [
    "data = \"1 + 2 * 3 + 4 * 5 + 6\""
   ]
  },
  {
   "cell_type": "code",
   "execution_count": 197,
   "metadata": {},
   "outputs": [],
   "source": [
    "cthecontent = pyparsing.Word(pyparsing.alphanums + '+') | '*'\n",
    "cparens     = pyparsing.nestedExpr( '(', ')', content=cthecontent)"
   ]
  },
  {
   "cell_type": "code",
   "execution_count": 236,
   "metadata": {},
   "outputs": [],
   "source": [
    "def format(eq):\n",
    "    if type(eq) == str:\n",
    "        eq = cparens.parseString(eq.replace(' ', ''))[0]\n",
    "\n",
    "    # print(eq)\n",
    "\n",
    "    formated = ''\n",
    "    for el in eq:\n",
    "        if isinstance(el, str) and ')' not in el and '(' not in el:\n",
    "            formated += el\n",
    "        else:\n",
    "            formated += str(format(el))\n",
    "    \n",
    "    return calc(formated)"
   ]
  },
  {
   "cell_type": "code",
   "execution_count": 237,
   "metadata": {},
   "outputs": [],
   "source": [
    "def calc(eq):\n",
    "    res = 1\n",
    "    for part in eq.replace(' ', '').split('*'):\n",
    "        # print('part:', part)\n",
    "        if '+' in part:\n",
    "            res *= sum(map(int,part.split('+')))\n",
    "        else:\n",
    "            res *= int(part)\n",
    "        \n",
    "        # print('res:', res)\n",
    "    return res"
   ]
  },
  {
   "cell_type": "code",
   "execution_count": 238,
   "metadata": {
    "tags": []
   },
   "outputs": [
    {
     "output_type": "execute_result",
     "data": {
      "text/plain": [
       "136824720421264"
      ]
     },
     "metadata": {},
     "execution_count": 238
    }
   ],
   "source": [
    "t = 0\n",
    "for line in data.split('\\n'):\n",
    "    line = line.replace(' ', '')\n",
    "    # print('>>>>>>>> new line <<<<<<<<<<<')\n",
    "    # print(line)\n",
    "    t += format(f'({line})')\n",
    "t"
   ]
  },
  {
   "cell_type": "code",
   "execution_count": 132,
   "metadata": {},
   "outputs": [
    {
     "output_type": "execute_result",
     "data": {
      "text/plain": [
       "'1 + 2 * 3 + 4 * 5 + 6'"
      ]
     },
     "metadata": {},
     "execution_count": 132
    }
   ],
   "source": [
    "data"
   ]
  }
 ],
 "metadata": {
  "kernelspec": {
   "display_name": "Python 3",
   "language": "python",
   "name": "python3"
  },
  "language_info": {
   "codemirror_mode": {
    "name": "ipython",
    "version": 3
   },
   "file_extension": ".py",
   "mimetype": "text/x-python",
   "name": "python",
   "nbconvert_exporter": "python",
   "pygments_lexer": "ipython3",
   "version": "3.8.5-final"
  }
 },
 "nbformat": 4,
 "nbformat_minor": 4
}