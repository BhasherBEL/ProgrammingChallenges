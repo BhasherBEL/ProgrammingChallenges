{
 "cells": [
  {
   "cell_type": "markdown",
   "metadata": {},
   "source": [
    "# Common"
   ]
  },
  {
   "cell_type": "code",
   "execution_count": 1,
   "metadata": {},
   "outputs": [],
   "source": [
    "import collections\n",
    "import math\n",
    "import re"
   ]
  },
  {
   "cell_type": "code",
   "execution_count": 2,
   "metadata": {},
   "outputs": [],
   "source": [
    "from utils import *\n",
    "from personal import SESSION"
   ]
  },
  {
   "cell_type": "code",
   "execution_count": 3,
   "metadata": {},
   "outputs": [],
   "source": [
    "aoc = AOC(session=SESSION)"
   ]
  },
  {
   "cell_type": "code",
   "execution_count": 4,
   "metadata": {},
   "outputs": [],
   "source": [
    "#aoc.verify_session()"
   ]
  },
  {
   "cell_type": "code",
   "execution_count": 5,
   "metadata": {},
   "outputs": [
    {
     "name": "stdout",
     "output_type": "stream",
     "text": [
      "Local file found.\n",
      "4% of data are digits. Analyse as text.\n",
      "0 empty line(s) found. Analyse as monline data.\n",
      "===== HEAD (5) =====\n",
      "shiny aqua bags contain 1 dark white bag.\n",
      "muted blue bags contain 1 vibrant lavender bag, 4 dotted silver bags, 2 dim indigo bags.\n",
      "drab gray bags contain 5 mirrored white bags, 1 light green bag, 5 shiny lavender bags, 5 faded aqua bags.\n",
      "muted indigo bags contain 4 muted chartreuse bags, 2 dotted teal bags.\n",
      "drab white bags contain 2 dull fuchsia bags, 1 vibrant bronze bag.\n",
      "====================\n"
     ]
    }
   ],
   "source": [
    "data = aoc.get_today_file().analyse().head().data"
   ]
  },
  {
   "cell_type": "markdown",
   "metadata": {},
   "source": [
    "# Treatment"
   ]
  },
  {
   "cell_type": "code",
   "execution_count": 10,
   "metadata": {},
   "outputs": [],
   "source": [
    "contents = collections.defaultdict(dict)\n",
    "contentsin = collections.defaultdict(set)"
   ]
  },
  {
   "cell_type": "code",
   "execution_count": 12,
   "metadata": {},
   "outputs": [],
   "source": [
    "for el in data:\n",
    "    main, content = el.split(' bags contain ')\n",
    "    for amount, name in re.findall('(\\d) (.+?) bags?[.,]', content):\n",
    "        contents[main][name] = int(amount)\n",
    "        contentsin[name].add(main)"
   ]
  },
  {
   "cell_type": "code",
   "execution_count": 15,
   "metadata": {},
   "outputs": [
    {
     "name": "stdout",
     "output_type": "stream",
     "text": [
      "shiny aqua {'dark white': 1}\n",
      "muted blue {'vibrant lavender': 1, 'dotted silver': 4, 'dim indigo': 2}\n",
      "drab gray {'mirrored white': 5, 'light green': 1, 'shiny lavender': 5, 'faded aqua': 5}\n",
      "muted indigo {'muted chartreuse': 4, 'dotted teal': 2}\n",
      "drab white {'dull fuchsia': 2, 'vibrant bronze': 1}\n",
      "--\n",
      "dark white {'light orange', 'shiny aqua', 'clear teal', 'drab cyan', 'faded turquoise', 'striped cyan', 'shiny gold', 'bright cyan'}\n",
      "vibrant lavender {'pale silver', 'muted blue'}\n",
      "dotted silver {'clear red', 'muted yellow', 'posh white', 'dark gold', 'muted blue'}\n",
      "dim indigo {'dim bronze', 'mirrored gray', 'striped purple', 'muted blue'}\n",
      "mirrored white {'mirrored gold', 'drab gray', 'posh yellow', 'dotted white', 'faded teal'}\n"
     ]
    }
   ],
   "source": [
    "dic_head(contents)\n",
    "print('--')\n",
    "dic_head(contentsin)"
   ]
  },
  {
   "cell_type": "markdown",
   "metadata": {},
   "source": [
    "# Part 1"
   ]
  },
  {
   "cell_type": "code",
   "execution_count": 35,
   "metadata": {},
   "outputs": [],
   "source": [
    "res = set()\n",
    "def p1(x, i=0):\n",
    "    if i > 10:\n",
    "        return\n",
    "    for k in contentsin[x]:\n",
    "        fct(k, i+1)\n",
    "        res.add(k)"
   ]
  },
  {
   "cell_type": "code",
   "execution_count": 36,
   "metadata": {},
   "outputs": [
    {
     "data": {
      "text/plain": [
       "265"
      ]
     },
     "execution_count": 36,
     "metadata": {},
     "output_type": "execute_result"
    }
   ],
   "source": [
    "p1('shiny gold')\n",
    "len(res)"
   ]
  },
  {
   "cell_type": "markdown",
   "metadata": {},
   "source": [
    "# Part 2"
   ]
  },
  {
   "cell_type": "code",
   "execution_count": 46,
   "metadata": {},
   "outputs": [],
   "source": [
    "tot = 0\n",
    "def p2(x, amount=1):\n",
    "    global tot\n",
    "    for k, v in contents[x].items():\n",
    "        tot += v*amount\n",
    "        p2(k, v*amount)"
   ]
  },
  {
   "cell_type": "code",
   "execution_count": 47,
   "metadata": {},
   "outputs": [],
   "source": [
    "p2('shiny gold')"
   ]
  },
  {
   "cell_type": "code",
   "execution_count": 48,
   "metadata": {},
   "outputs": [
    {
     "name": "stdout",
     "output_type": "stream",
     "text": [
      "14177\n"
     ]
    }
   ],
   "source": [
    "print(tot)"
   ]
  }
 ],
 "metadata": {
  "kernelspec": {
   "display_name": "Python 3",
   "language": "python",
   "name": "python3"
  },
  "language_info": {
   "codemirror_mode": {
    "name": "ipython",
    "version": 3
   },
   "file_extension": ".py",
   "mimetype": "text/x-python",
   "name": "python",
   "nbconvert_exporter": "python",
   "pygments_lexer": "ipython3",
   "version": "3.8.5"
  }
 },
 "nbformat": 4,
 "nbformat_minor": 4
}
