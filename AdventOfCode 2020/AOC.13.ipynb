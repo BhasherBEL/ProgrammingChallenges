{
 "cells": [
  {
   "cell_type": "code",
   "execution_count": 184,
   "metadata": {},
   "outputs": [],
   "source": [
    "import collections\n",
    "import math\n",
    "import re\n",
    "import sys\n",
    "import os\n",
    "sys.path.append(os.path.abspath(\"../\"))\n",
    "import itertools\n",
    "from matplotlib import pyplot as plt\n",
    "import functools"
   ]
  },
  {
   "cell_type": "code",
   "execution_count": null,
   "metadata": {},
   "outputs": [],
   "source": [
    "from utils import *\n",
    "from aoc import *\n",
    "from personal import SESSION"
   ]
  },
  {
   "cell_type": "code",
   "execution_count": null,
   "metadata": {},
   "outputs": [],
   "source": [
    "aoc = AOC(session=SESSION)"
   ]
  },
  {
   "cell_type": "code",
   "execution_count": null,
   "metadata": {},
   "outputs": [],
   "source": [
    "aoc.verify_session()"
   ]
  },
  {
   "cell_type": "code",
   "execution_count": null,
   "metadata": {},
   "outputs": [],
   "source": [
    "data = aoc.get_today_file().analyse().head().data"
   ]
  },
  {
   "cell_type": "code",
   "execution_count": null,
   "metadata": {},
   "outputs": [],
   "source": [
    "current = int(data[0])"
   ]
  },
  {
   "cell_type": "code",
   "execution_count": null,
   "metadata": {},
   "outputs": [],
   "source": [
    "busses = {i: int(el) for i, el in enumerate(data[1].split(',')) if el.isdigit()}"
   ]
  },
  {
   "cell_type": "code",
   "execution_count": null,
   "metadata": {},
   "outputs": [],
   "source": [
    "busses"
   ]
  },
  {
   "cell_type": "code",
   "execution_count": null,
   "metadata": {},
   "outputs": [],
   "source": [
    "next_ = {}\n",
    "for i, bus in busses.items():\n",
    "    t = 0\n",
    "    while t < current:\n",
    "        t += bus\n",
    "    next_[bus] = t - current"
   ]
  },
  {
   "cell_type": "code",
   "execution_count": null,
   "metadata": {},
   "outputs": [],
   "source": [
    "next_"
   ]
  },
  {
   "cell_type": "code",
   "execution_count": null,
   "metadata": {},
   "outputs": [],
   "source": [
    "m = min(next_, key=next_.get)"
   ]
  },
  {
   "cell_type": "code",
   "execution_count": null,
   "metadata": {},
   "outputs": [],
   "source": [
    "m * next_[m]"
   ]
  },
  {
   "cell_type": "code",
   "execution_count": null,
   "metadata": {},
   "outputs": [],
   "source": [
    "def ppcm(a,b):\n",
    "    return a*b // math.gcd(a, b)"
   ]
  },
  {
   "cell_type": "code",
   "execution_count": null,
   "metadata": {},
   "outputs": [],
   "source": [
    "total = busses[17]\n",
    "j = 0\n",
    "for i, bus in busses.items():\n",
    "    j += 1\n",
    "    total += ppcm(total, bus-i)\n",
    "    print(f'{j}/{len(busses)} ({bus}, {i}, {bus-i}): {total}')"
   ]
  },
  {
   "cell_type": "code",
   "execution_count": null,
   "metadata": {
    "tags": []
   },
   "outputs": [],
   "source": [
    "total"
   ]
  },
  {
   "cell_type": "code",
   "execution_count": null,
   "metadata": {},
   "outputs": [],
   "source": [
    "# < 832025465671680"
   ]
  },
  {
   "cell_type": "code",
   "execution_count": null,
   "metadata": {},
   "outputs": [],
   "source": [
    "res"
   ]
  },
  {
   "source": [
    "## Partie 2 (= la galère)"
   ],
   "cell_type": "markdown",
   "metadata": {}
  },
  {
   "cell_type": "code",
   "execution_count": 226,
   "metadata": {},
   "outputs": [],
   "source": [
    "def modular_finder(tuples):\n",
    "    t = 0\n",
    "    multiplications_of_values = functools.reduce(lambda a,b: a*b, map(lambda x: x[0], tuples))\n",
    "    for a, b in tuples:\n",
    "        mul = multiplications_of_values//a\n",
    "        for i in range(1, 1001):\n",
    "            if i*mul%a == 1:\n",
    "                mul *= i\n",
    "                break\n",
    "        else:\n",
    "            print(f'No multiplicator found for {a}')\n",
    "        t += b * mul\n",
    "    return t % multiplications_of_values"
   ]
  },
  {
   "cell_type": "code",
   "execution_count": 227,
   "metadata": {},
   "outputs": [
    {
     "output_type": "execute_result",
     "data": {
      "text/plain": [
       "768"
      ]
     },
     "metadata": {},
     "execution_count": 227
    }
   ],
   "source": [
    "modular_finder([(17, 3), (7, 5), (11, 9)]) # 758"
   ]
  },
  {
   "cell_type": "code",
   "execution_count": 228,
   "metadata": {},
   "outputs": [
    {
     "output_type": "execute_result",
     "data": {
      "text/plain": [
       "23"
      ]
     },
     "metadata": {},
     "execution_count": 228
    }
   ],
   "source": [
    "modular_finder([(3, 2), (5, 3), (7, 2)])"
   ]
  },
  {
   "cell_type": "code",
   "execution_count": 233,
   "metadata": {},
   "outputs": [
    {
     "output_type": "stream",
     "name": "stdout",
     "text": [
      "[(17, 0), (37, 26), (739, 722), (29, 10), (13, 9), (23, 6), (971, 923), (41, 24), (19, 9)]\n"
     ]
    }
   ],
   "source": [
    "couples = []\n",
    "for i, el in enumerate(data[1].split(',')):\n",
    "    if el.isdigit():\n",
    "        couples.append((int(el), (int(el)-i)%int(el)))#%int(el)))\n",
    "print(couples)"
   ]
  },
  {
   "cell_type": "code",
   "execution_count": 237,
   "metadata": {},
   "outputs": [],
   "source": [
    "# > 100000000000000 (énoncé)\n",
    "#   535296695251210 (JUSTE !!!!!)\n",
    "# < 1439636334292381 (exp)\n",
    "# < 2513447297891599 (exp)\n",
    "# < 3048743993142809 (mul)"
   ]
  },
  {
   "cell_type": "code",
   "execution_count": 238,
   "metadata": {},
   "outputs": [
    {
     "output_type": "stream",
     "name": "stdout",
     "text": [
      "max: 3048743993142809\n"
     ]
    }
   ],
   "source": [
    "r = 1\n",
    "for a, b in couples:\n",
    "    r *= a\n",
    "print('max:', r)"
   ]
  },
  {
   "cell_type": "code",
   "execution_count": 236,
   "metadata": {},
   "outputs": [
    {
     "output_type": "execute_result",
     "data": {
      "text/plain": [
       "535296695251210"
      ]
     },
     "metadata": {},
     "execution_count": 236
    }
   ],
   "source": [
    "modular_finder(couples)"
   ]
  }
 ],
 "metadata": {
  "kernelspec": {
   "display_name": "Python 3",
   "language": "python",
   "name": "python3"
  },
  "language_info": {
   "codemirror_mode": {
    "name": "ipython",
    "version": 3
   },
   "file_extension": ".py",
   "mimetype": "text/x-python",
   "name": "python",
   "nbconvert_exporter": "python",
   "pygments_lexer": "ipython3",
   "version": "3.9.1-final"
  }
 },
 "nbformat": 4,
 "nbformat_minor": 4
}