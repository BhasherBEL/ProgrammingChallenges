{
 "cells": [
  {
   "cell_type": "code",
   "execution_count": 100,
   "metadata": {},
   "outputs": [],
   "source": [
    "import collections\n",
    "import math\n",
    "import re\n",
    "import sys\n",
    "import os\n",
    "sys.path.append(os.path.abspath(\"../\"))\n",
    "import itertools\n",
    "from matplotlib import pyplot as plt"
   ]
  },
  {
   "cell_type": "code",
   "execution_count": 6,
   "metadata": {},
   "outputs": [],
   "source": [
    "from utils import *\n",
    "from aoc import *\n",
    "from personal import SESSION"
   ]
  },
  {
   "cell_type": "code",
   "execution_count": 7,
   "metadata": {},
   "outputs": [],
   "source": [
    "aoc = AOC(session=SESSION)"
   ]
  },
  {
   "cell_type": "code",
   "execution_count": 8,
   "metadata": {},
   "outputs": [
    {
     "data": {
      "text/plain": [
       "True"
      ]
     },
     "execution_count": 8,
     "metadata": {},
     "output_type": "execute_result"
    }
   ],
   "source": [
    "aoc.verify_session()"
   ]
  },
  {
   "cell_type": "code",
   "execution_count": 220,
   "metadata": {},
   "outputs": [
    {
     "name": "stdout",
     "output_type": "stream",
     "text": [
      "Local file found.\n",
      "0 empty line(s) found. Analyse as monline data.\n",
      "===== HEAD (5) =====\n",
      "LLLLLL.LLLLLLLLL.LLLLLLL.LLLLLLLLLLLLLLL.LLLLLL.LLLLLLL.LLLLLLLLLLLLL.LLLLL.LLLLLLLLLLLLLLL\n",
      "LLLLLL.LLLLLLLLL.LLLLLLL.LLLLLLLLL.LLLLL.LLLLLL.LLLLLLL.LLLLLLL.LLLLL.LLLLL.LLLLLLLLLLLLLLL\n",
      "LLLLLL.LLLLLLLLL.LLLLLLLLLLLLLLLLL.LLLLL.LLLLLLLLLLLLLL.LLLLLLL.LLLLLLLLLLL.LLLLLLLL.LLLLLL\n",
      "LLLLLL.LLLLLLLLL.LLLLLLL.LLLLLLLLLLLLLLLLLLLLLLLLLLLLLLLLLLLLLL.LLLLL.LLLLL.LLLLLLLL.LLLLLL\n",
      "LLLLLLLLLLLLLLLL.LLLLLLL.LLLLLLLLL.LLLLLLLLLLLL.LLLLLLL.LLLLLLL.LLLLLLLLLLLLLLLLLLLLLLLLLLL\n",
      "====================\n"
     ]
    }
   ],
   "source": [
    "data = aoc.get_today_file().analyse().head().data"
   ]
  },
  {
   "cell_type": "code",
   "execution_count": 204,
   "metadata": {},
   "outputs": [],
   "source": [
    "data = \"\"\"L.LL.LL.LL\n",
    "LLLLLLL.LL\n",
    "L.L.L..L..\n",
    "LLLL.LL.LL\n",
    "L.LL.LL.LL\n",
    "L.LLLLL.LL\n",
    "..L.L.....\n",
    "LLLLLLLLLL\n",
    "L.LLLLLL.L\n",
    "L.LLLLL.LL\"\"\".split('\\n')"
   ]
  },
  {
   "cell_type": "code",
   "execution_count": 221,
   "metadata": {},
   "outputs": [
    {
     "data": {
      "text/plain": [
       "(7231, 0)"
      ]
     },
     "execution_count": 221,
     "metadata": {},
     "output_type": "execute_result"
    }
   ],
   "source": [
    "''.join(data).count('L'), ''.join(data).count('#')"
   ]
  },
  {
   "cell_type": "code",
   "execution_count": 222,
   "metadata": {},
   "outputs": [],
   "source": [
    "data = [list(l) for l in data]"
   ]
  },
  {
   "cell_type": "code",
   "execution_count": 223,
   "metadata": {},
   "outputs": [],
   "source": [
    "def get_adj(x, y):\n",
    "    coords = []\n",
    "    for i in range(-1, 2):\n",
    "        for j in range(-1, 2):\n",
    "            if i != 0 or j != 0:\n",
    "                for k in range(1, len(data)):\n",
    "                    ci = x+i*k\n",
    "                    cj = y+j*k\n",
    "                    if ci < 0 or cj < 0 or ci > len(data)-1 or cj > len(data[ci])-1:\n",
    "                        break\n",
    "                    if data[ci][cj] != '.':\n",
    "                        coords.append((ci, cj))\n",
    "                        break\n",
    "        \n",
    "    return coords"
   ]
  },
  {
   "cell_type": "code",
   "execution_count": 224,
   "metadata": {},
   "outputs": [],
   "source": [
    "def count_adj(x, y):\n",
    "    adj = [data[x][y] for x,y in get_adj(x, y)]\n",
    "    return adj.count('#')"
   ]
  },
  {
   "cell_type": "code",
   "execution_count": 225,
   "metadata": {
    "scrolled": true
   },
   "outputs": [
    {
     "name": "stdout",
     "output_type": "stream",
     "text": [
      "0% - end\n"
     ]
    }
   ],
   "source": [
    "history = {}\n",
    "for k in range(100):\n",
    "    next_data = [['']*len(data[i]) for i in range(len(data))]\n",
    "    for i in range(len(data)):\n",
    "        for j in range(len(data[i])):\n",
    "            if data[i][j] == '.':\n",
    "                next_data[i][j] = '.'\n",
    "                continue\n",
    "            n = count_adj(i, j)\n",
    "            if n == 0:\n",
    "                next_data[i][j] = '#'\n",
    "            elif n >= 5:\n",
    "                next_data[i][j] = 'L'\n",
    "            else:\n",
    "                next_data[i][j] = data[i][j]\n",
    "    a = ''.join([''.join(l) for l in data]).count('#')\n",
    "    b = ''.join([''.join(l) for l in next_data]).count('#')\n",
    "    if a == b:\n",
    "        print('end')\n",
    "        break\n",
    "    history[k] = (a, b)\n",
    "    data = next_data\n",
    "    if not k%100:\n",
    "        print(f'{round(k/100)}% - ', end='')"
   ]
  },
  {
   "cell_type": "code",
   "execution_count": 226,
   "metadata": {},
   "outputs": [
    {
     "data": {
      "text/plain": [
       "2032"
      ]
     },
     "execution_count": 226,
     "metadata": {},
     "output_type": "execute_result"
    }
   ],
   "source": [
    "''.join([''.join(l) for l in data]).count('#')"
   ]
  },
  {
   "cell_type": "code",
   "execution_count": 216,
   "metadata": {},
   "outputs": [
    {
     "data": {
      "text/plain": [
       "(71, 4)"
      ]
     },
     "execution_count": 216,
     "metadata": {},
     "output_type": "execute_result"
    }
   ],
   "source": [
    "list(history.values())[-1]"
   ]
  },
  {
   "cell_type": "code",
   "execution_count": 217,
   "metadata": {},
   "outputs": [
    {
     "data": {
      "text/plain": [
       "[(71, 4)]"
      ]
     },
     "execution_count": 217,
     "metadata": {},
     "output_type": "execute_result"
    }
   ],
   "source": [
    "list(history.values())[-10:]"
   ]
  },
  {
   "cell_type": "code",
   "execution_count": 218,
   "metadata": {},
   "outputs": [
    {
     "data": {
      "text/plain": [
       "['#.LL.LL.L#',\n",
       " 'LLLLLLL.LL',\n",
       " 'L.L.L..L..',\n",
       " 'LLLL.LL.LL',\n",
       " 'L.LL.LL.LL',\n",
       " 'L.LLLLL.LL',\n",
       " '..L.L.....',\n",
       " 'LLLLLLLLLL',\n",
       " 'L.LLLLLL.L',\n",
       " '#.LLLLL.L#']"
      ]
     },
     "execution_count": 218,
     "metadata": {},
     "output_type": "execute_result"
    }
   ],
   "source": [
    "[''.join(l) for l in data]"
   ]
  },
  {
   "cell_type": "code",
   "execution_count": 219,
   "metadata": {},
   "outputs": [
    {
     "data": {
      "text/plain": [
       "[(7, 0), (7, 1), (8, 2), (9, 0)]"
      ]
     },
     "execution_count": 219,
     "metadata": {},
     "output_type": "execute_result"
    }
   ],
   "source": [
    "get_adj(8, 0)"
   ]
  }
 ],
 "metadata": {
  "kernelspec": {
   "display_name": "Python 3",
   "language": "python",
   "name": "python3"
  },
  "language_info": {
   "codemirror_mode": {
    "name": "ipython",
    "version": 3
   },
   "file_extension": ".py",
   "mimetype": "text/x-python",
   "name": "python",
   "nbconvert_exporter": "python",
   "pygments_lexer": "ipython3",
   "version": "3.8.5"
  }
 },
 "nbformat": 4,
 "nbformat_minor": 4
}
