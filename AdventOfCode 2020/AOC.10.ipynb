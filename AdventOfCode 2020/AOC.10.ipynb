{
 "cells": [
  {
   "cell_type": "code",
   "execution_count": 31,
   "metadata": {},
   "outputs": [],
   "source": [
    "import collections\n",
    "import math\n",
    "import re\n",
    "import sys\n",
    "sys.path.append(os.path.abspath(\"../\"))\n",
    "import itertools"
   ]
  },
  {
   "cell_type": "code",
   "execution_count": 5,
   "metadata": {},
   "outputs": [],
   "source": [
    "from utils import *\n",
    "from aoc import *\n",
    "from personal import SESSION"
   ]
  },
  {
   "cell_type": "code",
   "execution_count": 6,
   "metadata": {},
   "outputs": [],
   "source": [
    "aoc = AOC(session=SESSION)"
   ]
  },
  {
   "cell_type": "code",
   "execution_count": 7,
   "metadata": {},
   "outputs": [
    {
     "data": {
      "text/plain": [
       "True"
      ]
     },
     "execution_count": 7,
     "metadata": {},
     "output_type": "execute_result"
    }
   ],
   "source": [
    "aoc.verify_session()"
   ]
  },
  {
   "cell_type": "code",
   "execution_count": 8,
   "metadata": {},
   "outputs": [
    {
     "name": "stdout",
     "output_type": "stream",
     "text": [
      "Data correctly downloaded and saved locally for next usage.\n",
      "100% of data are digits. Analyse as numbers.\n",
      "0 empty line(s) found. Analyse as monline data.\n",
      "===== HEAD (5) =====\n",
      "97\n",
      "62\n",
      "23\n",
      "32\n",
      "51\n",
      "====================\n"
     ]
    }
   ],
   "source": [
    "data = aoc.get_today_file().analyse().head().data"
   ]
  },
  {
   "cell_type": "code",
   "execution_count": 9,
   "metadata": {},
   "outputs": [
    {
     "data": {
      "text/plain": [
       "151"
      ]
     },
     "execution_count": 9,
     "metadata": {},
     "output_type": "execute_result"
    }
   ],
   "source": [
    "max(data)"
   ]
  },
  {
   "cell_type": "code",
   "execution_count": 18,
   "metadata": {},
   "outputs": [
    {
     "data": {
      "text/plain": [
       "'1 2 5 6 7 8 9 12 13 14 15 16 19 22 23 24 25 26 29 30 31 32 35 36 37 38 41 44 45 46 47 50 51 52 53 54 57 58 59 62 63 66 67 68 69 70 73 76 77 78 79 80 83 86 89 90 91 94 95 96 97 98 101 104 107 108 109 110 113 114 115 116 119 120 123 124 125 126 127 130 131 134 137 138 139 140 143 144 145 148 149 150 151'"
      ]
     },
     "execution_count": 18,
     "metadata": {},
     "output_type": "execute_result"
    }
   ],
   "source": [
    "' '.join(map(str, sorted(data)))"
   ]
  },
  {
   "cell_type": "code",
   "execution_count": 23,
   "metadata": {},
   "outputs": [],
   "source": [
    "v = sorted(data)\n",
    "v.insert(0, 0)\n",
    "v.append(max(data)+3)\n",
    "un = 0\n",
    "trois = 0\n",
    "for x, c in enumerate(v[1:]):\n",
    "    diff = c - v[x]\n",
    "    if diff == 1:\n",
    "        un += 1\n",
    "    elif diff == 3:\n",
    "        trois += 1\n",
    "    else:\n",
    "        print(c, v[x], diff)"
   ]
  },
  {
   "cell_type": "code",
   "execution_count": 24,
   "metadata": {},
   "outputs": [
    {
     "data": {
      "text/plain": [
       "1920"
      ]
     },
     "execution_count": 24,
     "metadata": {},
     "output_type": "execute_result"
    }
   ],
   "source": [
    "un*trois"
   ]
  },
  {
   "cell_type": "code",
   "execution_count": 40,
   "metadata": {},
   "outputs": [],
   "source": [
    "parts = [[0]]\n",
    "for x, c in enumerate(v[1:]):\n",
    "    diff = c - v[x]\n",
    "    if diff == 1:\n",
    "        parts[-1].append(c)\n",
    "    elif diff == 3:\n",
    "        parts.append([c])\n",
    "    else:\n",
    "        print(c, v[0], diff)"
   ]
  },
  {
   "cell_type": "code",
   "execution_count": 41,
   "metadata": {},
   "outputs": [
    {
     "data": {
      "text/plain": [
       "[[0, 1, 2],\n",
       " [5, 6, 7, 8, 9],\n",
       " [12, 13, 14, 15, 16],\n",
       " [19],\n",
       " [22, 23, 24, 25, 26],\n",
       " [29, 30, 31, 32],\n",
       " [35, 36, 37, 38],\n",
       " [41],\n",
       " [44, 45, 46, 47],\n",
       " [50, 51, 52, 53, 54],\n",
       " [57, 58, 59],\n",
       " [62, 63],\n",
       " [66, 67, 68, 69, 70],\n",
       " [73],\n",
       " [76, 77, 78, 79, 80],\n",
       " [83],\n",
       " [86],\n",
       " [89, 90, 91],\n",
       " [94, 95, 96, 97, 98],\n",
       " [101],\n",
       " [104],\n",
       " [107, 108, 109, 110],\n",
       " [113, 114, 115, 116],\n",
       " [119, 120],\n",
       " [123, 124, 125, 126, 127],\n",
       " [130, 131],\n",
       " [134],\n",
       " [137, 138, 139, 140],\n",
       " [143, 144, 145],\n",
       " [148, 149, 150, 151],\n",
       " [154]]"
      ]
     },
     "execution_count": 41,
     "metadata": {},
     "output_type": "execute_result"
    }
   ],
   "source": [
    "parts"
   ]
  },
  {
   "cell_type": "code",
   "execution_count": 89,
   "metadata": {},
   "outputs": [],
   "source": [
    "def is_valid(x):\n",
    "    if tuple(sorted(x)) != x:\n",
    "        return False\n",
    "    \n",
    "    for i, c in enumerate(x[1:]):\n",
    "        diff = c - x[i]\n",
    "        if diff > 3 or diff < 1:\n",
    "            return False\n",
    "    \n",
    "    return True"
   ]
  },
  {
   "cell_type": "code",
   "execution_count": 90,
   "metadata": {},
   "outputs": [],
   "source": [
    "valids = []\n",
    "for part in parts:\n",
    "    ap = [(part[0], part[-1]) if len(part) > 1 else (part[0],)]\n",
    "    for i in range(1, len(part)-1):\n",
    "        ap += [(part[0], *v, part[-1]) for v in itertools.combinations(part[1:-1], i)]\n",
    "    valids.append(list(filter(is_valid, ap)))"
   ]
  },
  {
   "cell_type": "code",
   "execution_count": 95,
   "metadata": {},
   "outputs": [
    {
     "data": {
      "text/plain": [
       "[[(0, 2), (0, 1, 2)],\n",
       " [(5, 6, 9),\n",
       "  (5, 7, 9),\n",
       "  (5, 8, 9),\n",
       "  (5, 6, 7, 9),\n",
       "  (5, 6, 8, 9),\n",
       "  (5, 7, 8, 9),\n",
       "  (5, 6, 7, 8, 9)],\n",
       " [(12, 13, 16),\n",
       "  (12, 14, 16),\n",
       "  (12, 15, 16),\n",
       "  (12, 13, 14, 16),\n",
       "  (12, 13, 15, 16),\n",
       "  (12, 14, 15, 16),\n",
       "  (12, 13, 14, 15, 16)],\n",
       " [(19,)],\n",
       " [(22, 23, 26),\n",
       "  (22, 24, 26),\n",
       "  (22, 25, 26),\n",
       "  (22, 23, 24, 26),\n",
       "  (22, 23, 25, 26),\n",
       "  (22, 24, 25, 26),\n",
       "  (22, 23, 24, 25, 26)],\n",
       " [(29, 32), (29, 30, 32), (29, 31, 32), (29, 30, 31, 32)],\n",
       " [(35, 38), (35, 36, 38), (35, 37, 38), (35, 36, 37, 38)],\n",
       " [(41,)],\n",
       " [(44, 47), (44, 45, 47), (44, 46, 47), (44, 45, 46, 47)],\n",
       " [(50, 51, 54),\n",
       "  (50, 52, 54),\n",
       "  (50, 53, 54),\n",
       "  (50, 51, 52, 54),\n",
       "  (50, 51, 53, 54),\n",
       "  (50, 52, 53, 54),\n",
       "  (50, 51, 52, 53, 54)],\n",
       " [(57, 59), (57, 58, 59)],\n",
       " [(62, 63)],\n",
       " [(66, 67, 70),\n",
       "  (66, 68, 70),\n",
       "  (66, 69, 70),\n",
       "  (66, 67, 68, 70),\n",
       "  (66, 67, 69, 70),\n",
       "  (66, 68, 69, 70),\n",
       "  (66, 67, 68, 69, 70)],\n",
       " [(73,)],\n",
       " [(76, 77, 80),\n",
       "  (76, 78, 80),\n",
       "  (76, 79, 80),\n",
       "  (76, 77, 78, 80),\n",
       "  (76, 77, 79, 80),\n",
       "  (76, 78, 79, 80),\n",
       "  (76, 77, 78, 79, 80)],\n",
       " [(83,)],\n",
       " [(86,)],\n",
       " [(89, 91), (89, 90, 91)],\n",
       " [(94, 95, 98),\n",
       "  (94, 96, 98),\n",
       "  (94, 97, 98),\n",
       "  (94, 95, 96, 98),\n",
       "  (94, 95, 97, 98),\n",
       "  (94, 96, 97, 98),\n",
       "  (94, 95, 96, 97, 98)],\n",
       " [(101,)],\n",
       " [(104,)],\n",
       " [(107, 110), (107, 108, 110), (107, 109, 110), (107, 108, 109, 110)],\n",
       " [(113, 116), (113, 114, 116), (113, 115, 116), (113, 114, 115, 116)],\n",
       " [(119, 120)],\n",
       " [(123, 124, 127),\n",
       "  (123, 125, 127),\n",
       "  (123, 126, 127),\n",
       "  (123, 124, 125, 127),\n",
       "  (123, 124, 126, 127),\n",
       "  (123, 125, 126, 127),\n",
       "  (123, 124, 125, 126, 127)],\n",
       " [(130, 131)],\n",
       " [(134,)],\n",
       " [(137, 140), (137, 138, 140), (137, 139, 140), (137, 138, 139, 140)],\n",
       " [(143, 145), (143, 144, 145)],\n",
       " [(148, 151), (148, 149, 151), (148, 150, 151), (148, 149, 150, 151)],\n",
       " [(154,)]]"
      ]
     },
     "execution_count": 95,
     "metadata": {},
     "output_type": "execute_result"
    }
   ],
   "source": [
    "valids"
   ]
  },
  {
   "cell_type": "code",
   "execution_count": 93,
   "metadata": {},
   "outputs": [],
   "source": [
    "res = 1\n",
    "for x in [len(sub) for sub in valids]:\n",
    "    res *= x"
   ]
  }
 ],
 "metadata": {
  "kernelspec": {
   "display_name": "Python 3",
   "language": "python",
   "name": "python3"
  },
  "language_info": {
   "codemirror_mode": {
    "name": "ipython",
    "version": 3
   },
   "file_extension": ".py",
   "mimetype": "text/x-python",
   "name": "python",
   "nbconvert_exporter": "python",
   "pygments_lexer": "ipython3",
   "version": "3.8.5"
  }
 },
 "nbformat": 4,
 "nbformat_minor": 4
}
