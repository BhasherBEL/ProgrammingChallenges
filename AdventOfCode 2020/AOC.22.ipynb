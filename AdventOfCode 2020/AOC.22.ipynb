{
 "cells": [
  {
   "cell_type": "code",
   "execution_count": 58,
   "metadata": {},
   "outputs": [],
   "source": [
    "import collections\n",
    "import math\n",
    "import re\n",
    "import sys\n",
    "import os\n",
    "sys.path.append(os.path.abspath(\"../\"))\n",
    "import itertools\n",
    "from matplotlib import pyplot as plt\n",
    "import functools\n",
    "import pyparsing\n",
    "import pandas as pd\n",
    "import numpy as np\n",
    "import regex\n",
    "import time"
   ]
  },
  {
   "cell_type": "code",
   "execution_count": 2,
   "metadata": {},
   "outputs": [],
   "source": [
    "from utils import *\n",
    "from aoc import *\n",
    "from personal import SESSION"
   ]
  },
  {
   "cell_type": "code",
   "execution_count": 3,
   "metadata": {},
   "outputs": [],
   "source": [
    "aoc = AOC(session=SESSION)"
   ]
  },
  {
   "cell_type": "code",
   "execution_count": 4,
   "metadata": {},
   "outputs": [
    {
     "output_type": "execute_result",
     "data": {
      "text/plain": [
       "True"
      ]
     },
     "metadata": {},
     "execution_count": 4
    }
   ],
   "source": [
    "aoc.verify_session()"
   ]
  },
  {
   "cell_type": "code",
   "execution_count": 154,
   "metadata": {},
   "outputs": [
    {
     "output_type": "stream",
     "name": "stdout",
     "text": [
      "Local file found.\n"
     ]
    }
   ],
   "source": [
    "data = aoc.get_today_file().brut #.analyse().head().data"
   ]
  },
  {
   "cell_type": "code",
   "execution_count": 139,
   "metadata": {},
   "outputs": [],
   "source": [
    "data = \"\"\"Player 1:\n",
    "9\n",
    "2\n",
    "6\n",
    "3\n",
    "1\n",
    "\n",
    "Player 2:\n",
    "5\n",
    "8\n",
    "4\n",
    "7\n",
    "10\"\"\""
   ]
  },
  {
   "cell_type": "code",
   "execution_count": 155,
   "metadata": {},
   "outputs": [],
   "source": [
    "ip1, ip2 = [[int(card) for card in p.split('\\n') if card[:6] != 'Player'] for p in data.split('\\n\\n')]"
   ]
  },
  {
   "cell_type": "code",
   "execution_count": 47,
   "metadata": {
    "tags": []
   },
   "outputs": [],
   "source": [
    "while len(p1) > 0 and len(p2) > 0:\n",
    "    p1card = p1.pop(0)\n",
    "    p2card = p2.pop(0)\n",
    "    if p1card > p2card:\n",
    "        p1.extend([p1card, p2card])\n",
    "    elif p1card < p2card:\n",
    "        p2.extend([p2card, p1card])\n",
    "    else:\n",
    "        p1.append(p1card)\n",
    "        p2.append(p2card)"
   ]
  },
  {
   "cell_type": "code",
   "execution_count": 51,
   "metadata": {},
   "outputs": [],
   "source": [
    "w = p1"
   ]
  },
  {
   "cell_type": "code",
   "execution_count": 52,
   "metadata": {},
   "outputs": [],
   "source": [
    "tot = 0\n",
    "for i in range(1, len(w)+1):\n",
    "    tot += i*w[-i]"
   ]
  },
  {
   "cell_type": "code",
   "execution_count": 53,
   "metadata": {},
   "outputs": [
    {
     "output_type": "execute_result",
     "data": {
      "text/plain": [
       "34324"
      ]
     },
     "metadata": {},
     "execution_count": 53
    }
   ],
   "source": [
    "tot"
   ]
  },
  {
   "cell_type": "code",
   "execution_count": 174,
   "metadata": {},
   "outputs": [],
   "source": [
    "def recursif_game(p1, p2):\n",
    "    history = set()\n",
    "    i = 0\n",
    "    while p1 and p2:\n",
    "        if (tuple(p1), tuple(p2)) in history:\n",
    "            return 1, p1\n",
    "        else:\n",
    "            history.add((tuple(p1), tuple(p2)))\n",
    "\n",
    "        i += 1\n",
    "        \n",
    "        p1card = p1.pop(0)\n",
    "        p2card = p2.pop(0)\n",
    "\n",
    "        # if R == 5: print(p1card, p2card, len(p1), len(p2))\n",
    "        # if R == 5: print(history)\n",
    "\n",
    "        w = None\n",
    "\n",
    "        if p1card <= len(p1) and p2card <= len(p2):\n",
    "            # print('new game !')\n",
    "            w = recursif_game(p1.copy()[:p1card], p2.copy()[:p2card])[0]\n",
    "            # if R == 5: print('eog')\n",
    "        elif p1card > p2card:\n",
    "            # if R == 5: print('p1 !')\n",
    "            w = 1\n",
    "        elif p2card > p1card:\n",
    "            # if R == 5: print('p2 !')\n",
    "            w = 2\n",
    "        else:\n",
    "            pass\n",
    "            # if R == 5: print('Nobody')\n",
    "\n",
    "        if w == 1:\n",
    "            p1.extend([p1card, p2card])\n",
    "        elif w == 2:\n",
    "            p2.extend([p2card, p1card])\n",
    "        else:\n",
    "            p1.append(p1card)\n",
    "            p2.append(p2card)\n",
    "        # if R == 5: time.sleep(1)\n",
    "    \n",
    "    if len(p1) > 0:\n",
    "        return 1, p1\n",
    "    else:\n",
    "        return 2, p2"
   ]
  },
  {
   "cell_type": "code",
   "execution_count": 175,
   "metadata": {
    "tags": []
   },
   "outputs": [],
   "source": [
    "i, w = recursif_game(ip1.copy(), ip2.copy())"
   ]
  },
  {
   "cell_type": "code",
   "execution_count": 165,
   "metadata": {},
   "outputs": [
    {
     "output_type": "execute_result",
     "data": {
      "text/plain": [
       "1"
      ]
     },
     "metadata": {},
     "execution_count": 165
    }
   ],
   "source": [
    "i"
   ]
  },
  {
   "cell_type": "code",
   "execution_count": 166,
   "metadata": {},
   "outputs": [],
   "source": [
    "# != 33473"
   ]
  },
  {
   "cell_type": "code",
   "execution_count": 167,
   "metadata": {},
   "outputs": [
    {
     "output_type": "execute_result",
     "data": {
      "text/plain": [
       "33259"
      ]
     },
     "metadata": {},
     "execution_count": 167
    }
   ],
   "source": [
    "tot = 0\n",
    "for i in range(1, len(w)+1):\n",
    "    tot += i*w[-i]\n",
    "tot"
   ]
  }
 ],
 "metadata": {
  "kernelspec": {
   "display_name": "Python 3",
   "language": "python",
   "name": "python3"
  },
  "language_info": {
   "codemirror_mode": {
    "name": "ipython",
    "version": 3
   },
   "file_extension": ".py",
   "mimetype": "text/x-python",
   "name": "python",
   "nbconvert_exporter": "python",
   "pygments_lexer": "ipython3",
   "version": "3.8.5-final"
  }
 },
 "nbformat": 4,
 "nbformat_minor": 4
}