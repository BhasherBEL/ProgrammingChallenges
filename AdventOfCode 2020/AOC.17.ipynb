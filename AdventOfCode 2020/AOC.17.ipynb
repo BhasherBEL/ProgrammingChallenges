{
 "cells": [
  {
   "cell_type": "code",
   "execution_count": 1,
   "metadata": {},
   "outputs": [],
   "source": [
    "import collections\n",
    "import math\n",
    "import re\n",
    "import sys\n",
    "import os\n",
    "sys.path.append(os.path.abspath(\"../\"))\n",
    "import itertools\n",
    "from matplotlib import pyplot as plt\n",
    "import functools"
   ]
  },
  {
   "cell_type": "code",
   "execution_count": 2,
   "metadata": {},
   "outputs": [],
   "source": [
    "from utils import *\n",
    "from aoc import *\n",
    "from personal import SESSION"
   ]
  },
  {
   "cell_type": "code",
   "execution_count": 3,
   "metadata": {},
   "outputs": [],
   "source": [
    "aoc = AOC(session=SESSION)"
   ]
  },
  {
   "cell_type": "code",
   "execution_count": 4,
   "metadata": {},
   "outputs": [
    {
     "output_type": "execute_result",
     "data": {
      "text/plain": [
       "True"
      ]
     },
     "metadata": {},
     "execution_count": 4
    }
   ],
   "source": [
    "aoc.verify_session()"
   ]
  },
  {
   "cell_type": "code",
   "execution_count": 5,
   "metadata": {},
   "outputs": [
    {
     "output_type": "stream",
     "name": "stdout",
     "text": [
      "Local file found.\n0% of data are digits. Analyse as text.\n0 empty line(s) found. Analyse as monline data.\n===== HEAD (5) =====\n#.#.##.#\n#.####.#\n...##...\n#####.##\n#....###\n====================\n"
     ]
    }
   ],
   "source": [
    "data = aoc.get_today_file().analyse().head().data"
   ]
  },
  {
   "cell_type": "code",
   "execution_count": 23,
   "metadata": {},
   "outputs": [],
   "source": [
    "data = \"\"\".#.\n",
    "..#\n",
    "###\"\"\".split('\\n')"
   ]
  },
  {
   "cell_type": "code",
   "execution_count": 34,
   "metadata": {},
   "outputs": [],
   "source": [
    "coords = Custom.defaultdict(int, depth=3)"
   ]
  },
  {
   "cell_type": "code",
   "execution_count": 35,
   "metadata": {},
   "outputs": [],
   "source": [
    "for y, l in enumerate(data):\n",
    "    for x, state in enumerate(l):\n",
    "        if state == '#':\n",
    "            coords[0][y][x] = 1"
   ]
  },
  {
   "cell_type": "code",
   "execution_count": 36,
   "metadata": {
    "tags": []
   },
   "outputs": [
    {
     "output_type": "stream",
     "name": "stdout",
     "text": [
      "0 0 0 1\n0 1 0 1\n0 2 0 1\n1 2 0 1\n2 2 0 1\ndefaultdict(<function Custom.defaultdict.<locals>.<lambda> at 0x7f417c831e50>, {-1: defaultdict(<function Custom.defaultdict.<locals>.<lambda> at 0x7f417c831700>, {-1: defaultdict(<class 'int'>, {-1: 1, 0: 1, 1: 1}), 0: defaultdict(<class 'int'>, {-1: 2, 0: 2, 1: 2}), 1: defaultdict(<class 'int'>, {-1: 3, 0: 4, 1: 5, 2: 2, 3: 1}), 2: defaultdict(<class 'int'>, {-1: 2, 0: 3, 1: 4, 2: 2, 3: 1}), 3: defaultdict(<class 'int'>, {-1: 1, 0: 2, 1: 3, 2: 2, 3: 1})}), 0: defaultdict(<function Custom.defaultdict.<locals>.<lambda> at 0x7f417c831670>, {-1: defaultdict(<class 'int'>, {-1: 1, 0: 1, 1: 1}), 0: defaultdict(<class 'int'>, {-1: 2, 1: 2, 0: 1}), 1: defaultdict(<class 'int'>, {-1: 3, 0: 3, 1: 5, 2: 2, 3: 1}), 2: defaultdict(<class 'int'>, {-1: 2, 0: 2, 1: 3, 2: 1, 3: 1}), 3: defaultdict(<class 'int'>, {-1: 1, 0: 2, 1: 3, 2: 2, 3: 1})}), 1: defaultdict(<function Custom.defaultdict.<locals>.<lambda> at 0x7f417c8315e0>, {-1: defaultdict(<class 'int'>, {-1: 1, 0: 1, 1: 1}), 0: defaultdict(<class 'int'>, {-1: 2, 0: 2, 1: 2}), 1: defaultdict(<class 'int'>, {-1: 3, 0: 4, 1: 5, 2: 2, 3: 1}), 2: defaultdict(<class 'int'>, {-1: 2, 0: 3, 1: 4, 2: 2, 3: 1}), 3: defaultdict(<class 'int'>, {-1: 1, 0: 2, 1: 3, 2: 2, 3: 1})})})\n"
     ]
    }
   ],
   "source": [
    "for _ in range(1):\n",
    "    next_gen = Custom.defaultdict(int, depth=3)\n",
    "    for z, y, x, state in Iter.deeply(coords):\n",
    "        print(x, y, z, state)\n",
    "        if state == 1:\n",
    "            for c in range(-1, 2):\n",
    "                for b in range(-1, 2):\n",
    "                    for a in range(-1, 2):\n",
    "                        if c == b == a == 0:\n",
    "                            continue\n",
    "                        next_gen[z+c][y+b][x+a] += 1\n",
    "    \n",
    "    print(next_gen)\n",
    "\n",
    "    gen = Custom.defaultdict(int, depth=3)\n",
    "    for z, plan in next_gen.items():\n",
    "        for y, line in plan.items():\n",
    "            for x, count in line.items():\n",
    "                # print(z, y, x, count, coords[z][y][x])\n",
    "                if coords[z][y][x] == 1:\n",
    "                    if 2 <= count <= 3:\n",
    "                        gen[z][y][x] = 1\n",
    "                elif count == 3:\n",
    "                    gen[z][y][x] = 1\n",
    "\n",
    "    coords = gen"
   ]
  },
  {
   "cell_type": "code",
   "execution_count": 27,
   "metadata": {},
   "outputs": [],
   "source": [
    "# min_ = 0\n",
    "# max_ = 0\n",
    "# for z, plan in coords.items():\n",
    "#     for y, line in plan.items():\n",
    "#         for x, state in line.items(): \n",
    "#             if state:\n",
    "#                 if y > max_:\n",
    "#                     max_ = y\n",
    "#                 if x > max_:\n",
    "#                     max_ = x\n",
    "#                 if y < min_:\n",
    "#                     min_ = y\n",
    "#                 if x < min_:\n",
    "#                     min_ = x\n",
    "\n",
    "# for z, plan in coords.items():\n",
    "#     print(f'\\nz={z}')\n",
    "#     for y in range(min_+1, max_+1):\n",
    "#         for x in range(min_, max_):\n",
    "#             print('#' if plan[y][x] else '.', end='')\n",
    "#         print('\\n', end='')"
   ]
  },
  {
   "cell_type": "code",
   "execution_count": 28,
   "metadata": {},
   "outputs": [],
   "source": [
    "i = 0 # real: 380, ex: 112\n",
    "for z, plan in coords.items():\n",
    "    for y, line in plan.items():\n",
    "        for x, state in line.items():\n",
    "            if state:\n",
    "                i += 1"
   ]
  },
  {
   "cell_type": "code",
   "execution_count": 29,
   "metadata": {},
   "outputs": [
    {
     "output_type": "execute_result",
     "data": {
      "text/plain": [
       "48"
      ]
     },
     "metadata": {},
     "execution_count": 29
    }
   ],
   "source": [
    "i"
   ]
  },
  {
   "source": [
    "## Partie 2"
   ],
   "cell_type": "markdown",
   "metadata": {}
  },
  {
   "cell_type": "code",
   "execution_count": 16,
   "metadata": {},
   "outputs": [],
   "source": [
    "coords = Custom.defaultdict(int, depth=4)"
   ]
  },
  {
   "cell_type": "code",
   "execution_count": 17,
   "metadata": {},
   "outputs": [],
   "source": [
    "for y, l in enumerate(data):\n",
    "    for x, state in enumerate(l):\n",
    "        coords[0][0][y][x] = 1 if state == '#' else 0"
   ]
  },
  {
   "cell_type": "code",
   "execution_count": 18,
   "metadata": {},
   "outputs": [],
   "source": [
    "for _ in range(6):\n",
    "    next_gen = Custom.defaultdict(int, depth=4)\n",
    "    for w, space in coords.items():\n",
    "        for z, plan in space.items():\n",
    "            for y, line in plan.items():\n",
    "                for x, state in line.items():\n",
    "                    if state == 1:\n",
    "                        for d in range(-1, 2):\n",
    "                            for c in range(-1, 2):\n",
    "                                for b in range(-1, 2):\n",
    "                                    for a in range(-1, 2):\n",
    "                                        if d == c == b == a == 0:\n",
    "                                            continue\n",
    "                                        next_gen[w+d][z+c][y+b][x+a] += 1\n",
    "\n",
    "    gen = Custom.defaultdict(int, depth=4)\n",
    "    for w, space in next_gen.items():\n",
    "        for z, plan in space.items():\n",
    "            for y, line in plan.items():\n",
    "                for x, count in line.items():\n",
    "                    #print(z, y, x, count, coords[z][y][x])\n",
    "                    if coords[w][z][y][x] == 1:\n",
    "                        if 2 <= count <= 3:\n",
    "                            gen[w][z][y][x] = 1\n",
    "                    elif count == 3:\n",
    "                        gen[w][z][y][x] = 1\n",
    "    coords = gen"
   ]
  },
  {
   "cell_type": "code",
   "execution_count": 19,
   "metadata": {},
   "outputs": [],
   "source": [
    "i = 0 # ex: 848\n",
    "for w, space in coords.items():\n",
    "    for z, plan in space.items():\n",
    "        for y, line in plan.items():\n",
    "            for x, state in line.items():\n",
    "                if state:\n",
    "                    i += 1"
   ]
  },
  {
   "cell_type": "code",
   "execution_count": 20,
   "metadata": {},
   "outputs": [
    {
     "output_type": "execute_result",
     "data": {
      "text/plain": [
       "2332"
      ]
     },
     "metadata": {},
     "execution_count": 20
    }
   ],
   "source": [
    "i"
   ]
  }
 ],
 "metadata": {
  "kernelspec": {
   "display_name": "Python 3",
   "language": "python",
   "name": "python3"
  },
  "language_info": {
   "codemirror_mode": {
    "name": "ipython",
    "version": 3
   },
   "file_extension": ".py",
   "mimetype": "text/x-python",
   "name": "python",
   "nbconvert_exporter": "python",
   "pygments_lexer": "ipython3",
   "version": "3.8.5-final"
  }
 },
 "nbformat": 4,
 "nbformat_minor": 4
}