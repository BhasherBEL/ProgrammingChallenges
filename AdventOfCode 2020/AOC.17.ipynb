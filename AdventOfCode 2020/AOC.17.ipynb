{
 "cells": [
  {
   "cell_type": "code",
   "execution_count": 1,
   "metadata": {},
   "outputs": [],
   "source": [
    "import collections\n",
    "import math\n",
    "import re\n",
    "import sys\n",
    "import os\n",
    "sys.path.append(os.path.abspath(\"../\"))\n",
    "import itertools\n",
    "from matplotlib import pyplot as plt\n",
    "import functools"
   ]
  },
  {
   "cell_type": "code",
   "execution_count": 2,
   "metadata": {},
   "outputs": [],
   "source": [
    "from utils import *\n",
    "from aoc import *\n",
    "from personal import SESSION"
   ]
  },
  {
   "cell_type": "code",
   "execution_count": 3,
   "metadata": {},
   "outputs": [],
   "source": [
    "aoc = AOC(session=SESSION)"
   ]
  },
  {
   "cell_type": "code",
   "execution_count": 4,
   "metadata": {},
   "outputs": [
    {
     "output_type": "execute_result",
     "data": {
      "text/plain": [
       "True"
      ]
     },
     "metadata": {},
     "execution_count": 4
    }
   ],
   "source": [
    "aoc.verify_session()"
   ]
  },
  {
   "cell_type": "code",
   "execution_count": 91,
   "metadata": {},
   "outputs": [
    {
     "output_type": "stream",
     "name": "stdout",
     "text": [
      "Local file found.\n0 empty line(s) found. Analyse as monline data.\n===== HEAD (5) =====\n#.#.##.#\n#.####.#\n...##...\n#####.##\n#....###\n====================\n"
     ]
    }
   ],
   "source": [
    "data = aoc.get_today_file().analyse().head().data"
   ]
  },
  {
   "cell_type": "code",
   "execution_count": 67,
   "metadata": {},
   "outputs": [],
   "source": [
    "data = \"\"\".#.\n",
    "..#\n",
    "###\"\"\".split('\\n')"
   ]
  },
  {
   "cell_type": "code",
   "execution_count": 60,
   "metadata": {},
   "outputs": [],
   "source": [
    "coords = collections.defaultdict(lambda: collections.defaultdict(lambda: collections.defaultdict(int)))"
   ]
  },
  {
   "cell_type": "code",
   "execution_count": 61,
   "metadata": {},
   "outputs": [],
   "source": [
    "for y, l in enumerate(data):\n",
    "    for x, state in enumerate(l):\n",
    "        coords[0][y][x] = 1 if state == '#' else 0"
   ]
  },
  {
   "cell_type": "code",
   "execution_count": 63,
   "metadata": {
    "tags": []
   },
   "outputs": [],
   "source": [
    "for _ in range(6):\n",
    "    next_gen = collections.defaultdict(lambda: collections.defaultdict(lambda: collections.defaultdict(int)))\n",
    "    for z, plan in coords.items():\n",
    "        for y, line in plan.items():\n",
    "            for x, state in line.items():\n",
    "                if state == 1:\n",
    "                    for c in range(-1, 2):\n",
    "                        for b in range(-1, 2):\n",
    "                            for a in range(-1, 2):\n",
    "                                if c == b == a == 0:\n",
    "                                    continue\n",
    "                                next_gen[z+c][y+b][x+a] += 1\n",
    "\n",
    "    gen = collections.defaultdict(lambda: collections.defaultdict(lambda: collections.defaultdict(int)))\n",
    "    for z, plan in next_gen.items():\n",
    "        for y, line in plan.items():\n",
    "            for x, count in line.items():\n",
    "                # print(z, y, x, count, coords[z][y][x])\n",
    "                if coords[z][y][x] == 1:\n",
    "                    if 2 <= count <= 3:\n",
    "                        gen[z][y][x] = 1\n",
    "                elif count == 3:\n",
    "                    gen[z][y][x] = 1\n",
    "\n",
    "    coords = gen"
   ]
  },
  {
   "cell_type": "code",
   "execution_count": 64,
   "metadata": {},
   "outputs": [],
   "source": [
    "i = 0\n",
    "for z, plan in coords.items():\n",
    "    for y, line in plan.items():\n",
    "        for x, state in line.items():\n",
    "            if state:\n",
    "                i += 1"
   ]
  },
  {
   "cell_type": "code",
   "execution_count": 65,
   "metadata": {},
   "outputs": [
    {
     "output_type": "execute_result",
     "data": {
      "text/plain": [
       "380"
      ]
     },
     "metadata": {},
     "execution_count": 65
    }
   ],
   "source": [
    "i"
   ]
  },
  {
   "source": [
    "## Partie 2"
   ],
   "cell_type": "markdown",
   "metadata": {}
  },
  {
   "cell_type": "code",
   "execution_count": 92,
   "metadata": {},
   "outputs": [],
   "source": [
    "coords = collections.defaultdict(lambda: collections.defaultdict(lambda: collections.defaultdict(lambda: collections.defaultdict(int))))"
   ]
  },
  {
   "cell_type": "code",
   "execution_count": 93,
   "metadata": {},
   "outputs": [],
   "source": [
    "for y, l in enumerate(data):\n",
    "    for x, state in enumerate(l):\n",
    "        coords[0][0][y][x] = 1 if state == '#' else 0"
   ]
  },
  {
   "cell_type": "code",
   "execution_count": 94,
   "metadata": {},
   "outputs": [],
   "source": [
    "for _ in range(6):\n",
    "    next_gen = collections.defaultdict(lambda: collections.defaultdict(lambda: collections.defaultdict(lambda: collections.defaultdict(int))))\n",
    "    for w, space in coords.items():\n",
    "        for z, plan in space.items():\n",
    "            for y, line in plan.items():\n",
    "                for x, state in line.items():\n",
    "                    if state == 1:\n",
    "                        for d in range(-1, 2):\n",
    "                            for c in range(-1, 2):\n",
    "                                for b in range(-1, 2):\n",
    "                                    for a in range(-1, 2):\n",
    "                                        if d == c == b == a == 0:\n",
    "                                            continue\n",
    "                                        next_gen[w+d][z+c][y+b][x+a] += 1\n",
    "\n",
    "    gen = collections.defaultdict(lambda: collections.defaultdict(lambda: collections.defaultdict(lambda: collections.defaultdict(int))))\n",
    "    for w, space in next_gen.items():\n",
    "        for z, plan in space.items():\n",
    "            for y, line in plan.items():\n",
    "                for x, count in line.items():\n",
    "                    #print(z, y, x, count, coords[z][y][x])\n",
    "                    if coords[w][z][y][x] == 1:\n",
    "                        if 2 <= count <= 3:\n",
    "                            gen[w][z][y][x] = 1\n",
    "                    elif count == 3:\n",
    "                        gen[w][z][y][x] = 1\n",
    "    coords = gen"
   ]
  },
  {
   "cell_type": "code",
   "execution_count": 95,
   "metadata": {},
   "outputs": [],
   "source": [
    "i = 0 # ex: 848\n",
    "for w, space in coords.items():\n",
    "    for z, plan in space.items():\n",
    "        for y, line in plan.items():\n",
    "            for x, state in line.items():\n",
    "                if state:\n",
    "                    i += 1"
   ]
  },
  {
   "cell_type": "code",
   "execution_count": 96,
   "metadata": {},
   "outputs": [
    {
     "output_type": "execute_result",
     "data": {
      "text/plain": [
       "2332"
      ]
     },
     "metadata": {},
     "execution_count": 96
    }
   ],
   "source": [
    "i"
   ]
  }
 ],
 "metadata": {
  "kernelspec": {
   "display_name": "Python 3",
   "language": "python",
   "name": "python3"
  },
  "language_info": {
   "codemirror_mode": {
    "name": "ipython",
    "version": 3
   },
   "file_extension": ".py",
   "mimetype": "text/x-python",
   "name": "python",
   "nbconvert_exporter": "python",
   "pygments_lexer": "ipython3",
   "version": "3.8.5-final"
  }
 },
 "nbformat": 4,
 "nbformat_minor": 4
}