{
 "cells": [
  {
   "cell_type": "code",
   "execution_count": 1,
   "metadata": {},
   "outputs": [],
   "source": [
    "import collections\n",
    "import math\n",
    "import re\n",
    "import sys\n",
    "import os\n",
    "sys.path.append(os.path.abspath(\"../\"))\n",
    "import itertools\n",
    "from matplotlib import pyplot as plt\n",
    "import functools\n",
    "import pyparsing\n",
    "import pandas as pd\n",
    "import numpy as np\n",
    "import regex"
   ]
  },
  {
   "cell_type": "code",
   "execution_count": 2,
   "metadata": {},
   "outputs": [],
   "source": [
    "from utils import *\n",
    "from aoc import *\n",
    "from personal import SESSION"
   ]
  },
  {
   "cell_type": "code",
   "execution_count": 3,
   "metadata": {},
   "outputs": [],
   "source": [
    "aoc = AOC(session=SESSION)"
   ]
  },
  {
   "cell_type": "code",
   "execution_count": 4,
   "metadata": {},
   "outputs": [
    {
     "output_type": "execute_result",
     "data": {
      "text/plain": [
       "True"
      ]
     },
     "metadata": {},
     "execution_count": 4
    }
   ],
   "source": [
    "aoc.verify_session()"
   ]
  },
  {
   "cell_type": "code",
   "execution_count": 5,
   "metadata": {},
   "outputs": [
    {
     "output_type": "stream",
     "name": "stdout",
     "text": [
      "Local file found.\n0% of data are digits. Analyse as text.\n0 empty line(s) found. Analyse as monline data.\n===== HEAD (5) =====\nhptqj nsmzxmb fzrl dqzqc lpdzt jlsqx hxppxj thfxd cvlsf fnntr zjjtk skvtqh bkjmj ndqqkkd fjcbvv kjdn fgnb tnlcqmx lnsxs dkzjl gzvsg xcfmb psgkj qlzk bxpb sdhjcs csqc tr mdkpg lnmrmr lqvmhb xlfp mvrqd lvv vdsxp zsqxl nsdr kqrp dsrh pqvfd rzkptk knct dsbjd xdbdgc vsxk cvbn jvkn mjg xblchx vqdxs mndfgv vgpgn mvsx vslznhr (contains wheat)\nlnsxs fmvgfst zsqxl nsmzxmb mdpvf jkpfxt fsz csqc vqdxs kgbb hpldm hptqj zzdfft skdjptd thbb tkvbkrvr dtzvnzxp qbggml kcx rpcj czmjt lxdl ltknct srnccvg vrrd pxhg xdbdgc tfq cspfk mqp lxnh lxpkp lvv jdmcbz vxmcb jngk mzdbdc fnntr mdkpg rhzkpc mvrqd lpdzt gvxbm fgnr jbczm xcfmb lmnvt kbxstnn lnmrmr ngmrdp xggpr kfrzs hxppxj hnsrvm dsrh trlqzsk tnlrhk rdzn skvtqh jhjx zjjtk tr xjqdvc mflzcf nsdr sljbmk jlsqx bvhnk lqvmhb bbmjz gzvsg kqqjrlv xlfp pmz mndfgv (contains wheat)\nfhmbh jlsqx lfxmc jdmcbz lnsxs jvkgsj bvjhb kfrzs lvv lqvmhb hmgdj pmz xggpr csqc rdzn mdmtq mqvzft ngmrdp xblchx mgfh qzbgm lvxtx jvkn ngqg mvsx nsmzxmb kcx jbczm bkjmj thfxd cvlsf vsjp vgjvgx qlzk ffkmkm tfq xjqdvc ltxpx gncmsr vsfkjj lmnvt tr xcfmb jhjx kbrdvh nnhkkc xkgp fkgdkc bbmjz bffbj mqndc gzvsg hjnxgz zvdrl sdfp mvgvxn trlqzsk pnbl gfr tkglrrcb kqrp phhf vc qxx gvxbm zdhp glrg ckpflp llfr vslznhr pjgmtx vgpgn gbbbjxj vqsf pxhg (contains eggs, wheat, sesame)\nfmvgfst dkzjl dtzvnzxp qzzpf tnlcqmx zzdfft gzvsg qppgg fjcbvv ngb zgvgj fhmbh xkxc tr fgnr xlfp rjqbv gncmsr lvv lkxrvrjp vsfkjj mflzcf qbggml jbczm mjg hnhj jlsqx jhjx fsz pqvfd xblchx lxdl mndfgv dhsk ngqg xcfmb jvkn kbrdvh pslqnv jtjs vgpgn vgjvgx pjgmtx cknjx hxppxj csqc rhzkpc mdmtq nsdr cvbn fnntr lrpfxc nnhkkc lnsxs vrrd ckpflp tnlrhk (contains peanuts, wheat)\njlsqx lvv kcx bbmjz pmz rpcj kqqjrlv jvkgsj bqxxl fhmbh ttbgq lxpkp zvdrl flvc thbprk ksgd fqsncq gfr cglxq csqc lvxtx vc ldh dqzqc pnbl gzht ngb xlfp xblchx fsz crmpqf ltknct mxtl ngqg vfff rzkptk nnhkkc bvjhb fjcbvv mzdbdc fnntr vqdxs jvkn mgfh nsdr fxk vslznhr mqp ckpflp thfxd hnhj xjqdvc zzdfft tznvr cknjx pjgmtx dvt sdfp srnccvg mvgvxn phhf lknbrdfg nsmzxmb sljbmk kfrzs dhsk gzvsg (contains soy, dairy, wheat)\n====================\n"
     ]
    }
   ],
   "source": [
    "data = aoc.get_today_file().analyse().head().data"
   ]
  },
  {
   "cell_type": "code",
   "execution_count": 6,
   "metadata": {},
   "outputs": [],
   "source": [
    "data = \"\"\"mxmxvkd kfcds sqjhc nhms (contains dairy, fish)\n",
    "trh fvjkl sbzzf mxmxvkd (contains dairy)\n",
    "sqjhc fvjkl (contains soy)\n",
    "sqjhc mxmxvkd sbzzf (contains fish)\"\"\".split('\\n')"
   ]
  },
  {
   "cell_type": "code",
   "execution_count": 19,
   "metadata": {},
   "outputs": [],
   "source": [
    "candidates = {}\n",
    "all_ingredients = []\n",
    "for l in data:\n",
    "    analyze = regex.search(r'(?:(?P<ingredients>\\w+)(?: )?)+\\(contains (?:(?P<allergens>\\w+)(?:, )?)+\\)', l).capturesdict()\n",
    "    all_ingredients.extend(analyze['ingredients'])\n",
    "    for allergen in analyze['allergens']:\n",
    "        if allergen in candidates:\n",
    "            candidates[allergen] &= set(analyze['ingredients'])\n",
    "        else:\n",
    "            candidates[allergen] = set(analyze['ingredients'])"
   ]
  },
  {
   "cell_type": "code",
   "execution_count": 20,
   "metadata": {},
   "outputs": [
    {
     "output_type": "execute_result",
     "data": {
      "text/plain": [
       "{'dairy': {'mxmxvkd'}, 'fish': {'mxmxvkd', 'sqjhc'}, 'soy': {'fvjkl', 'sqjhc'}}"
      ]
     },
     "metadata": {},
     "execution_count": 20
    }
   ],
   "source": [
    "candidates"
   ]
  },
  {
   "cell_type": "code",
   "execution_count": 21,
   "metadata": {},
   "outputs": [],
   "source": [
    "finded = {}\n",
    "while candidates:\n",
    "    for allergen, ingredient in list(candidates.items()):\n",
    "        if len(ingredient) == 1:\n",
    "            finded[allergen] = min(ingredient)\n",
    "            del candidates[allergen]\n",
    "        else:\n",
    "            candidates[allergen] -= set(finded.values())"
   ]
  },
  {
   "cell_type": "code",
   "execution_count": 22,
   "metadata": {},
   "outputs": [
    {
     "output_type": "execute_result",
     "data": {
      "text/plain": [
       "{'dairy': 'mxmxvkd', 'fish': 'sqjhc', 'soy': 'fvjkl'}"
      ]
     },
     "metadata": {},
     "execution_count": 22
    }
   ],
   "source": [
    "finded"
   ]
  },
  {
   "cell_type": "code",
   "execution_count": 23,
   "metadata": {},
   "outputs": [
    {
     "output_type": "stream",
     "name": "stdout",
     "text": [
      "First: 5\n"
     ]
    }
   ],
   "source": [
    "print('First:', len([ingredient for ingredient in all_ingredients if ingredient not in finded.values()]))"
   ]
  },
  {
   "cell_type": "code",
   "execution_count": 24,
   "metadata": {},
   "outputs": [
    {
     "output_type": "stream",
     "name": "stdout",
     "text": [
      "Second: mxmxvkd,sqjhc,fvjkl\n"
     ]
    }
   ],
   "source": [
    "print('Second:', ','.join([v for k,v in sorted(finded.items())]))"
   ]
  }
 ],
 "metadata": {
  "kernelspec": {
   "display_name": "Python 3",
   "language": "python",
   "name": "python3"
  },
  "language_info": {
   "codemirror_mode": {
    "name": "ipython",
    "version": 3
   },
   "file_extension": ".py",
   "mimetype": "text/x-python",
   "name": "python",
   "nbconvert_exporter": "python",
   "pygments_lexer": "ipython3",
   "version": "3.8.5-final"
  }
 },
 "nbformat": 4,
 "nbformat_minor": 4
}