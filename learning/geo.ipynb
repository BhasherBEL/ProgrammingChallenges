{
 "cells": [
  {
   "cell_type": "code",
   "execution_count": 174,
   "metadata": {},
   "outputs": [],
   "source": [
    "import numpy as np\n",
    "from matplotlib import pyplot as plt\n",
    "from collections import defaultdict"
   ]
  },
  {
   "cell_type": "code",
   "execution_count": 269,
   "metadata": {},
   "outputs": [],
   "source": [
    "lim = 1000000\n",
    "coords = np.random.randint(0, lim, size=(10000000, 2))\n",
    "me =  np.random.randint(0, lim, size=2)\n",
    "size = 200"
   ]
  },
  {
   "cell_type": "code",
   "execution_count": 281,
   "metadata": {},
   "outputs": [],
   "source": [
    "grid_size = 100\n",
    "step = lim//grid_size\n",
    "areas = {(i, j): [] for i in range(grid_size) for j in range(grid_size)}"
   ]
  },
  {
   "cell_type": "code",
   "execution_count": 283,
   "metadata": {},
   "outputs": [
    {
     "data": {
      "text/plain": [
       "10000.0"
      ]
     },
     "execution_count": 283,
     "metadata": {},
     "output_type": "execute_result"
    }
   ],
   "source": [
    "lim / grid_size"
   ]
  },
  {
   "cell_type": "code",
   "execution_count": 271,
   "metadata": {},
   "outputs": [],
   "source": [
    "for c in coords:\n",
    "    area = c // step\n",
    "    zones = [area]\n",
    "    border_dist = c - area * step\n",
    "    if border_dist[0] <= size:\n",
    "        zones.append(area + (-1, 0))\n",
    "        if border_dist[1] <= size:\n",
    "            zones.append(area + (-1, -1))\n",
    "        elif border_dist[1] >= step-size:\n",
    "            zones.append(area + (-1, 1))\n",
    "    elif border_dist[0] >= step-size:\n",
    "        zones.append(area + (1, 0))\n",
    "        if border_dist[1] <= size:\n",
    "            zones.append(area + (1, -1))\n",
    "        elif border_dist[1] <= step-size:\n",
    "            zones.append(area + (1, 1))\n",
    "    elif border_dist[1] <= size:\n",
    "        zones.append(area + (0, -1))\n",
    "    elif border_dist[1] >= step-size:\n",
    "        zones.append(area + (0, 1))\n",
    "\n",
    "    for zone in zones:\n",
    "        try:\n",
    "            areas[tuple(zone)].append(c)\n",
    "        except KeyError:\n",
    "            pass\n",
    "    "
   ]
  },
  {
   "cell_type": "code",
   "execution_count": 248,
   "metadata": {},
   "outputs": [],
   "source": [
    "def get_neighbours(co, areas):\n",
    "    return np.array(areas[tuple(co // step)])"
   ]
  },
  {
   "cell_type": "code",
   "execution_count": 272,
   "metadata": {},
   "outputs": [
    {
     "data": {
      "text/plain": [
       "'Deduplicate data: 9.79%'"
      ]
     },
     "execution_count": 272,
     "metadata": {},
     "output_type": "execute_result"
    }
   ],
   "source": [
    "f'Deduplicate data: {sum({k: len(v) for k, v in areas.items()}.values())/len(coords) - 1:.2%}'"
   ]
  },
  {
   "cell_type": "code",
   "execution_count": 273,
   "metadata": {},
   "outputs": [],
   "source": [
    "def dist(a, b):\n",
    "    return ((a[0]-b[0])**2 + (a[1]-b[1])**2)**0.5"
   ]
  },
  {
   "cell_type": "code",
   "execution_count": 251,
   "metadata": {},
   "outputs": [],
   "source": [
    "near = np.array([c for c in coords if dist(me, c) <= size])"
   ]
  },
  {
   "cell_type": "code",
   "execution_count": 274,
   "metadata": {},
   "outputs": [],
   "source": [
    "neighbourhood = get_neighbours(me, areas)\n",
    "near_opti = np.array([c for c in neighbourhood if dist(me, c) <= size])"
   ]
  },
  {
   "cell_type": "code",
   "execution_count": 275,
   "metadata": {},
   "outputs": [
    {
     "name": "stdout",
     "output_type": "stream",
     "text": [
      "0.000030% (1/3333333)\n"
     ]
    }
   ],
   "source": [
    "print(f'{len(near)/len(coords):%} (1/{len(coords)/len(near):.0f})')"
   ]
  },
  {
   "cell_type": "code",
   "execution_count": 276,
   "metadata": {},
   "outputs": [
    {
     "data": {
      "text/plain": [
       "<matplotlib.patches.Circle at 0x7f8f2a580340>"
      ]
     },
     "execution_count": 276,
     "metadata": {},
     "output_type": "execute_result"
    },
    {
     "data": {
      "image/png": "[encoded data removed]",
      "text/plain": [
       "<Figure size 504x504 with 1 Axes>"
      ]
     },
     "metadata": {
      "needs_background": "light"
     },
     "output_type": "display_data"
    }
   ],
   "source": [
    "plt.figure(figsize=(7, 7))\n",
    "plt.ylim(0, lim)\n",
    "plt.xlim(0, lim)\n",
    "# plt.xlim(me[0] - size * 1.2, me[0] + size * 1.2)\n",
    "# plt.ylim(me[1] - size * 1.2, me[1] + size * 1.2)\n",
    "plt.scatter(coords[:, 0], coords[:, 1], s=0.1, alpha=0.1)\n",
    "plt.scatter(neighbourhood[:, 0], neighbourhood[:, 1], s=0.1, alpha=0.2)\n",
    "plt.scatter(near_opti[:, 0], near_opti[:, 1], color='red', s=0.1)\n",
    "plt.plot(me[0], me[1], 'x', color='red')\n",
    "ax = plt.gca()\n",
    "ax.add_patch(plt.Circle(me, size, color='red', fill=False))"
   ]
  }
 ],
 "metadata": {
  "kernelspec": {
   "display_name": "Python 3.10.5 64-bit",
   "language": "python",
   "name": "python3"
  },
  "language_info": {
   "codemirror_mode": {
    "name": "ipython",
    "version": 3
   },
   "file_extension": ".py",
   "mimetype": "text/x-python",
   "name": "python",
   "nbconvert_exporter": "python",
   "pygments_lexer": "ipython3",
   "version": "3.10.5"
  },
  "orig_nbformat": 4,
  "vscode": {
   "interpreter": {
    "hash": "e7370f93d1d0cde622a1f8e1c04877d8463912d04d973331ad4851f04de6915a"
   }
  }
 },
 "nbformat": 4,
 "nbformat_minor": 2
}
