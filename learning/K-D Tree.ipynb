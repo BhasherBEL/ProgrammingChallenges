{
 "cells": [
  {
   "cell_type": "code",
   "execution_count": 1,
   "id": "c20241c4",
   "metadata": {},
   "outputs": [],
   "source": [
    "import numpy as np\n",
    "from matplotlib import pyplot as plt"
   ]
  },
  {
   "cell_type": "code",
   "execution_count": 117,
   "id": "af16e487",
   "metadata": {},
   "outputs": [],
   "source": [
    "n = 100\n",
    "k = 2\n",
    "min_ = 0\n",
    "max_ = 1000\n",
    "data = np.random.randint(min_, max_, [n, k])"
   ]
  },
  {
   "cell_type": "code",
   "execution_count": 118,
   "id": "843d9d87",
   "metadata": {},
   "outputs": [],
   "source": [
    "new = np.random.randint(min_, max_, [1, k])"
   ]
  },
  {
   "cell_type": "code",
   "execution_count": 120,
   "id": "18fe0673",
   "metadata": {},
   "outputs": [],
   "source": [
    "class KDTree:\n",
    "    def __init__(self, coords, dim, parent=None, right=None, left=None):\n",
    "        self.coords = coords\n",
    "        self.dim = dim\n",
    "        self.parent = parent\n",
    "        self.right = right\n",
    "        self.left = left"
   ]
  },
  {
   "cell_type": "code",
   "execution_count": 121,
   "id": "827d2557",
   "metadata": {},
   "outputs": [],
   "source": [
    "def build_kdtree(data, curr_dim=0):\n",
    "    if not len(data):\n",
    "        return None\n",
    "    data = np.array(sorted(data, key=lambda x: x[curr_dim]))\n",
    "    tree = KDTree(\n",
    "        coords=data[len(data)//2],\n",
    "        dim=curr_dim,\n",
    "        parent=None,\n",
    "        right=build_kdtree(data[:len(data)//2], (curr_dim+1) % data.ndim),\n",
    "        left=build_kdtree(data[len(data)//2+1:], (curr_dim+1) % data.ndim)\n",
    "    )\n",
    "    if tree.right:\n",
    "        tree.right.parent = tree\n",
    "    if tree.left:\n",
    "        tree.left.parent = tree\n",
    "    return tree"
   ]
  },
  {
   "cell_type": "code",
   "execution_count": 122,
   "id": "29b16da0",
   "metadata": {},
   "outputs": [],
   "source": [
    "def kdsearch(kdtree, coords):\n",
    "    if kdtree.left is None and kdtree.right is None:\n",
    "        return kdtree\n",
    "    \n",
    "    if kdtree.coords[kdtree.dim] <= coords[kdtree.dim]:\n",
    "        return kdsearch(kdtree.left, coords)\n",
    "    return kdsearch(kdtree.right, coords)"
   ]
  },
  {
   "cell_type": "code",
   "execution_count": 123,
   "id": "a1d03158",
   "metadata": {},
   "outputs": [],
   "source": [
    "tree = build_kdtree(data)"
   ]
  },
  {
   "cell_type": "code",
   "execution_count": 124,
   "id": "7d3deb49",
   "metadata": {},
   "outputs": [
    {
     "data": {
      "image/png": "[encoded data removed]",
      "text/plain": [
       "<Figure size 500x500 with 1 Axes>"
      ]
     },
     "metadata": {},
     "output_type": "display_data"
    }
   ],
   "source": [
    "plt.figure(figsize=(5, 5))\n",
    "plt.scatter(*data.T)\n",
    "plt.scatter(*new.T, color='red')\n",
    "plt.scatter(*kdsearch(tree, new[0]).coords, color='orange')\n",
    "plt.ylim(min_, max_)\n",
    "_ = plt.xlim(min_, max_)"
   ]
  }
 ],
 "metadata": {
  "kernelspec": {
   "display_name": "Python 3 (ipykernel)",
   "language": "python",
   "name": "python3"
  },
  "language_info": {
   "codemirror_mode": {
    "name": "ipython",
    "version": 3
   },
   "file_extension": ".py",
   "mimetype": "text/x-python",
   "name": "python",
   "nbconvert_exporter": "python",
   "pygments_lexer": "ipython3",
   "version": "3.10.8"
  }
 },
 "nbformat": 4,
 "nbformat_minor": 5
}
