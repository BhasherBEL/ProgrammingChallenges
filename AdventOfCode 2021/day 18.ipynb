{
 "cells": [
  {
   "cell_type": "code",
   "execution_count": 312,
   "metadata": {
    "collapsed": true
   },
   "outputs": [],
   "source": [
    "from __future__ import annotations\n",
    "import math\n",
    "from utils import Utils, AOC\n",
    "from session import SESSION\n",
    "from collections import defaultdict\n",
    "from functools import reduce\n",
    "import numpy as np\n",
    "import re"
   ]
  },
  {
   "cell_type": "code",
   "execution_count": 2,
   "metadata": {
    "pycharm": {
     "name": "#%%\n"
    }
   },
   "outputs": [],
   "source": [
    "aoc = AOC(session=SESSION)"
   ]
  },
  {
   "cell_type": "code",
   "execution_count": 3,
   "metadata": {
    "pycharm": {
     "name": "#%%\n"
    }
   },
   "outputs": [
    {
     "data": {
      "text/plain": [
       "True"
      ]
     },
     "execution_count": 3,
     "metadata": {},
     "output_type": "execute_result"
    }
   ],
   "source": [
    "aoc.verify_session()"
   ]
  },
  {
   "cell_type": "code",
   "execution_count": 4,
   "metadata": {
    "pycharm": {
     "name": "#%%\n"
    }
   },
   "outputs": [
    {
     "name": "stdout",
     "output_type": "stream",
     "text": [
      "Data correctly downloaded and saved locally for next usage.\n",
      "100% of data are digits. Analyse as numbers.\n",
      "0 empty line(s) found. Analyse as monline data.\n",
      "===== HEAD (5/100) =====\n",
      "[9 2 2 9 0 1 2 3 0]\n",
      "[2 0 2 6 4 7 3 0 3 0 0 6]\n",
      "[7 2 2 9 6 5 2 4 5]\n",
      "[7 8 2 1 5 4 2 9 7 8]\n",
      "[0 7 1 6 6 0 7 9 4]\n",
      "========================\n"
     ]
    },
    {
     "name": "stderr",
     "output_type": "stream",
     "text": [
      "/home/bhasher/Documents/development/projects/personal/ProgrammingChallenges/utils_components/aoc2.py:118: VisibleDeprecationWarning: Creating an ndarray from ragged nested sequences (which is a list-or-tuple of lists-or-tuples-or ndarrays with different lengths or shapes) is deprecated. If you meant to do this, you must specify 'dtype=object' when creating the ndarray.\n",
      "  result = np.array([np.array([parse_number(el) for el in re.findall(r'\\d+\\.\\d+|\\d+', line)]) for line in group])\n"
     ]
    },
    {
     "data": {
      "text/plain": [
       "<utils_components.aoc2.AOC at 0x7fed849f3400>"
      ]
     },
     "execution_count": 4,
     "metadata": {},
     "output_type": "execute_result"
    }
   ],
   "source": [
    "aoc.get_today_file().analyse().head()"
   ]
  },
  {
   "cell_type": "code",
   "execution_count": 397,
   "metadata": {
    "pycharm": {
     "name": "#%%\n"
    }
   },
   "outputs": [],
   "source": [
    "class Node:\n",
    "    def __init__(self, value: int, previous=None, next=None):\n",
    "        self.value: int = int(value)\n",
    "        self.previous: Node = previous\n",
    "        self.next: Node = next\n",
    "\n",
    "    def __repr__(self):\n",
    "        return str(self.value)\n",
    "\n",
    "    def __copy__(self):\n",
    "        return Node(self.value, self.previous, self.next)"
   ]
  },
  {
   "cell_type": "code",
   "execution_count": 328,
   "metadata": {
    "pycharm": {
     "name": "#%%\n"
    }
   },
   "outputs": [],
   "source": [
    "class SnNumber:\n",
    "    def __init__(self, left_child, right_child, parent=None):\n",
    "        self.left_child: SnNumber|Node = left_child\n",
    "        self.right_child: SnNumber|Node = right_child\n",
    "        self.parent: SnNumber = parent\n",
    "        self.head = None\n",
    "\n",
    "    @staticmethod\n",
    "    def parse(text: str, parent=None):\n",
    "        text = text.strip().replace(' ', '')\n",
    "        opening = 0\n",
    "        for i, el in enumerate(text):\n",
    "            if el == '[':\n",
    "                opening += 1\n",
    "            elif el == ']':\n",
    "                opening -= 1\n",
    "            elif el == ',' and opening == 1:\n",
    "                snn = SnNumber(None, None, parent=parent)\n",
    "\n",
    "                snn.left_child = Node(left) if (left := text[1:i]).isdigit() else SnNumber.parse(left, snn)\n",
    "                snn.right_child = Node(right) if (right := text[i+1:-1]).isdigit() else SnNumber.parse(right, snn)\n",
    "\n",
    "                return snn\n",
    "\n",
    "\n",
    "    def set_sub_links(self):\n",
    "        lst = list(self.deep_iter())\n",
    "\n",
    "        self.head = lst[0]\n",
    "\n",
    "        for i in range(1,len(lst)):\n",
    "            lst[i-1].next = lst[i]\n",
    "            lst[i].previous = lst[i-1]\n",
    "\n",
    "    def __repr__(self):\n",
    "        return f'[{self.left_child},{self.right_child}]'\n",
    "\n",
    "    def deep_iter(self):\n",
    "        for child in self:\n",
    "            if isinstance(child, SnNumber):\n",
    "                for sub_child in child.deep_iter():\n",
    "                    yield sub_child\n",
    "            else:\n",
    "                yield child\n",
    "\n",
    "\n",
    "    def __iter__(self):\n",
    "        yield self.left_child\n",
    "        yield self.right_child\n",
    "\n",
    "    def __add__(self, other):\n",
    "        snn = SnNumber(self, other)\n",
    "        self.parent = snn\n",
    "        other.parent = snn\n",
    "\n",
    "        snn.set_sub_links()\n",
    "        while snn.try_explode() or snn.try_split():\n",
    "            pass\n",
    "\n",
    "        return snn\n",
    "\n",
    "    def try_split(self) -> bool:\n",
    "        for i, child in enumerate(self):\n",
    "            if isinstance(child, SnNumber):\n",
    "                if child.try_split():\n",
    "                    return True\n",
    "            else:\n",
    "                if child.value >= 10:\n",
    "                    left = Node(math.floor(child.value/2), child.previous, None)\n",
    "                    right = Node(math.ceil(child.value/2), left, child.next)\n",
    "                    if child.previous:\n",
    "                        child.previous.next = left\n",
    "                    if child.next:\n",
    "                        child.next.previous = right\n",
    "                    left.next = right\n",
    "\n",
    "                    if i == 0:\n",
    "                        self.left_child = SnNumber(left, right, self)\n",
    "                    else:\n",
    "                        self.right_child = SnNumber(left, right, self)\n",
    "\n",
    "                    return True\n",
    "        return False\n",
    "\n",
    "    def try_explode(self, deep=1) -> bool:\n",
    "        if deep <= 4:\n",
    "            return self and (isinstance(self.left_child, SnNumber) and self.left_child.try_explode(deep+1)\n",
    "                   or isinstance(self.right_child, SnNumber) and self.right_child.try_explode(deep+1))\n",
    "\n",
    "        new_node = Node(0, self.left_child.previous, self.right_child.next)\n",
    "\n",
    "        #print(self, self.parent)\n",
    "\n",
    "        if self.left_child.previous:\n",
    "            self.left_child.previous.value += self.left_child.value\n",
    "            self.left_child.previous.next = new_node\n",
    "        if self.right_child.next:\n",
    "            self.right_child.next.value += self.right_child.value\n",
    "            self.right_child.next.previous = new_node\n",
    "\n",
    "        if self.parent.left_child is self:\n",
    "            self.parent.left_child = new_node\n",
    "        else:\n",
    "            self.parent.right_child = new_node\n",
    "\n",
    "        return True\n",
    "\n",
    "    def magnitude(self):\n",
    "        subs = [child.magnitude() if isinstance(child, SnNumber) else child.value for child in self]\n",
    "        return subs[0] * 3 + subs[1] * 2\n",
    "\n",
    "    def __copy__(self):\n",
    "        return SnNumber(\n",
    "            self.left_child.__copy__(),\n",
    "            self.left_child.__copy__()\n",
    "        )"
   ]
  },
  {
   "cell_type": "code",
   "execution_count": 361,
   "metadata": {
    "pycharm": {
     "name": "#%%\n"
    }
   },
   "outputs": [],
   "source": [
    "data= \"\"\"[[[0,[5,8]],[[1,7],[9,6]]],[[4,[1,2]],[[1,4],2]]]\n",
    "[[[5,[2,8]],4],[5,[[9,9],0]]]\n",
    "[6,[[[6,2],[5,6]],[[7,6],[4,7]]]]\n",
    "[[[6,[0,7]],[0,9]],[4,[9,[9,0]]]]\n",
    "[[[7,[6,4]],[3,[1,3]]],[[[5,5],1],9]]\n",
    "[[6,[[7,3],[3,2]]],[[[3,8],[5,7]],4]]\n",
    "[[[[5,4],[7,7]],8],[[8,3],8]]\n",
    "[[9,3],[[9,9],[6,[4,9]]]]\n",
    "[[2,[[7,7],7]],[[5,8],[[9,3],[0,2]]]]\n",
    "[[[[5,2],5],[8,[3,7]]],[[5,[7,5]],[4,4]]]\"\"\""
   ]
  },
  {
   "cell_type": "code",
   "execution_count": 419,
   "metadata": {
    "pycharm": {
     "name": "#%%\n"
    }
   },
   "outputs": [],
   "source": [
    "data = aoc.raw"
   ]
  },
  {
   "cell_type": "code",
   "execution_count": 420,
   "metadata": {
    "pycharm": {
     "name": "#%%\n"
    }
   },
   "outputs": [],
   "source": [
    "snns = [SnNumber.parse(line) for line in data.split('\\n')]"
   ]
  },
  {
   "cell_type": "code",
   "execution_count": 399,
   "metadata": {
    "pycharm": {
     "name": "#%%\n"
    }
   },
   "outputs": [],
   "source": [
    "result = reduce(lambda a,b: a+b, snns)"
   ]
  },
  {
   "cell_type": "code",
   "execution_count": 401,
   "metadata": {
    "pycharm": {
     "name": "#%%\n"
    }
   },
   "outputs": [
    {
     "data": {
      "text/plain": [
       "4140"
      ]
     },
     "execution_count": 401,
     "metadata": {},
     "output_type": "execute_result"
    }
   ],
   "source": [
    "result.magnitude()"
   ]
  },
  {
   "cell_type": "code",
   "execution_count": 423,
   "metadata": {
    "pycharm": {
     "name": "#%%\n"
    }
   },
   "outputs": [
    {
     "name": "stdout",
     "output_type": "stream",
     "text": [
      "0 1 2 3 4 5 6 7 8 9 10 11 12 13 14 15 16 17 18 19 20 21 22 23 24 25 26 27 28 29 30 31 32 33 34 35 36 37 38 39 40 41 42 43 44 45 46 47 48 49 50 51 52 53 54 55 56 57 58 59 60 61 62 63 64 65 66 67 68 69 70 71 72 73 74 75 76 77 78 79 80 81 82 83 84 85 86 87 88 89 90 91 92 93 94 95 96 97 98 99 "
     ]
    }
   ],
   "source": [
    "magns = []\n",
    "for i, snn1 in enumerate(snns):\n",
    "    print(i, end=' ')\n",
    "    for j, snn2 in enumerate(snns):\n",
    "        snns = [SnNumber.parse(line) for line in data.split('\\n')]\n",
    "        if i != j:\n",
    "            magns.append(((snns[i] + snns[j]).magnitude(), i, j))\n",
    "            #magns.append(((snns[j] + snns[i]).magnitude(), i, j))"
   ]
  },
  {
   "cell_type": "code",
   "execution_count": 424,
   "metadata": {
    "pycharm": {
     "name": "#%%\n"
    }
   },
   "outputs": [],
   "source": [
    "# > 2963"
   ]
  },
  {
   "cell_type": "code",
   "execution_count": 425,
   "metadata": {
    "pycharm": {
     "name": "#%%\n"
    }
   },
   "outputs": [
    {
     "data": {
      "text/plain": [
       "(4669, 31, 83)"
      ]
     },
     "execution_count": 425,
     "metadata": {},
     "output_type": "execute_result"
    }
   ],
   "source": [
    "max(magns)"
   ]
  }
 ],
 "metadata": {
  "kernelspec": {
   "display_name": "Python 3",
   "language": "python",
   "name": "python3"
  },
  "language_info": {
   "codemirror_mode": {
    "name": "ipython",
    "version": 3
   },
   "file_extension": ".py",
   "mimetype": "text/x-python",
   "name": "python",
   "nbconvert_exporter": "python",
   "pygments_lexer": "ipython3",
   "version": "3.9.7"
  }
 },
 "nbformat": 4,
 "nbformat_minor": 1
}