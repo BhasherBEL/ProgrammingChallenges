{
 "cells": [
  {
   "cell_type": "code",
   "execution_count": 14,
   "metadata": {
    "collapsed": true
   },
   "outputs": [],
   "source": [
    "from utils import Utils, AOC\n",
    "from session import SESSION\n",
    "from collections import defaultdict\n",
    "from matplotlib import pyplot as plt\n",
    "import numpy as np\n",
    "import sortedcontainers\n",
    "import time"
   ]
  },
  {
   "cell_type": "code",
   "execution_count": 2,
   "outputs": [],
   "source": [
    "aoc = AOC(session=SESSION)"
   ],
   "metadata": {
    "collapsed": false,
    "pycharm": {
     "name": "#%%\n"
    }
   }
  },
  {
   "cell_type": "code",
   "execution_count": 3,
   "outputs": [
    {
     "data": {
      "text/plain": "True"
     },
     "execution_count": 3,
     "metadata": {},
     "output_type": "execute_result"
    }
   ],
   "source": [
    "aoc.verify_session()"
   ],
   "metadata": {
    "collapsed": false,
    "pycharm": {
     "name": "#%%\n"
    }
   }
  },
  {
   "cell_type": "code",
   "execution_count": 4,
   "outputs": [
    {
     "name": "stdout",
     "output_type": "stream",
     "text": [
      "Local file found.\n",
      "100% of data are digits. Analyse as numbers.\n",
      "0 empty line(s) found. Analyse as monline data.\n",
      "===== HEAD (5/100) =====\n",
      "8278572114793756191833561127452853426929615899116958969481427593944191389121411192127899512211639555\n",
      "2495171585122426519281919685613271991924121543192937558138395964783255375528718245475125436917188379\n",
      "7961821999883965642974131223415952226122149135757469151378271261942142914126999286296912626324385126\n",
      "6441179418166119485338911954311735412134219517651998824469721124695113922376591228278111534398748579\n",
      "8424516666869191815919915114592841194492325941357613456911196292486835511835219129622871119578589971\n",
      "========================\n"
     ]
    },
    {
     "data": {
      "text/plain": "<utils_components.aoc2.AOC at 0x7f1da01c9df0>"
     },
     "execution_count": 4,
     "metadata": {},
     "output_type": "execute_result"
    }
   ],
   "source": [
    "aoc.get_today_file().analyse().head()"
   ],
   "metadata": {
    "collapsed": false,
    "pycharm": {
     "name": "#%%\n"
    }
   }
  },
  {
   "cell_type": "code",
   "execution_count": 5,
   "outputs": [],
   "source": [
    "def new_line(line):\n",
    "    nl = []\n",
    "    for i in range(5):\n",
    "        for el in line:\n",
    "            nl.append(((int(el) + i - 1) % 9) + 1)\n",
    "    return nl"
   ],
   "metadata": {
    "collapsed": false,
    "pycharm": {
     "name": "#%%\n"
    }
   }
  },
  {
   "cell_type": "code",
   "execution_count": 6,
   "outputs": [],
   "source": [
    "def extend_row(row):\n",
    "    final_raw = ''\n",
    "    for i in range(5):\n",
    "        for line in raw.split('\\n'):\n",
    "            for el in line:\n",
    "                if el.isdigit():\n",
    "                    final_raw += str(((int(el) + i - 1) % 9) + 1)\n",
    "            final_raw += '\\n'\n",
    "\n",
    "    return final_raw[:-1]"
   ],
   "metadata": {
    "collapsed": false,
    "pycharm": {
     "name": "#%%\n"
    }
   }
  },
  {
   "cell_type": "code",
   "execution_count": 7,
   "outputs": [],
   "source": [
    "raw = \"\"\"1163751742\n",
    "1381373672\n",
    "2136511328\n",
    "3694931569\n",
    "7463417111\n",
    "1319128137\n",
    "1359912421\n",
    "3125421639\n",
    "1293138521\n",
    "2311944581\"\"\""
   ],
   "metadata": {
    "collapsed": false,
    "pycharm": {
     "name": "#%%\n"
    }
   }
  },
  {
   "cell_type": "code",
   "execution_count": 8,
   "outputs": [],
   "source": [
    "raw = aoc.raw"
   ],
   "metadata": {
    "collapsed": false,
    "pycharm": {
     "name": "#%%\n"
    }
   }
  },
  {
   "cell_type": "code",
   "execution_count": 9,
   "outputs": [],
   "source": [
    "grid = np.array([new_line(line) for line in extend_row(raw).split('\\n')])"
   ],
   "metadata": {
    "collapsed": false,
    "pycharm": {
     "name": "#%%\n"
    }
   }
  },
  {
   "cell_type": "code",
   "execution_count": 10,
   "outputs": [
    {
     "data": {
      "text/plain": "4.990596"
     },
     "execution_count": 10,
     "metadata": {},
     "output_type": "execute_result"
    }
   ],
   "source": [
    "grid.mean()"
   ],
   "metadata": {
    "collapsed": false,
    "pycharm": {
     "name": "#%%\n"
    }
   }
  },
  {
   "cell_type": "code",
   "execution_count": 11,
   "outputs": [],
   "source": [
    "def reconstruct_path(came_from, current):\n",
    "    path = [current]\n",
    "    while current in came_from:\n",
    "        current = came_from[current]\n",
    "        path.insert(0, current)\n",
    "    return path"
   ],
   "metadata": {
    "collapsed": false,
    "pycharm": {
     "name": "#%%\n"
    }
   }
  },
  {
   "cell_type": "code",
   "execution_count": 15,
   "outputs": [],
   "source": [
    "def a_star(start, goal):\n",
    "    open_set = {start}\n",
    "    came_from = {}\n",
    "\n",
    "    # known\n",
    "    g_score = defaultdict(lambda: float('inf'))\n",
    "    g_score[start] = 0\n",
    "\n",
    "    # guess\n",
    "    f_score = defaultdict(lambda: float('inf'))\n",
    "    f_score[start] = Utils.coordinates_distance(start, goal)\n",
    "\n",
    "    while open_set:\n",
    "        _, current = sortedcontainers.SortedDict({f_score[el]: el for el in open_set}).popitem(0)\n",
    "\n",
    "        if current == goal:\n",
    "            return reconstruct_path(came_from, current)\n",
    "\n",
    "        open_set.remove(current)\n",
    "\n",
    "        for neighbour in Utils.get_neighbours(current, dimensions=((0, len(grid)-1), (0, len(grid)-1))):\n",
    "            tentative = g_score[current] + grid[neighbour]\n",
    "\n",
    "            if tentative < g_score[neighbour]:\n",
    "                came_from[neighbour] = current\n",
    "                g_score[neighbour] = tentative\n",
    "                f_score[neighbour] = tentative + Utils.coordinates_distance(current, goal) * 2\n",
    "\n",
    "                open_set.add(neighbour)"
   ],
   "metadata": {
    "collapsed": false,
    "pycharm": {
     "name": "#%%\n"
    }
   }
  },
  {
   "cell_type": "code",
   "execution_count": 17,
   "outputs": [],
   "source": [
    "# != 3209\n",
    "# == 2846"
   ],
   "metadata": {
    "collapsed": false,
    "pycharm": {
     "name": "#%%\n"
    }
   }
  },
  {
   "cell_type": "code",
   "execution_count": 18,
   "outputs": [
    {
     "name": "stdout",
     "output_type": "stream",
     "text": [
      "67.66s\n",
      "2846.00\n"
     ]
    }
   ],
   "source": [
    "st = time.time()\n",
    "path = a_star((0, 0), (len(grid)-1, len(grid)-1))\n",
    "print(f'{time.time() - st:.2f}s')\n",
    "print(f'{sum([grid[el] for el in path[1:]]):.2f}')"
   ],
   "metadata": {
    "collapsed": false,
    "pycharm": {
     "name": "#%%\n"
    }
   }
  },
  {
   "cell_type": "markdown",
   "source": [
    "## Post submission optimisation\n",
    "- new optimised `a_star` algorithm in `Utils.Graph`."
   ],
   "metadata": {
    "collapsed": false,
    "pycharm": {
     "name": "#%% md\n"
    }
   }
  },
  {
   "cell_type": "code",
   "execution_count": 29,
   "outputs": [
    {
     "name": "stdout",
     "output_type": "stream",
     "text": [
      "7.36s\n",
      "2846.00\n"
     ]
    }
   ],
   "source": [
    "st = time.time()\n",
    "multiplicator = int(grid.mean()/2)\n",
    "opt_path = Utils.a_star(\n",
    "    start=(0, 0),\n",
    "    goal=(len(grid)-1, len(grid)-1),\n",
    "    estimate=lambda x,y: (abs(x[0]-y[0]) + abs(x[1]-y[1])) * multiplicator,\n",
    "    weight=lambda f,t: grid[t],\n",
    "    get_neighbours=lambda co: Utils.get_neighbours(co, dimensions=((0, len(grid)-1), (0, len(grid)-1)))\n",
    ")\n",
    "print(f'{time.time() - st:.2f}s')\n",
    "print(f'{sum([grid[el] for el in opt_path[1:]]):.2f}')"
   ],
   "metadata": {
    "collapsed": false,
    "pycharm": {
     "name": "#%%\n"
    }
   }
  }
 ],
 "metadata": {
  "kernelspec": {
   "display_name": "Python 3",
   "language": "python",
   "name": "python3"
  },
  "language_info": {
   "codemirror_mode": {
    "name": "ipython",
    "version": 2
   },
   "file_extension": ".py",
   "mimetype": "text/x-python",
   "name": "python",
   "nbconvert_exporter": "python",
   "pygments_lexer": "ipython2",
   "version": "2.7.6"
  }
 },
 "nbformat": 4,
 "nbformat_minor": 0
}