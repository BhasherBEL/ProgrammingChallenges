{
 "cells": [
  {
   "cell_type": "code",
   "execution_count": 56,
   "metadata": {
    "collapsed": true
   },
   "outputs": [],
   "source": [
    "from utils import Utils, AOC\n",
    "from session import SESSION\n",
    "from collections import defaultdict\n",
    "import numpy as np\n",
    "import re"
   ]
  },
  {
   "cell_type": "code",
   "execution_count": 57,
   "outputs": [],
   "source": [
    "aoc = AOC(session=SESSION)"
   ],
   "metadata": {
    "collapsed": false,
    "pycharm": {
     "name": "#%%\n"
    }
   }
  },
  {
   "cell_type": "code",
   "execution_count": 58,
   "outputs": [
    {
     "data": {
      "text/plain": "True"
     },
     "execution_count": 58,
     "metadata": {},
     "output_type": "execute_result"
    }
   ],
   "source": [
    "aoc.verify_session()"
   ],
   "metadata": {
    "collapsed": false,
    "pycharm": {
     "name": "#%%\n"
    }
   }
  },
  {
   "cell_type": "code",
   "execution_count": 104,
   "outputs": [
    {
     "name": "stdout",
     "output_type": "stream",
     "text": [
      "Local file found.\n",
      "0 empty line(s) found. Analyse as monline data.\n",
      "===== HEAD (5) =====\n",
      "692,826 -> 692,915\n",
      "914,338 -> 524,728\n",
      "77,505 -> 77,912\n",
      "31,484 -> 250,703\n",
      "29,241 -> 313,241\n",
      "====================\n"
     ]
    },
    {
     "data": {
      "text/plain": "<utils_components.aoc.AOC at 0x7f2e302bb7f0>"
     },
     "execution_count": 104,
     "metadata": {},
     "output_type": "execute_result"
    }
   ],
   "source": [
    "aoc.get_today_file().analyse()\n",
    "aoc.data = aoc.raw.split('\\n')\n",
    "aoc.head()"
   ],
   "metadata": {
    "collapsed": false,
    "pycharm": {
     "name": "#%%\n"
    }
   }
  },
  {
   "cell_type": "code",
   "execution_count": 73,
   "outputs": [],
   "source": [
    "aoc.data = \"\"\"0,9 -> 5,9\n",
    "8,0 -> 0,8\n",
    "9,4 -> 3,4\n",
    "2,2 -> 2,1\n",
    "7,0 -> 7,4\n",
    "6,4 -> 2,0\n",
    "0,9 -> 2,9\n",
    "3,4 -> 1,4\n",
    "0,0 -> 8,8\n",
    "5,5 -> 8,2\"\"\".split('\\n')"
   ],
   "metadata": {
    "collapsed": false,
    "pycharm": {
     "name": "#%%\n"
    }
   }
  },
  {
   "cell_type": "code",
   "execution_count": 105,
   "outputs": [],
   "source": [
    "maps = np.zeros((999, 999))"
   ],
   "metadata": {
    "collapsed": false,
    "pycharm": {
     "name": "#%%\n"
    }
   }
  },
  {
   "cell_type": "code",
   "execution_count": 106,
   "outputs": [],
   "source": [
    "for i, line in enumerate(aoc.data):\n",
    "    x1, y1, x2, y2 = map(int, re.search(r'(\\d+),(\\d+) -> (\\d+),(\\d+)', line).groups())\n",
    "    if x1 == x2 and y1 == x2:\n",
    "        maps[x1,y1] += 1\n",
    "    elif x1 == x2:\n",
    "        maps[x1,y1:y2+1] += 1\n",
    "        maps[x1,y2:y1+1] += 1\n",
    "    elif y1 == y2:\n",
    "        maps[x1:x2+1,y1] += 1\n",
    "        maps[x2:x1+1,y1] += 1\n",
    "    elif x1 > x2:\n",
    "        if y1 > y2:\n",
    "            for x, y in zip(range(x2, x1+1), range(y2, y1+1)):\n",
    "                maps[x,y] += 1\n",
    "        else:\n",
    "            for x, y in zip(range(x2, x1+1), range(y2, y1-1,-1)):\n",
    "                maps[x,y] += 1\n",
    "    else:\n",
    "        if y1 > y2:\n",
    "            for x, y in zip(range(x1, x2+1),range(y1, y2-1, -1)):\n",
    "                maps[x,y] += 1\n",
    "        else:\n",
    "            for x, y in zip(range(x1, x2+1), range(y1, y2+1)):\n",
    "                maps[x,y] += 1"
   ],
   "metadata": {
    "collapsed": false,
    "pycharm": {
     "name": "#%%\n"
    }
   }
  },
  {
   "cell_type": "code",
   "execution_count": 101,
   "outputs": [
    {
     "name": "stdout",
     "output_type": "stream",
     "text": [
      "1.1....11.\n",
      ".1.1...2..\n",
      "..2.1.111.\n",
      "...1.2.2..\n",
      ".112313211\n",
      "...1.2....\n",
      "..1...1...\n",
      ".1.....1..\n",
      "1.......1.\n",
      "222111....\n"
     ]
    }
   ],
   "source": [
    "for i in range(10):\n",
    "    for j in range(10):\n",
    "        if maps[j,i] > 0:\n",
    "            print(int(maps[j,i]), end='')\n",
    "        else:\n",
    "            print('.', end='')\n",
    "    print('')"
   ],
   "metadata": {
    "collapsed": false,
    "pycharm": {
     "name": "#%%\n"
    }
   }
  },
  {
   "cell_type": "code",
   "execution_count": 107,
   "outputs": [],
   "source": [
    "# > 1075\n",
    "# = 5698"
   ],
   "metadata": {
    "collapsed": false,
    "pycharm": {
     "name": "#%%\n"
    }
   }
  },
  {
   "cell_type": "code",
   "execution_count": 108,
   "outputs": [
    {
     "data": {
      "text/plain": "15463"
     },
     "execution_count": 108,
     "metadata": {},
     "output_type": "execute_result"
    }
   ],
   "source": [
    "len(list(zip(*np.where(maps >= 2))))"
   ],
   "metadata": {
    "collapsed": false,
    "pycharm": {
     "name": "#%%\n"
    }
   }
  }
 ],
 "metadata": {
  "kernelspec": {
   "display_name": "Python 3",
   "language": "python",
   "name": "python3"
  },
  "language_info": {
   "codemirror_mode": {
    "name": "ipython",
    "version": 2
   },
   "file_extension": ".py",
   "mimetype": "text/x-python",
   "name": "python",
   "nbconvert_exporter": "python",
   "pygments_lexer": "ipython2",
   "version": "2.7.6"
  }
 },
 "nbformat": 4,
 "nbformat_minor": 0
}