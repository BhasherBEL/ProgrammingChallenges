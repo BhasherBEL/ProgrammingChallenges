{
 "cells": [
  {
   "cell_type": "code",
   "execution_count": 1,
   "metadata": {
    "collapsed": true
   },
   "outputs": [],
   "source": [
    "from utils import Utils, AOC\n",
    "from session import SESSION\n",
    "from collections import defaultdict\n",
    "import numpy as np\n",
    "import re"
   ]
  },
  {
   "cell_type": "code",
   "execution_count": 2,
   "outputs": [],
   "source": [
    "aoc = AOC(session=SESSION)"
   ],
   "metadata": {
    "collapsed": false,
    "pycharm": {
     "name": "#%%\n"
    }
   }
  },
  {
   "cell_type": "code",
   "execution_count": 3,
   "outputs": [
    {
     "data": {
      "text/plain": "True"
     },
     "execution_count": 3,
     "metadata": {},
     "output_type": "execute_result"
    }
   ],
   "source": [
    "aoc.verify_session()"
   ],
   "metadata": {
    "collapsed": false,
    "pycharm": {
     "name": "#%%\n"
    }
   }
  },
  {
   "cell_type": "code",
   "execution_count": 4,
   "outputs": [
    {
     "name": "stdout",
     "output_type": "stream",
     "text": [
      "Local file found.\n",
      "100% of data are digits. Analyse as numbers.\n",
      "0 empty line(s) found. Analyse as monline data.\n",
      "===== HEAD (5/500) =====\n",
      "[692, 826, 692, 915]\n",
      "[914, 338, 524, 728]\n",
      "[77, 505, 77, 912]\n",
      "[31, 484, 250, 703]\n",
      "[29, 241, 313, 241]\n",
      "========================\n"
     ]
    },
    {
     "data": {
      "text/plain": "<utils_components.aoc2.AOC at 0x7f627c003dc0>"
     },
     "execution_count": 4,
     "metadata": {},
     "output_type": "execute_result"
    }
   ],
   "source": [
    "aoc.get_file(year=2021, day=5).analyse().head()"
   ],
   "metadata": {
    "collapsed": false,
    "pycharm": {
     "name": "#%%\n"
    }
   }
  },
  {
   "cell_type": "code",
   "execution_count": 5,
   "outputs": [],
   "source": [
    "maps = np.zeros((999, 999))"
   ],
   "metadata": {
    "collapsed": false,
    "pycharm": {
     "name": "#%%\n"
    }
   }
  },
  {
   "cell_type": "code",
   "execution_count": 6,
   "outputs": [],
   "source": [
    "for x1, y1, x2, y2 in aoc.data:\n",
    "    if x1 == x2 and y1 == x2:\n",
    "        maps[x1,y1] += 1\n",
    "    elif x1 == x2:\n",
    "        maps[x1,y1:y2+1] += 1\n",
    "        maps[x1,y2:y1+1] += 1\n",
    "    elif y1 == y2:\n",
    "        maps[x1:x2+1,y1] += 1\n",
    "        maps[x2:x1+1,y1] += 1\n",
    "    elif x1 > x2:\n",
    "        if y1 > y2:\n",
    "            for x, y in zip(range(x2, x1+1), range(y2, y1+1)):\n",
    "                maps[x,y] += 1\n",
    "        else:\n",
    "            for x, y in zip(range(x2, x1+1), range(y2, y1-1,-1)):\n",
    "                maps[x,y] += 1\n",
    "    else:\n",
    "        if y1 > y2:\n",
    "            for x, y in zip(range(x1, x2+1),range(y1, y2-1, -1)):\n",
    "                maps[x,y] += 1\n",
    "        else:\n",
    "            for x, y in zip(range(x1, x2+1), range(y1, y2+1)):\n",
    "                maps[x,y] += 1"
   ],
   "metadata": {
    "collapsed": false,
    "pycharm": {
     "name": "#%%\n"
    }
   }
  },
  {
   "cell_type": "code",
   "execution_count": 7,
   "outputs": [],
   "source": [
    "# > 1075\n",
    "# = 5698"
   ],
   "metadata": {
    "collapsed": false,
    "pycharm": {
     "name": "#%%\n"
    }
   }
  },
  {
   "cell_type": "code",
   "execution_count": 8,
   "outputs": [
    {
     "data": {
      "text/plain": "15463"
     },
     "execution_count": 8,
     "metadata": {},
     "output_type": "execute_result"
    }
   ],
   "source": [
    "len(list(zip(*np.where(maps >= 2))))"
   ],
   "metadata": {
    "collapsed": false,
    "pycharm": {
     "name": "#%%\n"
    }
   }
  },
  {
   "cell_type": "markdown",
   "source": [
    "## Post submitting optimisation"
   ],
   "metadata": {
    "collapsed": false,
    "pycharm": {
     "name": "#%% md\n"
    }
   }
  },
  {
   "cell_type": "code",
   "execution_count": 9,
   "outputs": [],
   "source": [
    "maps = np.zeros((999, 999))"
   ],
   "metadata": {
    "collapsed": false,
    "pycharm": {
     "name": "#%%\n"
    }
   }
  },
  {
   "cell_type": "code",
   "execution_count": 10,
   "outputs": [],
   "source": [
    "for x1, y1, x2, y2 in aoc.data:\n",
    "    xs, ys = Utils.path((x1, y1), (x2, y2)).T\n",
    "    maps[xs,ys] += 1"
   ],
   "metadata": {
    "collapsed": false,
    "pycharm": {
     "name": "#%%\n"
    }
   }
  },
  {
   "cell_type": "code",
   "execution_count": 11,
   "outputs": [
    {
     "data": {
      "text/plain": "15463"
     },
     "execution_count": 11,
     "metadata": {},
     "output_type": "execute_result"
    }
   ],
   "source": [
    "len(list(zip(*np.where(maps >= 2))))"
   ],
   "metadata": {
    "collapsed": false,
    "pycharm": {
     "name": "#%%\n"
    }
   }
  }
 ],
 "metadata": {
  "kernelspec": {
   "display_name": "Python 3",
   "language": "python",
   "name": "python3"
  },
  "language_info": {
   "codemirror_mode": {
    "name": "ipython",
    "version": 2
   },
   "file_extension": ".py",
   "mimetype": "text/x-python",
   "name": "python",
   "nbconvert_exporter": "python",
   "pygments_lexer": "ipython2",
   "version": "2.7.6"
  }
 },
 "nbformat": 4,
 "nbformat_minor": 0
}