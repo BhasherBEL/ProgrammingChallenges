{
 "cells": [
  {
   "cell_type": "code",
   "execution_count": 10,
   "metadata": {
    "collapsed": true
   },
   "outputs": [],
   "source": [
    "from utils import Utils, AOC\n",
    "from session import SESSION"
   ]
  },
  {
   "cell_type": "code",
   "execution_count": 2,
   "outputs": [],
   "source": [
    "aoc = AOC(session=SESSION)"
   ],
   "metadata": {
    "collapsed": false,
    "pycharm": {
     "name": "#%%\n"
    }
   }
  },
  {
   "cell_type": "code",
   "execution_count": 3,
   "outputs": [
    {
     "data": {
      "text/plain": "True"
     },
     "execution_count": 3,
     "metadata": {},
     "output_type": "execute_result"
    }
   ],
   "source": [
    "aoc.verify_session()"
   ],
   "metadata": {
    "collapsed": false,
    "pycharm": {
     "name": "#%%\n"
    }
   }
  },
  {
   "cell_type": "code",
   "execution_count": 4,
   "outputs": [
    {
     "name": "stdout",
     "output_type": "stream",
     "text": [
      "Local file found.\n",
      "0% of data are digits. Analyse as text.\n",
      "0 empty line(s) found. Analyse as monline data.\n",
      "===== HEAD (5) =====\n",
      "xrecqmdonskvzupalfkwhjctdb\n",
      "xrlgqmavnskvzupalfiwhjctdb\n",
      "xregqmyonskvzupalfiwhjpmdj\n",
      "areyqmyonskvzupalfiwhjcidb\n",
      "xregqpyonskvzuaalfiwhjctdy\n",
      "====================\n"
     ]
    },
    {
     "data": {
      "text/plain": "<utils_components.aoc.AOC at 0x7f4c23ec5d90>"
     },
     "execution_count": 4,
     "metadata": {},
     "output_type": "execute_result"
    }
   ],
   "source": [
    "aoc.get_file(year=2018, day=2).analyse().head()"
   ],
   "metadata": {
    "collapsed": false,
    "pycharm": {
     "name": "#%%\n"
    }
   }
  },
  {
   "cell_type": "code",
   "execution_count": 7,
   "outputs": [],
   "source": [
    "def distance(word1: str, word2: str):\n",
    "    if len(word1) == 0 or len(word2) == 0:\n",
    "        return max(len(word1), len(word2))\n",
    "\n",
    "    if word1[0] == word2[0]:\n",
    "        return distance(word1[1:], word2[1:])\n",
    "    else:\n",
    "        return 1+distance(word1[1:], word2[1:])"
   ],
   "metadata": {
    "collapsed": false,
    "pycharm": {
     "name": "#%%\n"
    }
   }
  },
  {
   "cell_type": "code",
   "execution_count": 9,
   "outputs": [
    {
     "name": "stdout",
     "output_type": "stream",
     "text": [
      "xretqmmonskvzupalfiwhwcfdb\n",
      "xretqmmonskvzupalfiwhjcfdb\n",
      "---\n",
      "xretqmmonskvzupalfiwhjcfdb\n",
      "xretqmmonskvzupalfiwhwcfdb\n",
      "---\n"
     ]
    }
   ],
   "source": [
    "for w1 in aoc.data:\n",
    "    for w2 in aoc.data:\n",
    "        if distance(w1, w2) == 1:\n",
    "            print(w1)\n",
    "            print(w2)\n",
    "            print('---')"
   ],
   "metadata": {
    "collapsed": false,
    "pycharm": {
     "name": "#%%\n"
    }
   }
  }
 ],
 "metadata": {
  "kernelspec": {
   "display_name": "Python 3",
   "language": "python",
   "name": "python3"
  },
  "language_info": {
   "codemirror_mode": {
    "name": "ipython",
    "version": 2
   },
   "file_extension": ".py",
   "mimetype": "text/x-python",
   "name": "python",
   "nbconvert_exporter": "python",
   "pygments_lexer": "ipython2",
   "version": "2.7.6"
  }
 },
 "nbformat": 4,
 "nbformat_minor": 0
}