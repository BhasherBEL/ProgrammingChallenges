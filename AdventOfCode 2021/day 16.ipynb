{
 "cells": [
  {
   "cell_type": "code",
   "execution_count": 325,
   "metadata": {
    "collapsed": true
   },
   "outputs": [],
   "source": [
    "from utils import Utils, AOC\n",
    "from session import SESSION\n",
    "from collections import defaultdict\n",
    "from matplotlib import pyplot as plt\n",
    "import numpy as np\n",
    "import sortedcontainers\n",
    "import time\n",
    "from collections.abc import Iterable"
   ]
  },
  {
   "cell_type": "code",
   "execution_count": 2,
   "outputs": [],
   "source": [
    "aoc = AOC(session=SESSION)"
   ],
   "metadata": {
    "collapsed": false,
    "pycharm": {
     "name": "#%%\n"
    }
   }
  },
  {
   "cell_type": "code",
   "execution_count": 3,
   "outputs": [
    {
     "data": {
      "text/plain": "True"
     },
     "execution_count": 3,
     "metadata": {},
     "output_type": "execute_result"
    }
   ],
   "source": [
    "aoc.verify_session()"
   ],
   "metadata": {
    "collapsed": false,
    "pycharm": {
     "name": "#%%\n"
    }
   }
  },
  {
   "cell_type": "code",
   "execution_count": 4,
   "outputs": [
    {
     "name": "stdout",
     "output_type": "stream",
     "text": [
      "Data correctly downloaded and saved locally for next usage.\n",
      "71% of data are digits. Analyse as text.\n",
      "0 empty line(s) found. Analyse as monline data.\n",
      "===== HEAD (1/1) =====\n",
      "40541D900AEDC01A88002191FE2F45D1006A2FC2388D278D4653E3910020F2E2F3E24C007ECD7ABA6A200E6E8017F92C934CFA0E5290B569CE0F4BA5180213D963C00DC40010A87905A0900021B0D624C34600906725FFCF597491C6008C01B0004223342488A200F4378C9198401B87311A0C0803E600FC4887F14CC01C8AF16A2010021D1260DC7530042C012957193779F96AD9B36100907A00980021513E3943600043225C1A8EB2C3040043CC3B1802B400D3CA4B8D3292E37C30600B325A541D979606E384B524C06008E802515A638A73A226009CDA5D8026200D473851150401E8BF16E2ACDFB7DCD4F5C02897A5288D299D89CA6AA672AD5118804F592FC5BE8037000042217C64876000874728550D4C0149F29D00524ACCD2566795A0D880432BEAC79995C86483A6F3B9F6833397DEA03E401004F28CD894B9C48A34BC371CF7AA840155E002012E21260923DC4C248035299ECEB0AC4DFC0179B864865CF8802F9A005E264C25372ABAC8DEA706009F005C32B7FCF1BF91CADFF3C6FE4B3FB073005A6F93B633B12E0054A124BEE9C570004B245126F6E11E5C0199BDEDCE589275C10027E97BE7EF330F126DF3817354FFC82671BB5402510C803788DFA009CAFB14ECDFE57D8A766F0001A74F924AC99678864725F253FD134400F9B5D3004A46489A00A4BEAD8F7F1F7497C39A0020F357618C71648032BB004E4BBC4292EF1167274F1AA0078902262B0D4718229C8608A5226528F86008CFA6E802F275E2248C65F3610066274CEA9A86794E58AA5E5BDE73F34945E2008D27D2278EE30C489B3D20336D00C2F002DF480AC820287D8096F700288082C001DE1400C50035005AA2013E5400B10028C009600A74001EF2004F8400C92B172801F0F4C0139B8E19A8017D96A510A7E698800EAC9294A6E985783A400AE4A2945E9170\n",
      "======================\n"
     ]
    },
    {
     "data": {
      "text/plain": "<utils_components.aoc2.AOC at 0x7fa8142db4f0>"
     },
     "execution_count": 4,
     "metadata": {},
     "output_type": "execute_result"
    }
   ],
   "source": [
    "aoc.get_today_file().analyse().head()"
   ],
   "metadata": {
    "collapsed": false,
    "pycharm": {
     "name": "#%%\n"
    }
   }
  },
  {
   "cell_type": "code",
   "execution_count": 300,
   "outputs": [],
   "source": [
    "def hex_to_bin(hexa):\n",
    "    return bin(int(hexa, 16))[2:].zfill(4*len(hexa))"
   ],
   "metadata": {
    "collapsed": false,
    "pycharm": {
     "name": "#%%\n"
    }
   }
  },
  {
   "cell_type": "code",
   "execution_count": 301,
   "outputs": [],
   "source": [
    "binary = hex_to_bin(aoc.data[0])"
   ],
   "metadata": {
    "collapsed": false,
    "pycharm": {
     "name": "#%%\n"
    }
   }
  },
  {
   "cell_type": "code",
   "execution_count": 302,
   "outputs": [],
   "source": [
    "def get_meta(b):\n",
    "    return int(b[:3], 2), int(b[3:6], 2)"
   ],
   "metadata": {
    "collapsed": false,
    "pycharm": {
     "name": "#%%\n"
    }
   }
  },
  {
   "cell_type": "code",
   "execution_count": 303,
   "outputs": [
    {
     "data": {
      "text/plain": "(2, 0)"
     },
     "execution_count": 303,
     "metadata": {},
     "output_type": "execute_result"
    }
   ],
   "source": [
    "get_meta(binary)"
   ],
   "metadata": {
    "collapsed": false,
    "pycharm": {
     "name": "#%%\n"
    }
   }
  },
  {
   "cell_type": "code",
   "execution_count": 304,
   "outputs": [],
   "source": [
    "def read_digit(b): # type 4\n",
    "    version, id_ = get_meta(b)\n",
    "    i = 6\n",
    "    digit = ''\n",
    "    while len(b) > i:\n",
    "        digit += b[i+1:i+5]\n",
    "        i += 5\n",
    "        if b[i-5] == '0':\n",
    "            break\n",
    "    return version, id_, i, int(digit, 2)"
   ],
   "metadata": {
    "collapsed": false,
    "pycharm": {
     "name": "#%%\n"
    }
   }
  },
  {
   "cell_type": "code",
   "execution_count": 316,
   "outputs": [],
   "source": [
    "def binary_read(b, amount=-1):\n",
    "    if len(b) < 6 or amount == 0:\n",
    "        return tuple()\n",
    "\n",
    "    version, type_id = get_meta(b)\n",
    "\n",
    "    #print(amount, version, type_id, b, int(b, 2))\n",
    "\n",
    "    if int(b, 2) == 0:\n",
    "        return tuple()\n",
    "\n",
    "    # Digit value\n",
    "    if type_id == 4:\n",
    "        _, _, length, value = read_digit(b)\n",
    "        return (version, type_id, length, value), *binary_read(b[length:], amount=amount-1)\n",
    "\n",
    "    # Operator\n",
    "    length_type_id = b[6]\n",
    "\n",
    "    if length_type_id == '0':\n",
    "        length = int(b[7:22], 2)\n",
    "        sub = binary_read(b[22:22+length])\n",
    "        sub_length = sum(el[2] for el in sub) #  if isinstance(el, Iterable)\n",
    "        return (version, type_id, sub_length + 22, sub), *binary_read(b[22+length:], amount=amount-1)\n",
    "    elif length_type_id == '1':\n",
    "        length = int(b[7:18], 2)\n",
    "        sub = binary_read(b[18:], amount=length)\n",
    "        sub_length = sum(el[2] for el in sub) #  if isinstance(el, Iterable)\n",
    "        return (version, type_id, sub_length +18, sub), *binary_read(b[18+sub_length:], amount=amount-1)"
   ],
   "metadata": {
    "collapsed": false,
    "pycharm": {
     "name": "#%%\n"
    }
   }
  },
  {
   "cell_type": "code",
   "execution_count": 317,
   "outputs": [],
   "source": [
    "def versions_sum(t):\n",
    "    s = 0\n",
    "    for el in t:\n",
    "        s += el[0]\n",
    "        if isinstance(el[3], tuple):\n",
    "            s += versions_sum(el[3])\n",
    "    return s"
   ],
   "metadata": {
    "collapsed": false,
    "pycharm": {
     "name": "#%%\n"
    }
   }
  },
  {
   "cell_type": "code",
   "execution_count": 318,
   "outputs": [],
   "source": [
    "res = binary_read(binary)"
   ],
   "metadata": {
    "collapsed": false,
    "pycharm": {
     "name": "#%%\n"
    }
   }
  },
  {
   "cell_type": "code",
   "execution_count": 295,
   "outputs": [],
   "source": [
    "# > 919"
   ],
   "metadata": {
    "collapsed": false,
    "pycharm": {
     "name": "#%%\n"
    }
   }
  },
  {
   "cell_type": "code",
   "execution_count": 319,
   "outputs": [
    {
     "data": {
      "text/plain": "945"
     },
     "execution_count": 319,
     "metadata": {},
     "output_type": "execute_result"
    }
   ],
   "source": [
    "versions_sum(res)"
   ],
   "metadata": {
    "collapsed": false,
    "pycharm": {
     "name": "#%%\n"
    }
   }
  },
  {
   "cell_type": "code",
   "execution_count": 429,
   "outputs": [],
   "source": [
    "def binary_compute(b, amount=-1):\n",
    "    if len(b) < 6 or amount == 0:\n",
    "        return tuple()\n",
    "\n",
    "    version, type_id = get_meta(b)\n",
    "\n",
    "    if int(b, 2) == 0:\n",
    "        return tuple()\n",
    "\n",
    "    # Digit value\n",
    "    if type_id == 4:\n",
    "        _, _, length, value = read_digit(b)\n",
    "        return (version, type_id, length, value), *binary_compute(b[length:], amount=amount-1)\n",
    "\n",
    "    # Operator\n",
    "    length_type_id = b[6]\n",
    "\n",
    "    if length_type_id == '0':\n",
    "        length = int(b[7:22], 2)\n",
    "        sub = binary_compute(b[22:22+length])\n",
    "        sub_length = sum(el[2] for el in sub) + 22\n",
    "    else:\n",
    "        length = int(b[7:18], 2)\n",
    "        sub = binary_compute(b[18:], amount=length)\n",
    "        sub_length = sum(el[2] for el in sub) + 18\n",
    "\n",
    "    els = [el[3] for el in sub]\n",
    "\n",
    "    #print(type_id, *els)\n",
    "\n",
    "    if type_id == 0:\n",
    "        result = sum(els)\n",
    "    elif type_id == 1:\n",
    "        result = 1\n",
    "        for el in els:\n",
    "            result *= el\n",
    "    elif type_id == 2:\n",
    "        result = min(els)\n",
    "    elif type_id == 3:\n",
    "        result = max(els)\n",
    "    elif type_id == 5:\n",
    "        result = int(els[0] > els[1])\n",
    "    elif type_id == 6:\n",
    "        result = int(els[0] < els[1])\n",
    "    elif type_id == 7:\n",
    "        result = int(els[0] == els[1])\n",
    "    else:\n",
    "        result = 0\n",
    "\n",
    "    return (version, type_id, sub_length, result), *binary_compute(b[sub_length:], amount=amount-1)"
   ],
   "metadata": {
    "collapsed": false,
    "pycharm": {
     "name": "#%%\n"
    }
   }
  },
  {
   "cell_type": "code",
   "execution_count": 431,
   "outputs": [
    {
     "name": "stdout",
     "output_type": "stream",
     "text": [
      "((2, 0, 5405, 10637009915279),)\n"
     ]
    }
   ],
   "source": [
    "ex = hex_to_bin(\"9C0141080250320F1802104A08\")\n",
    "read = binary_compute(binary)\n",
    "print(read)"
   ],
   "metadata": {
    "collapsed": false,
    "pycharm": {
     "name": "#%%\n"
    }
   }
  },
  {
   "cell_type": "code",
   "execution_count": 353,
   "outputs": [
    {
     "name": "stdout",
     "output_type": "stream",
     "text": [
      "((4, 7, 102, ((2, 0, 40, ((2, 4, 11, 1), (4, 4, 11, 3))), (6, 1, 40, ((0, 4, 11, 2), (2, 4, 11, 2))))),)\n"
     ]
    }
   ],
   "source": [
    "print(binary_read(ex))"
   ],
   "metadata": {
    "collapsed": false,
    "pycharm": {
     "name": "#%%\n"
    }
   }
  }
 ],
 "metadata": {
  "kernelspec": {
   "display_name": "Python 3",
   "language": "python",
   "name": "python3"
  },
  "language_info": {
   "codemirror_mode": {
    "name": "ipython",
    "version": 2
   },
   "file_extension": ".py",
   "mimetype": "text/x-python",
   "name": "python",
   "nbconvert_exporter": "python",
   "pygments_lexer": "ipython2",
   "version": "2.7.6"
  }
 },
 "nbformat": 4,
 "nbformat_minor": 0
}