{
 "cells": [
  {
   "cell_type": "code",
   "execution_count": 1,
   "metadata": {
    "collapsed": true
   },
   "outputs": [],
   "source": [
    "from utils import Utils, AOC\n",
    "from session import SESSION\n",
    "from collections import defaultdict\n",
    "from matplotlib import pyplot as plt\n",
    "import numpy as np"
   ]
  },
  {
   "cell_type": "code",
   "execution_count": 2,
   "outputs": [],
   "source": [
    "aoc = AOC(session=SESSION)"
   ],
   "metadata": {
    "collapsed": false,
    "pycharm": {
     "name": "#%%\n"
    }
   }
  },
  {
   "cell_type": "code",
   "execution_count": 3,
   "outputs": [
    {
     "data": {
      "text/plain": "True"
     },
     "execution_count": 3,
     "metadata": {},
     "output_type": "execute_result"
    }
   ],
   "source": [
    "aoc.verify_session()"
   ],
   "metadata": {
    "collapsed": false,
    "pycharm": {
     "name": "#%%\n"
    }
   }
  },
  {
   "cell_type": "code",
   "execution_count": 38,
   "outputs": [
    {
     "name": "stdout",
     "output_type": "stream",
     "text": [
      "Local file found.\n",
      "===== HEAD (2/2) =====\n",
      "[[ 201  376]\n",
      " [ 706   92]\n",
      " [ 161  698]\n",
      " ...\n",
      " [ 519  142]\n",
      " [ 947  549]\n",
      " [1029   99]]\n",
      "[655 447 327 223 163 111  81  55  40  27  13   6]\n",
      "======================\n"
     ]
    },
    {
     "name": "stderr",
     "output_type": "stream",
     "text": [
      "/home/bhasher/Documents/tech/projets/ProgrammingChallenges/utils_components/aoc2.py:102: VisibleDeprecationWarning: Creating an ndarray from ragged nested sequences (which is a list-or-tuple of lists-or-tuples-or ndarrays with different lengths or shapes) is deprecated. If you meant to do this, you must specify 'dtype=object' when creating the ndarray.\n",
      "  self.data = np.array([self.parse(group.split('\\n')) for group in self.raw.split('\\n\\n')])\n"
     ]
    },
    {
     "data": {
      "text/plain": "<utils_components.aoc2.AOC at 0x7f0e5025ae20>"
     },
     "execution_count": 38,
     "metadata": {},
     "output_type": "execute_result"
    }
   ],
   "source": [
    "aoc.get_today_file().analyse(monoline=False).head()"
   ],
   "metadata": {
    "collapsed": false,
    "pycharm": {
     "name": "#%%\n"
    }
   }
  },
  {
   "cell_type": "code",
   "execution_count": 39,
   "outputs": [],
   "source": [
    "folds = [el.removeprefix('fold along ').split('=') for el in aoc.raw.split('\\n\\n')[1].split('\\n')]\n",
    "folds = [(el[0], int(el[1])) for el in folds]"
   ],
   "metadata": {
    "collapsed": false,
    "pycharm": {
     "name": "#%%\n"
    }
   }
  },
  {
   "cell_type": "code",
   "execution_count": 40,
   "outputs": [],
   "source": [
    "data = aoc.data[0]"
   ],
   "metadata": {
    "collapsed": false,
    "pycharm": {
     "name": "#%%\n"
    }
   }
  },
  {
   "cell_type": "code",
   "execution_count": 48,
   "outputs": [],
   "source": [
    "coos = set([tuple(el) for el in data])"
   ],
   "metadata": {
    "collapsed": false,
    "pycharm": {
     "name": "#%%\n"
    }
   }
  },
  {
   "cell_type": "code",
   "execution_count": 63,
   "outputs": [
    {
     "data": {
      "text/plain": "array([[23,  4],\n       [ 5,  1],\n       [ 8,  0],\n       [30,  0],\n       [ 0,  5],\n       [ 2,  2],\n       [ 6,  2],\n       [18,  1],\n       [21,  0],\n       [ 7,  1],\n       [36,  0],\n       [17,  5],\n       [ 5,  3],\n       [30,  2],\n       [32,  5],\n       [35,  1],\n       [13,  1],\n       [18,  3],\n       [ 7,  3],\n       [ 5,  5],\n       [30,  4],\n       [ 0,  0],\n       [11,  0],\n       [35,  3],\n       [15,  0],\n       [13,  3],\n       [26,  0],\n       [22,  5],\n       [ 3,  1],\n       [28,  0],\n       [13,  5],\n       [26,  2],\n       [25,  4],\n       [15,  2],\n       [ 1,  3],\n       [38,  4],\n       [20,  1],\n       [37,  5],\n       [ 5,  0],\n       [33,  1],\n       [ 1,  5],\n       [15,  4],\n       [18,  0],\n       [20,  3],\n       [22,  0],\n       [ 3,  5],\n       [ 5,  2],\n       [33,  3],\n       [10,  1],\n       [16,  5],\n       [18,  2],\n       [31,  5],\n       [23,  1],\n       [37,  0],\n       [ 5,  4],\n       [10,  3],\n       [35,  2],\n       [13,  2],\n       [25,  1],\n       [ 1,  0],\n       [ 7,  4],\n       [18,  4],\n       [12,  3],\n       [ 3,  0],\n       [10,  5],\n       [35,  4],\n       [ 0,  4],\n       [25,  3],\n       [13,  4],\n       [30,  1],\n       [33,  0],\n       [25,  5],\n       [20,  2],\n       [30,  3],\n       [33,  2],\n       [ 2,  5],\n       [38,  1],\n       [20,  4],\n       [12,  0],\n       [27,  0],\n       [ 8,  5],\n       [33,  4],\n       [10,  2],\n       [25,  0],\n       [15,  1],\n       [21,  5],\n       [36,  5],\n       [27,  2],\n       [10,  4],\n       [11,  3],\n       [ 2,  0],\n       [25,  2],\n       [15,  3]])"
     },
     "execution_count": 63,
     "metadata": {},
     "output_type": "execute_result"
    }
   ],
   "source": [
    "coos"
   ],
   "metadata": {
    "collapsed": false,
    "pycharm": {
     "name": "#%%\n"
    }
   }
  },
  {
   "cell_type": "code",
   "execution_count": 49,
   "outputs": [
    {
     "data": {
      "text/plain": "866"
     },
     "execution_count": 49,
     "metadata": {},
     "output_type": "execute_result"
    }
   ],
   "source": [
    "len(coos)"
   ],
   "metadata": {
    "collapsed": false,
    "pycharm": {
     "name": "#%%\n"
    }
   }
  },
  {
   "cell_type": "code",
   "execution_count": 52,
   "outputs": [],
   "source": [
    "for axe, n in folds:\n",
    "    new = set()\n",
    "    for co in coos:\n",
    "        co = list(co)\n",
    "        if axe == 'y' and co[1] > n:\n",
    "            co[1] = 2*n-co[1]\n",
    "        if axe == 'x' and co[0] > n:\n",
    "            co[0] = 2*n-co[0]\n",
    "        new.add(tuple(co))\n",
    "    coos = new"
   ],
   "metadata": {
    "collapsed": false,
    "pycharm": {
     "name": "#%%\n"
    }
   }
  },
  {
   "cell_type": "code",
   "execution_count": 57,
   "outputs": [],
   "source": [
    "coos = np.array(list(coos))"
   ],
   "metadata": {
    "collapsed": false,
    "pycharm": {
     "name": "#%%\n"
    }
   }
  },
  {
   "cell_type": "code",
   "execution_count": 58,
   "outputs": [],
   "source": [
    "map = np.zeros(coos.max(axis=0)+1)"
   ],
   "metadata": {
    "collapsed": false,
    "pycharm": {
     "name": "#%%\n"
    }
   }
  },
  {
   "cell_type": "code",
   "execution_count": 59,
   "outputs": [],
   "source": [
    "for x,y in coos:\n",
    "    map[x,y] = 1"
   ],
   "metadata": {
    "collapsed": false,
    "pycharm": {
     "name": "#%%\n"
    }
   }
  },
  {
   "cell_type": "code",
   "execution_count": 61,
   "outputs": [],
   "source": [
    "def display(m):\n",
    "    for line in m.T:\n",
    "        print(''.join(['.' if el == 0 else '#' for el in line]))"
   ],
   "metadata": {
    "collapsed": false,
    "pycharm": {
     "name": "#%%\n"
    }
   }
  },
  {
   "cell_type": "code",
   "execution_count": 62,
   "outputs": [
    {
     "name": "stdout",
     "output_type": "stream",
     "text": [
      "####.#..#..##..#..#..##..####.#..#..##.\n",
      "...#.#.#..#..#.#..#.#..#.#....#..#.#..#\n",
      "..#..##...#..#.#..#.#....###..#..#.#...\n",
      ".#...#.#..####.#..#.#....#....#..#.#...\n",
      "#....#.#..#..#.#..#.#..#.#....#..#.#..#\n",
      "####.#..#.#..#..##...##..#.....##...##.\n"
     ]
    }
   ],
   "source": [
    "display(map)"
   ],
   "metadata": {
    "collapsed": false,
    "pycharm": {
     "name": "#%%\n"
    }
   }
  },
  {
   "cell_type": "code",
   "execution_count": null,
   "outputs": [],
   "source": [
    "# ZKAUCFUC"
   ],
   "metadata": {
    "collapsed": false,
    "pycharm": {
     "name": "#%%\n"
    }
   }
  }
 ],
 "metadata": {
  "kernelspec": {
   "display_name": "Python 3",
   "language": "python",
   "name": "python3"
  },
  "language_info": {
   "codemirror_mode": {
    "name": "ipython",
    "version": 2
   },
   "file_extension": ".py",
   "mimetype": "text/x-python",
   "name": "python",
   "nbconvert_exporter": "python",
   "pygments_lexer": "ipython2",
   "version": "2.7.6"
  }
 },
 "nbformat": 4,
 "nbformat_minor": 0
}