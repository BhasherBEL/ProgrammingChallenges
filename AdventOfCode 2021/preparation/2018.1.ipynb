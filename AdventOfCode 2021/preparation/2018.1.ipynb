{
 "cells": [
  {
   "cell_type": "code",
   "execution_count": 47,
   "metadata": {
    "collapsed": true
   },
   "outputs": [],
   "source": [
    "from aoc import AOC\n",
    "from personal import SESSION\n",
    "import numpy as np"
   ]
  },
  {
   "cell_type": "code",
   "execution_count": 134,
   "outputs": [],
   "source": [
    "aoc = AOC(session=SESSION)"
   ],
   "metadata": {
    "collapsed": false,
    "pycharm": {
     "name": "#%%\n"
    }
   }
  },
  {
   "cell_type": "code",
   "execution_count": 135,
   "outputs": [
    {
     "data": {
      "text/plain": "True"
     },
     "execution_count": 135,
     "metadata": {},
     "output_type": "execute_result"
    }
   ],
   "source": [
    "aoc.verify_session()"
   ],
   "metadata": {
    "collapsed": false,
    "pycharm": {
     "name": "#%%\n"
    }
   }
  },
  {
   "cell_type": "code",
   "execution_count": 144,
   "outputs": [
    {
     "name": "stdout",
     "output_type": "stream",
     "text": [
      "Local file found.\n",
      "959 lines of data.\n",
      "0 empty line(s) found. Analyse as monline data.\n",
      "===== HEAD (5) =====\n",
      "+12\n",
      "-10\n",
      "-4\n",
      "-8\n",
      "+18\n",
      "====================\n"
     ]
    },
    {
     "data": {
      "text/plain": "<aoc.AOC at 0x7f676e736130>"
     },
     "execution_count": 144,
     "metadata": {},
     "output_type": "execute_result"
    }
   ],
   "source": [
    "aoc.get_file(year=2018, day=1).analyse().head()"
   ],
   "metadata": {
    "collapsed": false,
    "pycharm": {
     "name": "#%%\n"
    }
   }
  },
  {
   "cell_type": "code",
   "execution_count": 142,
   "outputs": [],
   "source": [
    "tmp = []"
   ],
   "metadata": {
    "collapsed": false,
    "pycharm": {
     "name": "#%%\n"
    }
   }
  },
  {
   "cell_type": "code",
   "execution_count": 125,
   "outputs": [],
   "source": [
    "data = aoc.data"
   ],
   "metadata": {
    "collapsed": false,
    "pycharm": {
     "name": "#%%\n"
    }
   }
  },
  {
   "cell_type": "code",
   "execution_count": 126,
   "outputs": [],
   "source": [
    "s = sum(data)"
   ],
   "metadata": {
    "collapsed": false,
    "pycharm": {
     "name": "#%%\n"
    }
   }
  },
  {
   "cell_type": "code",
   "execution_count": 127,
   "outputs": [],
   "source": [
    "a = 0\n",
    "for el in data:\n",
    "    tmp.append(a+el)\n",
    "    a += el"
   ],
   "metadata": {
    "collapsed": false,
    "pycharm": {
     "name": "#%%\n"
    }
   }
  },
  {
   "cell_type": "code",
   "execution_count": 128,
   "outputs": [],
   "source": [
    "tmp = np.array(tmp)"
   ],
   "metadata": {
    "collapsed": false,
    "pycharm": {
     "name": "#%%\n"
    }
   }
  },
  {
   "cell_type": "code",
   "source": [
    "stmp = set(tmp)\n",
    "for i in range(1, 100000):\n",
    "    ns = set(tmp+i*s)\n",
    "    if stmp.intersection(ns):\n",
    "        print(i)\n",
    "        break\n",
    "    stmp.update(ns)"
   ],
   "metadata": {
    "collapsed": false,
    "pycharm": {
     "name": "#%%\n"
    }
   },
   "execution_count": 129,
   "outputs": [
    {
     "name": "stdout",
     "output_type": "stream",
     "text": [
      "135\n"
     ]
    }
   ]
  },
  {
   "cell_type": "code",
   "execution_count": 130,
   "outputs": [
    {
     "name": "stdout",
     "output_type": "stream",
     "text": [
      "55250\n",
      "55266\n",
      "55233\n",
      "55252\n",
      "55256\n",
      "55273\n",
      "55287\n",
      "55305\n",
      "55299\n",
      "55335\n",
      "55301\n",
      "55347\n",
      "55364\n",
      "55388\n",
      "55360\n",
      "55378\n",
      "55367\n",
      "55361\n",
      "55375\n",
      "55357\n",
      "55363\n",
      "55365\n",
      "55337\n",
      "55351\n",
      "55280\n",
      "55281\n",
      "55263\n",
      "55302\n",
      "55295\n",
      "55297\n",
      "55289\n",
      "55269\n",
      "55277\n",
      "55262\n",
      "55246\n",
      "55290\n",
      "110343\n",
      "110342\n",
      "110330\n",
      "110332\n",
      "110326\n",
      "110336\n",
      "110346\n",
      "110361\n",
      "110349\n",
      "110362\n",
      "110377\n",
      "110370\n",
      "110357\n",
      "110367\n",
      "110360\n",
      "110363\n",
      "110353\n",
      "110369\n",
      "110381\n",
      "110379\n",
      "110382\n",
      "110415\n",
      "110417\n",
      "110427\n",
      "110431\n",
      "110445\n",
      "110437\n",
      "110455\n",
      "110441\n",
      "110440\n",
      "110444\n",
      "110443\n",
      "110462\n",
      "110479\n",
      "110496\n",
      "110511\n",
      "110519\n",
      "110534\n",
      "110540\n",
      "110549\n",
      "110568\n",
      "110566\n",
      "110579\n",
      "110539\n",
      "110524\n",
      "110520\n",
      "110510\n",
      "110509\n",
      "110505\n",
      "110487\n",
      "110502\n",
      "110500\n",
      "110503\n",
      "110521\n",
      "110535\n",
      "110550\n",
      "110551\n",
      "110537\n",
      "110526\n",
      "110536\n",
      "110544\n",
      "110557\n",
      "110541\n",
      "110546\n",
      "110533\n",
      "110517\n",
      "110527\n",
      "110522\n",
      "110513\n",
      "110512\n",
      "110514\n",
      "110529\n",
      "110525\n",
      "110506\n",
      "110499\n",
      "110518\n",
      "110554\n",
      "110574\n",
      "110592\n",
      "110607\n",
      "110619\n",
      "110614\n",
      "110603\n",
      "110608\n",
      "110618\n",
      "110599\n",
      "110597\n",
      "110580\n",
      "110567\n",
      "110547\n",
      "110561\n",
      "110543\n",
      "110558\n",
      "110573\n",
      "110593\n",
      "110610\n",
      "110611\n",
      "110601\n",
      "110620\n",
      "110628\n",
      "110646\n",
      "110633\n",
      "110634\n",
      "110653\n",
      "110658\n",
      "110643\n",
      "110629\n",
      "110615\n",
      "110596\n",
      "110595\n",
      "110587\n",
      "110570\n",
      "110552\n",
      "110555\n",
      "110569\n",
      "110589\n",
      "110590\n",
      "110600\n",
      "110623\n",
      "110613\n",
      "110602\n",
      "110617\n",
      "110642\n",
      "110624\n",
      "110609\n",
      "110616\n",
      "110626\n",
      "110695\n",
      "110701\n",
      "110684\n",
      "110670\n",
      "110708\n",
      "110718\n",
      "110710\n",
      "110719\n",
      "110709\n",
      "110736\n",
      "110700\n",
      "110706\n",
      "110691\n",
      "110699\n",
      "110728\n",
      "110563\n",
      "55488\n"
     ]
    }
   ],
   "source": [
    "for v in tmp:\n",
    "    if v+i*s in stmp:\n",
    "        print(v+i*s)"
   ],
   "metadata": {
    "collapsed": false,
    "pycharm": {
     "name": "#%%\n"
    }
   }
  }
 ],
 "metadata": {
  "kernelspec": {
   "display_name": "Python 3",
   "language": "python",
   "name": "python3"
  },
  "language_info": {
   "codemirror_mode": {
    "name": "ipython",
    "version": 2
   },
   "file_extension": ".py",
   "mimetype": "text/x-python",
   "name": "python",
   "nbconvert_exporter": "python",
   "pygments_lexer": "ipython2",
   "version": "2.7.6"
  }
 },
 "nbformat": 4,
 "nbformat_minor": 0
}