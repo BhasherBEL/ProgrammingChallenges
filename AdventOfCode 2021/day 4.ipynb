{
 "cells": [
  {
   "cell_type": "code",
   "execution_count": 1,
   "metadata": {
    "collapsed": true
   },
   "outputs": [],
   "source": [
    "from utils import Utils, AOC\n",
    "from session import SESSION\n",
    "import numpy as np"
   ]
  },
  {
   "cell_type": "code",
   "execution_count": 2,
   "outputs": [],
   "source": [
    "aoc = AOC(session=SESSION)"
   ],
   "metadata": {
    "collapsed": false,
    "pycharm": {
     "name": "#%%\n"
    }
   }
  },
  {
   "cell_type": "code",
   "execution_count": 3,
   "outputs": [
    {
     "data": {
      "text/plain": "True"
     },
     "execution_count": 3,
     "metadata": {},
     "output_type": "execute_result"
    }
   ],
   "source": [
    "aoc.verify_session()"
   ],
   "metadata": {
    "collapsed": false,
    "pycharm": {
     "name": "#%%\n"
    }
   }
  },
  {
   "cell_type": "code",
   "execution_count": 4,
   "outputs": [
    {
     "name": "stdout",
     "output_type": "stream",
     "text": [
      "Local file found.\n",
      "100% of data are digits. Analyse as numbers.\n",
      "100 empty line(s) found. Analyse as multiline data.\n",
      "===== HEAD (5/101) =====\n",
      "[67  3 19  4 64 39 85 14 84 93 79 26 61 24 65 63 15 69 48  8 82 75 36 96\n",
      " 16 49 28 40 97 38 76 91 83  7 62 94 21 95  6 10 43 17 31 34 81 23 52 60\n",
      " 54 29 70 12 35  0 57 45 20 71 78 44 90  2 33 68 53 92 50 73 88 47 58  5\n",
      "  9 87 22 13 18 30 59 56 99 11 77 55 72 32 37 89 42 27 66 41 86 51 74  1\n",
      " 46 25 98 80]\n",
      "[[24 75 59 41 17]\n",
      " [58 74 64 92 39]\n",
      " [68  8 78 85 72]\n",
      " [18  3 22  4 34]\n",
      " [11 76  6 28 50]]\n",
      "[[21 31 36 13 87]\n",
      " [80 91 63 62 77]\n",
      " [46 93 40 16 25]\n",
      " [47 66 30 54 74]\n",
      " [56 59 86 72 37]]\n",
      "[[92 43 68 60 81]\n",
      " [ 3 78 75 73 12]\n",
      " [90 50 31 67 76]\n",
      " [28 63 52 95 61]\n",
      " [ 6 38 79 19 17]]\n",
      "[[81 20 61 60 86]\n",
      " [43 27 50 21 85]\n",
      " [77 84 68 76 24]\n",
      " [33 13 89  1 48]\n",
      " [ 6 57 30 11  5]]\n",
      "========================\n"
     ]
    },
    {
     "name": "stderr",
     "output_type": "stream",
     "text": [
      "/home/bhasher/Documents/tech/projets/ProgrammingChallenges/utils_components/aoc2.py:101: VisibleDeprecationWarning: Creating an ndarray from ragged nested sequences (which is a list-or-tuple of lists-or-tuples-or ndarrays with different lengths or shapes) is deprecated. If you meant to do this, you must specify 'dtype=object' when creating the ndarray.\n",
      "  self.data = np.array([self.parse(group.split('\\n')) for group in self.raw.split('\\n\\n')])\n"
     ]
    },
    {
     "data": {
      "text/plain": "<utils_components.aoc2.AOC at 0x7f7e0da94700>"
     },
     "execution_count": 4,
     "metadata": {},
     "output_type": "execute_result"
    }
   ],
   "source": [
    "aoc.get_file(year=2021, day=4).analyse().head()"
   ],
   "metadata": {
    "collapsed": false,
    "pycharm": {
     "name": "#%%\n"
    }
   }
  },
  {
   "cell_type": "code",
   "execution_count": 9,
   "outputs": [],
   "source": [
    "numbers, *tables = aoc.data\n",
    "marks = np.array(tables)\n",
    "marks.fill(1)"
   ],
   "metadata": {
    "collapsed": false,
    "pycharm": {
     "name": "#%%\n"
    }
   }
  },
  {
   "cell_type": "code",
   "execution_count": 10,
   "outputs": [],
   "source": [
    "def mark(number):\n",
    "    for i in range(len(tables)):\n",
    "        for loc in zip(*np.where(tables[i]==number)):\n",
    "            print(loc)\n",
    "            marks[i][loc] = 0\n",
    "            tables[i][loc] = 0"
   ],
   "metadata": {
    "collapsed": false,
    "pycharm": {
     "name": "#%%\n"
    }
   }
  },
  {
   "cell_type": "code",
   "execution_count": 11,
   "outputs": [],
   "source": [
    "def check():\n",
    "    for i in range(len(tables)):\n",
    "        if min(min(marks[i].sum(axis=0)), min(marks[i].sum(axis=1))) == 0:\n",
    "            return i"
   ],
   "metadata": {
    "collapsed": false,
    "pycharm": {
     "name": "#%%\n"
    }
   }
  },
  {
   "cell_type": "code",
   "execution_count": 13,
   "outputs": [],
   "source": [
    "for n in numbers:\n",
    "    mark(n)\n",
    "    c = check()\n",
    "    if c is not None:\n",
    "        #print(n, c)\n",
    "        break"
   ],
   "metadata": {
    "collapsed": false,
    "pycharm": {
     "name": "#%%\n"
    }
   }
  },
  {
   "cell_type": "code",
   "execution_count": 16,
   "outputs": [
    {
     "data": {
      "text/plain": "49513"
     },
     "execution_count": 16,
     "metadata": {},
     "output_type": "execute_result"
    }
   ],
   "source": [
    "tables[c].sum() * n"
   ],
   "metadata": {
    "collapsed": false,
    "pycharm": {
     "name": "#%%\n"
    }
   }
  },
  {
   "cell_type": "code",
   "execution_count": 17,
   "outputs": [],
   "source": [
    "def check2():\n",
    "    v = set()\n",
    "    for i in range(len(tables)):\n",
    "        if min(min(marks[i].sum(axis=0)), min(marks[i].sum(axis=1))) == 0:\n",
    "            v.add(i)\n",
    "    if len(v) == len(tables):\n",
    "        return set(range(len(tables))).difference(v)"
   ],
   "metadata": {
    "collapsed": false,
    "pycharm": {
     "name": "#%%\n"
    }
   }
  },
  {
   "cell_type": "code",
   "execution_count": 19,
   "outputs": [],
   "source": [
    "for n in numbers:\n",
    "    mark(n)\n",
    "    c = check2()\n",
    "    if c is not None:\n",
    "        #print(n, c)\n",
    "        break"
   ],
   "metadata": {
    "collapsed": false,
    "pycharm": {
     "name": "#%%\n"
    }
   }
  },
  {
   "cell_type": "code",
   "execution_count": 20,
   "outputs": [],
   "source": [
    "# < 15895\n",
    "# = 8224"
   ],
   "metadata": {
    "collapsed": false,
    "pycharm": {
     "name": "#%%\n"
    }
   }
  },
  {
   "cell_type": "code",
   "execution_count": 21,
   "outputs": [
    {
     "data": {
      "text/plain": "17219"
     },
     "execution_count": 21,
     "metadata": {},
     "output_type": "execute_result"
    }
   ],
   "source": [
    "tables[83].sum() * n"
   ],
   "metadata": {
    "collapsed": false,
    "pycharm": {
     "name": "#%%\n"
    }
   }
  },
  {
   "cell_type": "code",
   "execution_count": 22,
   "outputs": [
    {
     "data": {
      "text/plain": "array([[ 0, 27,  0,  0,  0],\n       [ 0,  0,  0,  0,  0],\n       [ 0,  0, 25,  0,  0],\n       [41,  0,  0,  0, 98],\n       [ 0,  0,  0, 66,  0]])"
     },
     "execution_count": 22,
     "metadata": {},
     "output_type": "execute_result"
    }
   ],
   "source": [
    "tables[83]"
   ],
   "metadata": {
    "collapsed": false,
    "pycharm": {
     "name": "#%%\n"
    }
   }
  }
 ],
 "metadata": {
  "kernelspec": {
   "display_name": "Python 3",
   "language": "python",
   "name": "python3"
  },
  "language_info": {
   "codemirror_mode": {
    "name": "ipython",
    "version": 2
   },
   "file_extension": ".py",
   "mimetype": "text/x-python",
   "name": "python",
   "nbconvert_exporter": "python",
   "pygments_lexer": "ipython2",
   "version": "2.7.6"
  }
 },
 "nbformat": 4,
 "nbformat_minor": 0
}