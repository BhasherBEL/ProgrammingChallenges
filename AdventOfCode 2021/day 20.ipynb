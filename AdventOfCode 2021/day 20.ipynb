{
 "cells": [
  {
   "cell_type": "code",
   "execution_count": 1,
   "metadata": {
    "collapsed": true
   },
   "outputs": [],
   "source": [
    "from __future__ import annotations\n",
    "import math\n",
    "from utils import Utils, AOC\n",
    "from session import SESSION\n",
    "from collections import defaultdict\n",
    "from functools import reduce\n",
    "from itertools import permutations\n",
    "import numpy as np\n",
    "import re"
   ]
  },
  {
   "cell_type": "code",
   "execution_count": 2,
   "metadata": {
    "pycharm": {
     "name": "#%%\n"
    }
   },
   "outputs": [],
   "source": [
    "aoc = AOC(session=SESSION)"
   ]
  },
  {
   "cell_type": "code",
   "execution_count": 3,
   "metadata": {
    "pycharm": {
     "name": "#%%\n"
    }
   },
   "outputs": [
    {
     "data": {
      "text/plain": "True"
     },
     "execution_count": 3,
     "metadata": {},
     "output_type": "execute_result"
    }
   ],
   "source": [
    "aoc.verify_session()"
   ]
  },
  {
   "cell_type": "code",
   "execution_count": 152,
   "outputs": [
    {
     "name": "stdout",
     "output_type": "stream",
     "text": [
      "Local file found.\n",
      "===== HEAD (5/102) =====\n",
      "#.#....########.......##..##.#.#####...#..#..##.###.##.#..##.....#.#....#...####.#...#.##.#.#.#....###...#.##.#...#.#....#...#.#..#....###.##.....#.######.#.##.#..####..#...#.##.##...#....###..#.##..###..#..#.....#.###.##....##...#....###.#.......#.#####...#.##..###....##.#.##..##.######...##..##.#..###.###.....###...##.##.#..#...##..#.###..#..###..##...#...#.#..#..#..##....###...........###.#....#######...#####.#..##...#..#....##.##.#.###...####...#.#..#...#.##.#.#..#.###.#.#####.#.##.###.##..#..#...###.#.\n",
      "\n",
      ".#.#.##.#######..#..#..#.#.#...###.###.##..##..##.###..#.#...##..##....##....#..####.#.###..#.#.#..#\n",
      "#..###.##.........#..#.#...#......###..##.#.####....#..#..###.#.#######...###..#.#.##.#..##.#.#.....\n",
      ".###..##.##..#.#.####.#.##..##.#.##.#..#####.#..#....#....#....#...#.##..###.#.####...##..##.##.#...\n",
      "========================\n"
     ]
    },
    {
     "data": {
      "text/plain": "<utils_components.aoc2.AOC at 0x7f00487d6220>"
     },
     "execution_count": 152,
     "metadata": {},
     "output_type": "execute_result"
    }
   ],
   "source": [
    "aoc.get_today_file().analyse().head()"
   ],
   "metadata": {
    "collapsed": false,
    "pycharm": {
     "name": "#%%\n"
    }
   }
  },
  {
   "cell_type": "code",
   "execution_count": 148,
   "outputs": [],
   "source": [
    "iea = aoc.data[0]\n",
    "in_image = np.array([list(el) for el in aoc.data[2:]])\n",
    "s = 200\n",
    "in_map = np.full((2*s, 2*s), '.')\n",
    "in_map[s:s+len(in_image), s:s+len(in_image[0])] = in_image"
   ],
   "metadata": {
    "collapsed": false,
    "pycharm": {
     "name": "#%%\n"
    }
   }
  },
  {
   "cell_type": "code",
   "execution_count": 149,
   "outputs": [],
   "source": [
    "out_map = in_map.copy()"
   ],
   "metadata": {
    "collapsed": false,
    "pycharm": {
     "name": "#%%\n"
    }
   }
  },
  {
   "cell_type": "code",
   "execution_count": 150,
   "outputs": [
    {
     "name": "stdout",
     "output_type": "stream",
     "text": [
      "012345678910111213141516171819202122232425262728293031323334353637383940414243444546474849"
     ]
    }
   ],
   "source": [
    "for k in range(50):\n",
    "    print(k, end=' ')\n",
    "    for j in range(len(in_map)):\n",
    "        for i in range(len(in_map[j])):\n",
    "            out_map[j, i] = iea[int(''.join([\n",
    "                '0' if in_map[co] == '.' else '1'\n",
    "                for co\n",
    "                in Utils.get_neighbours((j, i), exclude=False, type=Utils.NeighboursType.ALL, dimensions=((0, len(in_map)-1), (0, len(in_map[0])-1)))\n",
    "            ]), 2)]\n",
    "    in_map = out_map.copy()"
   ],
   "metadata": {
    "collapsed": false,
    "pycharm": {
     "name": "#%%\n"
    }
   }
  },
  {
   "cell_type": "code",
   "execution_count": 151,
   "outputs": [
    {
     "data": {
      "text/plain": "18502"
     },
     "execution_count": 151,
     "metadata": {},
     "output_type": "execute_result"
    }
   ],
   "source": [
    "np.count_nonzero(out_map=='#')"
   ],
   "metadata": {
    "collapsed": false,
    "pycharm": {
     "name": "#%%\n"
    }
   }
  }
 ],
 "metadata": {
  "kernelspec": {
   "display_name": "Python 3",
   "language": "python",
   "name": "python3"
  },
  "language_info": {
   "codemirror_mode": {
    "name": "ipython",
    "version": 3
   },
   "file_extension": ".py",
   "mimetype": "text/x-python",
   "name": "python",
   "nbconvert_exporter": "python",
   "pygments_lexer": "ipython3",
   "version": "3.9.7"
  }
 },
 "nbformat": 4,
 "nbformat_minor": 1
}