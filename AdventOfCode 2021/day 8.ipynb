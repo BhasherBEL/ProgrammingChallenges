{
 "cells": [
  {
   "cell_type": "code",
   "execution_count": 3,
   "metadata": {
    "collapsed": true
   },
   "outputs": [],
   "source": [
    "from utils import Utils, AOC\n",
    "from session import SESSION\n",
    "from collections import defaultdict\n",
    "from matplotlib import pyplot as plt\n",
    "import numpy as np"
   ]
  },
  {
   "cell_type": "code",
   "execution_count": 4,
   "outputs": [],
   "source": [
    "aoc = AOC(session=SESSION)"
   ],
   "metadata": {
    "collapsed": false,
    "pycharm": {
     "name": "#%%\n"
    }
   }
  },
  {
   "cell_type": "code",
   "execution_count": 5,
   "outputs": [
    {
     "data": {
      "text/plain": "True"
     },
     "execution_count": 5,
     "metadata": {},
     "output_type": "execute_result"
    }
   ],
   "source": [
    "aoc.verify_session()"
   ],
   "metadata": {
    "collapsed": false,
    "pycharm": {
     "name": "#%%\n"
    }
   }
  },
  {
   "cell_type": "code",
   "execution_count": 6,
   "outputs": [
    {
     "name": "stdout",
     "output_type": "stream",
     "text": [
      "Local file found.\n",
      "0% of data are digits. Analyse as text.\n",
      "0 empty line(s) found. Analyse as monline data.\n",
      "===== HEAD (5/200) =====\n",
      "bcedagf ebadf gcdfe gfcead bcedgf dfeca ac dgca ace cafbge | ecfdbag gecfd feadb degacbf\n",
      "gab cebfag bdfg gaefd bg debga gadbef dbafgce gdafec cadbe | befdga fgdaec gdaecf bdecgaf\n",
      "feabcg eacd cdbeg cfgbda dgefb cbgefad ceb dbagc ce gadbec | ec ceb aecd daec\n",
      "acdbf ebfa fagdec ef bcged edcfba gcedafb facgdb ebcfd ecf | fe fce gfcdab fe\n",
      "bcg eacfbg daebgfc cfabd gbfaed degfcb gc cdeg cbdfg egfdb | fbgcaed edbfg aedgbcf cg\n",
      "========================\n"
     ]
    },
    {
     "data": {
      "text/plain": "<utils_components.aoc2.AOC at 0x7feba45ce910>"
     },
     "execution_count": 6,
     "metadata": {},
     "output_type": "execute_result"
    }
   ],
   "source": [
    "aoc.get_today_file().analyse().head()"
   ],
   "metadata": {
    "collapsed": false,
    "pycharm": {
     "name": "#%%\n"
    }
   }
  },
  {
   "cell_type": "code",
   "execution_count": 7,
   "outputs": [],
   "source": [
    "# > 200\n",
    "# P1 = 504"
   ],
   "metadata": {
    "collapsed": false,
    "pycharm": {
     "name": "#%%\n"
    }
   }
  },
  {
   "cell_type": "code",
   "execution_count": 18,
   "outputs": [],
   "source": [
    "data = aoc.data"
   ],
   "metadata": {
    "collapsed": false,
    "pycharm": {
     "name": "#%%\n"
    }
   }
  },
  {
   "cell_type": "code",
   "execution_count": 19,
   "outputs": [],
   "source": [
    "res = 0\n",
    "for line in data:\n",
    "    a, b = line.split(' | ')\n",
    "    for digit in b.split(' '):\n",
    "        if len(digit) in [2, 4, 3, 7]:\n",
    "            res += 1"
   ],
   "metadata": {
    "collapsed": false,
    "pycharm": {
     "name": "#%%\n"
    }
   }
  },
  {
   "cell_type": "code",
   "execution_count": 20,
   "outputs": [
    {
     "data": {
      "text/plain": "504"
     },
     "execution_count": 20,
     "metadata": {},
     "output_type": "execute_result"
    }
   ],
   "source": [
    "res"
   ],
   "metadata": {
    "collapsed": false,
    "pycharm": {
     "name": "#%%\n"
    }
   }
  },
  {
   "cell_type": "code",
   "execution_count": 21,
   "outputs": [],
   "source": [
    "content = {\n",
    "    0: 'abcefg',\n",
    "    1: 'cf',\n",
    "    2: \"acdeg\",\n",
    "    3: 'acdfg',\n",
    "    4: 'bcdf',\n",
    "    5: 'abdfg',\n",
    "    6: 'abdefg',\n",
    "    7: 'acf',\n",
    "    8: 'abcdefg',\n",
    "    9: 'abcdfg'\n",
    "}"
   ],
   "metadata": {
    "collapsed": false,
    "pycharm": {
     "name": "#%%\n"
    }
   }
  },
  {
   "cell_type": "code",
   "execution_count": 22,
   "outputs": [],
   "source": [
    "reversed_content = {v: k for k, v in content.items()}"
   ],
   "metadata": {
    "collapsed": false,
    "pycharm": {
     "name": "#%%\n"
    }
   }
  },
  {
   "cell_type": "code",
   "execution_count": 23,
   "outputs": [],
   "source": [
    "def allow(letters, word):\n",
    "    global translater, words\n",
    "    for candidate in ['a', 'b', 'c', 'd', 'e', 'f', 'g']:\n",
    "        if candidate in letters:\n",
    "            translater[candidate].intersection_update(set(word))\n",
    "        else:\n",
    "            translater[candidate].difference_update(set(word))"
   ],
   "metadata": {
    "collapsed": false,
    "pycharm": {
     "name": "#%%\n"
    }
   }
  },
  {
   "cell_type": "code",
   "execution_count": 24,
   "outputs": [],
   "source": [
    "def all_pos(trans):\n",
    "    poss = [{}]\n",
    "    for key, value in trans.items():\n",
    "        lposs = poss\n",
    "        poss = []\n",
    "        for el in value:\n",
    "            for pos in lposs:\n",
    "                c = dict(pos)\n",
    "                if el not in c.values():\n",
    "                    c[key] = el\n",
    "                    poss.append(c)\n",
    "    return poss"
   ],
   "metadata": {
    "collapsed": false,
    "pycharm": {
     "name": "#%%\n"
    }
   }
  },
  {
   "cell_type": "code",
   "execution_count": 27,
   "outputs": [],
   "source": [
    "res = []\n",
    "for line in data:\n",
    "    translater = {letter: set('abcdefg') for letter in 'abcdefg'}\n",
    "    words = {el: set([i for i in range(10) if len(content[i]) == len(el)]) for el in line.split(' ') if len(el) > 1}\n",
    "\n",
    "    for el in words.keys():\n",
    "        for i in content.keys():\n",
    "            if len(el) in [2, 3, 4, 7] and len(el) == len(content[i]):\n",
    "                allow(content[i], el)\n",
    "\n",
    "    for k, v in translater.items():\n",
    "        if len(v) == 1:\n",
    "            v = list(v)[0]\n",
    "            have_it = {key for key, val in content.items() if k in val}\n",
    "            dont_have_it = {key for key, val in content.items() if k not in val}\n",
    "            for word in words.keys():\n",
    "                if v in word:\n",
    "                    words[word].intersection_update(have_it)\n",
    "                else:\n",
    "                    words[word].difference_update(have_it)\n",
    "\n",
    "    cred_poss = []\n",
    "    for p in all_pos(translater):\n",
    "        poss = {v: k for k, v in p.items()}\n",
    "        new_words = [''.join(sorted(poss[letter] for letter in word)) for word in words.keys()]\n",
    "\n",
    "        for word in new_words:\n",
    "            if word not in content.values():\n",
    "                break\n",
    "        else:\n",
    "            cred_poss.append(poss)\n",
    "\n",
    "    traductor = cred_poss[0]\n",
    "\n",
    "    digits = ''\n",
    "    for word in line.split(' | ')[1].split(' '):\n",
    "        new_word = ''.join(sorted(traductor[letter] for letter in word))\n",
    "        digit = reversed_content[new_word]\n",
    "        digits += str(digit)\n",
    "    digits = int(digits)\n",
    "    res.append(digits)"
   ],
   "metadata": {
    "collapsed": false,
    "pycharm": {
     "name": "#%%\n"
    }
   }
  },
  {
   "cell_type": "code",
   "execution_count": 28,
   "outputs": [
    {
     "data": {
      "text/plain": "1073431"
     },
     "execution_count": 28,
     "metadata": {},
     "output_type": "execute_result"
    }
   ],
   "source": [
    "sum(res)"
   ],
   "metadata": {
    "collapsed": false,
    "pycharm": {
     "name": "#%%\n"
    }
   }
  }
 ],
 "metadata": {
  "kernelspec": {
   "display_name": "Python 3",
   "language": "python",
   "name": "python3"
  },
  "language_info": {
   "codemirror_mode": {
    "name": "ipython",
    "version": 2
   },
   "file_extension": ".py",
   "mimetype": "text/x-python",
   "name": "python",
   "nbconvert_exporter": "python",
   "pygments_lexer": "ipython2",
   "version": "2.7.6"
  }
 },
 "nbformat": 4,
 "nbformat_minor": 0
}