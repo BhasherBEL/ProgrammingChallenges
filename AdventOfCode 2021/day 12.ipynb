{
 "cells": [
  {
   "cell_type": "code",
   "execution_count": 1,
   "metadata": {
    "collapsed": true
   },
   "outputs": [],
   "source": [
    "from utils import Utils, AOC\n",
    "from session import SESSION\n",
    "from collections import defaultdict\n",
    "from matplotlib import pyplot as plt\n",
    "import numpy as np"
   ]
  },
  {
   "cell_type": "code",
   "execution_count": 2,
   "outputs": [],
   "source": [
    "aoc = AOC(session=SESSION)"
   ],
   "metadata": {
    "collapsed": false,
    "pycharm": {
     "name": "#%%\n"
    }
   }
  },
  {
   "cell_type": "code",
   "execution_count": 3,
   "outputs": [
    {
     "data": {
      "text/plain": "True"
     },
     "execution_count": 3,
     "metadata": {},
     "output_type": "execute_result"
    }
   ],
   "source": [
    "aoc.verify_session()"
   ],
   "metadata": {
    "collapsed": false,
    "pycharm": {
     "name": "#%%\n"
    }
   }
  },
  {
   "cell_type": "code",
   "execution_count": 160,
   "outputs": [
    {
     "name": "stdout",
     "output_type": "stream",
     "text": [
      "Local file found.\n",
      "0 empty line(s) found. Analyse as monline data.\n",
      "===== HEAD (5/25) =====\n",
      "BC-gt\n",
      "gt-zf\n",
      "end-KH\n",
      "end-BC\n",
      "so-NL\n",
      "=======================\n"
     ]
    },
    {
     "data": {
      "text/plain": "<utils_components.aoc2.AOC at 0x7fdecff3c970>"
     },
     "execution_count": 160,
     "metadata": {},
     "output_type": "execute_result"
    }
   ],
   "source": [
    "aoc.get_today_file().analyse().head()"
   ],
   "metadata": {
    "collapsed": false,
    "pycharm": {
     "name": "#%%\n"
    }
   }
  },
  {
   "cell_type": "code",
   "execution_count": 113,
   "outputs": [],
   "source": [
    "data = \"\"\"start-A\n",
    "start-b\n",
    "A-c\n",
    "A-b\n",
    "b-d\n",
    "A-end\n",
    "b-end\"\"\".split('\\n')"
   ],
   "metadata": {
    "collapsed": false,
    "pycharm": {
     "name": "#%%\n"
    }
   }
  },
  {
   "cell_type": "code",
   "execution_count": 161,
   "outputs": [],
   "source": [
    "data = aoc.data"
   ],
   "metadata": {
    "collapsed": false,
    "pycharm": {
     "name": "#%%\n"
    }
   }
  },
  {
   "cell_type": "code",
   "execution_count": 162,
   "outputs": [],
   "source": [
    "trajets = defaultdict(set)"
   ],
   "metadata": {
    "collapsed": false,
    "pycharm": {
     "name": "#%%\n"
    }
   }
  },
  {
   "cell_type": "code",
   "execution_count": 163,
   "outputs": [],
   "source": [
    "for line in data:\n",
    "    a,b = line.split('-')\n",
    "    trajets[a].add(b)\n",
    "    trajets[b].add(a)"
   ],
   "metadata": {
    "collapsed": false,
    "pycharm": {
     "name": "#%%\n"
    }
   }
  },
  {
   "cell_type": "code",
   "execution_count": 164,
   "outputs": [
    {
     "data": {
      "text/plain": "defaultdict(set,\n            {'BC': {'end', 'gt', 'ly', 'start', 'zf'},\n             'gt': {'BC', 'NL', 'start', 'zf'},\n             'zf': {'BC', 'NL', 'gt', 'ly', 'so', 'start'},\n             'end': {'BC', 'KH', 'LK'},\n             'KH': {'end', 'ly', 'so', 'ui'},\n             'so': {'KH', 'LK', 'NL', 'bt', 'ly', 'zf'},\n             'NL': {'bt', 'gt', 'ly', 'so', 'zf'},\n             'ly': {'BC', 'KH', 'LK', 'NL', 'so', 'zf'},\n             'start': {'BC', 'gt', 'zf'},\n             'LK': {'end', 'ly', 'so'},\n             'bt': {'IA', 'NL', 'so'},\n             'IA': {'bt'},\n             'ui': {'KH'}})"
     },
     "execution_count": 164,
     "metadata": {},
     "output_type": "execute_result"
    }
   ],
   "source": [
    "trajets"
   ],
   "metadata": {
    "collapsed": false,
    "pycharm": {
     "name": "#%%\n"
    }
   }
  },
  {
   "cell_type": "code",
   "execution_count": 165,
   "outputs": [],
   "source": [
    "def findall(f, t, current=None, used=False):\n",
    "    if current is None:\n",
    "        current = [f]\n",
    "\n",
    "    if t == f:\n",
    "        return [[]]\n",
    "\n",
    "    res = []\n",
    "\n",
    "    for next_ in trajets[f]:\n",
    "        nu = used\n",
    "\n",
    "        if next_ == 'start':\n",
    "            continue\n",
    "\n",
    "        if next_.isupper():\n",
    "            amount = 0\n",
    "        else:\n",
    "            amount = current.count(next_)\n",
    "\n",
    "        #print(current, next_, amount, used)\n",
    "        if amount >= 1:\n",
    "            if nu:\n",
    "                continue\n",
    "            else:\n",
    "                nu = True\n",
    "\n",
    "        for next__ in findall(next_, t, current + [next_], nu):\n",
    "            res.append([next_] + next__)\n",
    "\n",
    "    return res"
   ],
   "metadata": {
    "collapsed": false,
    "pycharm": {
     "name": "#%%\n"
    }
   }
  },
  {
   "cell_type": "code",
   "execution_count": 168,
   "outputs": [],
   "source": [
    "# part 1 : 4775\n",
    "# part 2 : 152480"
   ],
   "metadata": {
    "collapsed": false,
    "pycharm": {
     "name": "#%%\n"
    }
   }
  },
  {
   "cell_type": "code",
   "execution_count": 169,
   "outputs": [
    {
     "name": "stdout",
     "output_type": "stream",
     "text": [
      "152480\n"
     ]
    }
   ],
   "source": [
    "print(len(a:=findall('start', 'end')))"
   ],
   "metadata": {
    "collapsed": false,
    "pycharm": {
     "name": "#%%\n"
    }
   }
  },
  {
   "cell_type": "markdown",
   "source": [
    "### Post submission optimisation"
   ],
   "metadata": {
    "collapsed": false,
    "pycharm": {
     "name": "#%% md\n"
    }
   }
  },
  {
   "cell_type": "code",
   "execution_count": 179,
   "outputs": [],
   "source": [
    "data = \"\"\"start-A\n",
    "start-b\n",
    "A-c\n",
    "A-b\n",
    "b-d\n",
    "A-end\n",
    "b-end\"\"\".split('\\n')"
   ],
   "metadata": {
    "collapsed": false,
    "pycharm": {
     "name": "#%%\n"
    }
   }
  },
  {
   "cell_type": "code",
   "execution_count": 196,
   "outputs": [],
   "source": [
    "trajets = defaultdict(set)"
   ],
   "metadata": {
    "collapsed": false,
    "pycharm": {
     "name": "#%%\n"
    }
   }
  },
  {
   "cell_type": "code",
   "execution_count": 197,
   "outputs": [],
   "source": [
    "for line in data:\n",
    "    a,b = line.split('-')\n",
    "    trajets[a].add(b)\n",
    "    if a != 'start':\n",
    "        trajets[b].add(a)"
   ],
   "metadata": {
    "collapsed": false,
    "pycharm": {
     "name": "#%%\n"
    }
   }
  },
  {
   "cell_type": "code",
   "execution_count": 198,
   "outputs": [
    {
     "data": {
      "text/plain": "defaultdict(set,\n            {'start': {'A', 'b'},\n             'A': {'b', 'c', 'end'},\n             'c': {'A'},\n             'b': {'A', 'd', 'end'},\n             'd': {'b'},\n             'end': {'A', 'b'}})"
     },
     "execution_count": 198,
     "metadata": {},
     "output_type": "execute_result"
    }
   ],
   "source": [
    "trajets"
   ],
   "metadata": {
    "collapsed": false,
    "pycharm": {
     "name": "#%%\n"
    }
   }
  },
  {
   "cell_type": "code",
   "execution_count": 203,
   "outputs": [],
   "source": [
    "def findall(f, t, current=[]):\n",
    "    return [[]] if t == f else [[next_] + next__ for next_ in trajets[f] if next_.isupper() or next_ not in current for next__ in findall(next_, t, current + [next_])]"
   ],
   "metadata": {
    "collapsed": false,
    "pycharm": {
     "name": "#%%\n"
    }
   }
  },
  {
   "cell_type": "code",
   "execution_count": 204,
   "outputs": [
    {
     "data": {
      "text/plain": "[['A', 'c', 'A', 'b', 'A', 'end'],\n ['A', 'c', 'A', 'b', 'end'],\n ['A', 'c', 'A', 'end'],\n ['A', 'b', 'A', 'c', 'A', 'end'],\n ['A', 'b', 'A', 'end'],\n ['A', 'b', 'end'],\n ['A', 'end'],\n ['b', 'A', 'c', 'A', 'end'],\n ['b', 'A', 'end'],\n ['b', 'end']]"
     },
     "execution_count": 204,
     "metadata": {},
     "output_type": "execute_result"
    }
   ],
   "source": [
    "findall('start', 'end')"
   ],
   "metadata": {
    "collapsed": false,
    "pycharm": {
     "name": "#%%\n"
    }
   }
  }
 ],
 "metadata": {
  "kernelspec": {
   "display_name": "Python 3",
   "language": "python",
   "name": "python3"
  },
  "language_info": {
   "codemirror_mode": {
    "name": "ipython",
    "version": 2
   },
   "file_extension": ".py",
   "mimetype": "text/x-python",
   "name": "python",
   "nbconvert_exporter": "python",
   "pygments_lexer": "ipython2",
   "version": "2.7.6"
  }
 },
 "nbformat": 4,
 "nbformat_minor": 0
}