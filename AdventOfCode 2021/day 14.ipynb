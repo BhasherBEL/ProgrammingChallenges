{
 "cells": [
  {
   "cell_type": "code",
   "execution_count": 1,
   "metadata": {
    "collapsed": true
   },
   "outputs": [],
   "source": [
    "from utils import Utils, AOC\n",
    "from session import SESSION\n",
    "from collections import defaultdict\n",
    "from matplotlib import pyplot as plt\n",
    "import numpy as np"
   ]
  },
  {
   "cell_type": "code",
   "execution_count": 2,
   "outputs": [],
   "source": [
    "aoc = AOC(session=SESSION)"
   ],
   "metadata": {
    "collapsed": false,
    "pycharm": {
     "name": "#%%\n"
    }
   }
  },
  {
   "cell_type": "code",
   "execution_count": 3,
   "outputs": [
    {
     "data": {
      "text/plain": "True"
     },
     "execution_count": 3,
     "metadata": {},
     "output_type": "execute_result"
    }
   ],
   "source": [
    "aoc.verify_session()"
   ],
   "metadata": {
    "collapsed": false,
    "pycharm": {
     "name": "#%%\n"
    }
   }
  },
  {
   "cell_type": "code",
   "execution_count": 4,
   "outputs": [
    {
     "name": "stdout",
     "output_type": "stream",
     "text": [
      "Local file found.\n",
      "0% of data are digits. Analyse as text.\n",
      "===== HEAD (2/2) =====\n",
      "['PBVHVOCOCFFNBCNCCBHK']\n",
      "['FV -> C', 'SS -> B', 'SC -> B', 'BP -> K', 'VP -> S', 'HK -> K', 'FS -> F', 'CC -> V', 'VB -> P', 'OP -> B', 'FO -> N', 'FH -> O', 'VK -> N', 'PV -> S', 'HV -> O', 'PF -> F', 'HH -> F', 'NK -> S', 'NC -> S', 'FC -> H', 'FK -> K', 'OO -> N', 'HP -> C', 'NN -> H', 'BB -> H', 'CN -> P', 'PS -> N', 'VF -> S', 'CB -> B', 'OH -> S', 'CF -> C', 'OK -> P', 'CV -> V', 'CS -> H', 'KN -> B', 'OV -> S', 'HB -> C', 'OS -> V', 'PC -> B', 'CK -> S', 'PP -> K', 'SN -> O', 'VV -> C', 'NS -> F', 'PN -> K', 'HS -> P', 'VO -> B', 'VC -> B', 'NV -> P', 'VS -> N', 'FP -> F', 'HO -> S', 'KS -> O', 'BN -> F', 'VN -> P', 'OC -> K', 'SF -> P', 'PO -> P', 'SB -> O', 'FN -> F', 'OF -> F', 'CP -> C', 'HC -> O', 'PH -> O', 'BC -> O', 'NO -> C', 'BH -> C', 'VH -> S', 'KK -> O', 'SV -> K', 'KB -> K', 'BS -> S', 'HF -> B', 'NH -> S', 'PB -> N', 'HN -> K', 'SK -> B', 'FB -> F', 'KV -> S', 'BF -> S', 'ON -> S', 'BV -> P', 'KC -> S', 'NB -> S', 'NP -> B', 'BK -> K', 'NF -> C', 'BO -> K', 'KF -> B', 'KH -> N', 'SP -> O', 'CO -> S', 'KO -> V', 'SO -> B', 'CH -> C', 'KP -> C', 'FF -> K', 'PK -> F', 'OB -> H', 'SH -> C']\n",
      "======================\n"
     ]
    },
    {
     "name": "stderr",
     "output_type": "stream",
     "text": [
      "/home/bhasher/Documents/tech/projets/ProgrammingChallenges/utils_components/aoc2.py:104: VisibleDeprecationWarning: Creating an ndarray from ragged nested sequences (which is a list-or-tuple of lists-or-tuples-or ndarrays with different lengths or shapes) is deprecated. If you meant to do this, you must specify 'dtype=object' when creating the ndarray.\n",
      "  self.data = np.array([group.split('\\n') for group in self.raw.split('\\n\\n')])\n"
     ]
    },
    {
     "data": {
      "text/plain": "<utils_components.aoc2.AOC at 0x7fd66da4e040>"
     },
     "execution_count": 4,
     "metadata": {},
     "output_type": "execute_result"
    }
   ],
   "source": [
    "aoc.get_today_file().analyse(monoline=False).head()"
   ],
   "metadata": {
    "collapsed": false,
    "pycharm": {
     "name": "#%%\n"
    }
   }
  },
  {
   "cell_type": "code",
   "execution_count": 5,
   "outputs": [
    {
     "data": {
      "text/plain": "'PBVHVOCOCFFNBCNCCBHK'"
     },
     "execution_count": 5,
     "metadata": {},
     "output_type": "execute_result"
    }
   ],
   "source": [
    "start = aoc.data[0][0]\n",
    "start"
   ],
   "metadata": {
    "collapsed": false,
    "pycharm": {
     "name": "#%%\n"
    }
   }
  },
  {
   "cell_type": "code",
   "execution_count": 6,
   "outputs": [],
   "source": [
    "switchers = {}\n",
    "for el in aoc.data[1]:\n",
    "    f, i = el.split(' -> ')\n",
    "    f1, f2 = f\n",
    "    switchers[f] = f1 + i + f2"
   ],
   "metadata": {
    "collapsed": false,
    "pycharm": {
     "name": "#%%\n"
    }
   }
  },
  {
   "cell_type": "code",
   "execution_count": 7,
   "outputs": [],
   "source": [
    "def apply(seqs):\n",
    "    ns = ''\n",
    "    for seq in Utils.sequences(seqs, 2, 1):\n",
    "        if seq in switchers:\n",
    "            if len(ns):\n",
    "                ns = ns[:-1] + switchers[seq]\n",
    "            else:\n",
    "                ns += switchers[seq]\n",
    "    return ns"
   ],
   "metadata": {
    "collapsed": false,
    "pycharm": {
     "name": "#%%\n"
    }
   }
  },
  {
   "cell_type": "code",
   "execution_count": 8,
   "outputs": [],
   "source": [
    "for i in range(10):\n",
    "    start = apply(start)"
   ],
   "metadata": {
    "collapsed": false,
    "pycharm": {
     "name": "#%%\n"
    }
   }
  },
  {
   "cell_type": "code",
   "execution_count": 9,
   "outputs": [
    {
     "data": {
      "text/plain": "defaultdict(<function utils_components.frequency.Frequency.count_occurrences.<locals>.<lambda>()>,\n            {'P': 1341,\n             'F': 1492,\n             'K': 4151,\n             'B': 2643,\n             'O': 2584,\n             'S': 2162,\n             'V': 2392,\n             'H': 564,\n             'N': 575,\n             'C': 1553})"
     },
     "execution_count": 9,
     "metadata": {},
     "output_type": "execute_result"
    }
   ],
   "source": [
    "Utils.count_occurrences(start)"
   ],
   "metadata": {
    "collapsed": false,
    "pycharm": {
     "name": "#%%\n"
    }
   }
  },
  {
   "cell_type": "code",
   "execution_count": 10,
   "outputs": [
    {
     "data": {
      "text/plain": "3587"
     },
     "execution_count": 10,
     "metadata": {},
     "output_type": "execute_result"
    }
   ],
   "source": [
    "4151-564"
   ],
   "metadata": {
    "collapsed": false,
    "pycharm": {
     "name": "#%%\n"
    }
   }
  },
  {
   "cell_type": "code",
   "execution_count": 11,
   "outputs": [
    {
     "data": {
      "text/plain": "'PBVHVOCOCFFNBCNCCBHK'"
     },
     "execution_count": 11,
     "metadata": {},
     "output_type": "execute_result"
    }
   ],
   "source": [
    "start = aoc.data[0][0]\n",
    "start"
   ],
   "metadata": {
    "collapsed": false,
    "pycharm": {
     "name": "#%%\n"
    }
   }
  },
  {
   "cell_type": "code",
   "execution_count": 12,
   "outputs": [],
   "source": [
    "switchers = {}\n",
    "for el in aoc.data[1]:\n",
    "    f, i = el.split(' -> ')\n",
    "    f1, f2 = f\n",
    "    switchers[f] = [(f1 + i), (i + f2)]"
   ],
   "metadata": {
    "collapsed": false,
    "pycharm": {
     "name": "#%%\n"
    }
   }
  },
  {
   "cell_type": "code",
   "execution_count": 13,
   "outputs": [
    {
     "data": {
      "text/plain": "{'FV': ['FC', 'CV'],\n 'SS': ['SB', 'BS'],\n 'SC': ['SB', 'BC'],\n 'BP': ['BK', 'KP'],\n 'VP': ['VS', 'SP'],\n 'HK': ['HK', 'KK'],\n 'FS': ['FF', 'FS'],\n 'CC': ['CV', 'VC'],\n 'VB': ['VP', 'PB'],\n 'OP': ['OB', 'BP'],\n 'FO': ['FN', 'NO'],\n 'FH': ['FO', 'OH'],\n 'VK': ['VN', 'NK'],\n 'PV': ['PS', 'SV'],\n 'HV': ['HO', 'OV'],\n 'PF': ['PF', 'FF'],\n 'HH': ['HF', 'FH'],\n 'NK': ['NS', 'SK'],\n 'NC': ['NS', 'SC'],\n 'FC': ['FH', 'HC'],\n 'FK': ['FK', 'KK'],\n 'OO': ['ON', 'NO'],\n 'HP': ['HC', 'CP'],\n 'NN': ['NH', 'HN'],\n 'BB': ['BH', 'HB'],\n 'CN': ['CP', 'PN'],\n 'PS': ['PN', 'NS'],\n 'VF': ['VS', 'SF'],\n 'CB': ['CB', 'BB'],\n 'OH': ['OS', 'SH'],\n 'CF': ['CC', 'CF'],\n 'OK': ['OP', 'PK'],\n 'CV': ['CV', 'VV'],\n 'CS': ['CH', 'HS'],\n 'KN': ['KB', 'BN'],\n 'OV': ['OS', 'SV'],\n 'HB': ['HC', 'CB'],\n 'OS': ['OV', 'VS'],\n 'PC': ['PB', 'BC'],\n 'CK': ['CS', 'SK'],\n 'PP': ['PK', 'KP'],\n 'SN': ['SO', 'ON'],\n 'VV': ['VC', 'CV'],\n 'NS': ['NF', 'FS'],\n 'PN': ['PK', 'KN'],\n 'HS': ['HP', 'PS'],\n 'VO': ['VB', 'BO'],\n 'VC': ['VB', 'BC'],\n 'NV': ['NP', 'PV'],\n 'VS': ['VN', 'NS'],\n 'FP': ['FF', 'FP'],\n 'HO': ['HS', 'SO'],\n 'KS': ['KO', 'OS'],\n 'BN': ['BF', 'FN'],\n 'VN': ['VP', 'PN'],\n 'OC': ['OK', 'KC'],\n 'SF': ['SP', 'PF'],\n 'PO': ['PP', 'PO'],\n 'SB': ['SO', 'OB'],\n 'FN': ['FF', 'FN'],\n 'OF': ['OF', 'FF'],\n 'CP': ['CC', 'CP'],\n 'HC': ['HO', 'OC'],\n 'PH': ['PO', 'OH'],\n 'BC': ['BO', 'OC'],\n 'NO': ['NC', 'CO'],\n 'BH': ['BC', 'CH'],\n 'VH': ['VS', 'SH'],\n 'KK': ['KO', 'OK'],\n 'SV': ['SK', 'KV'],\n 'KB': ['KK', 'KB'],\n 'BS': ['BS', 'SS'],\n 'HF': ['HB', 'BF'],\n 'NH': ['NS', 'SH'],\n 'PB': ['PN', 'NB'],\n 'HN': ['HK', 'KN'],\n 'SK': ['SB', 'BK'],\n 'FB': ['FF', 'FB'],\n 'KV': ['KS', 'SV'],\n 'BF': ['BS', 'SF'],\n 'ON': ['OS', 'SN'],\n 'BV': ['BP', 'PV'],\n 'KC': ['KS', 'SC'],\n 'NB': ['NS', 'SB'],\n 'NP': ['NB', 'BP'],\n 'BK': ['BK', 'KK'],\n 'NF': ['NC', 'CF'],\n 'BO': ['BK', 'KO'],\n 'KF': ['KB', 'BF'],\n 'KH': ['KN', 'NH'],\n 'SP': ['SO', 'OP'],\n 'CO': ['CS', 'SO'],\n 'KO': ['KV', 'VO'],\n 'SO': ['SB', 'BO'],\n 'CH': ['CC', 'CH'],\n 'KP': ['KC', 'CP'],\n 'FF': ['FK', 'KF'],\n 'PK': ['PF', 'FK'],\n 'OB': ['OH', 'HB'],\n 'SH': ['SC', 'CH']}"
     },
     "execution_count": 13,
     "metadata": {},
     "output_type": "execute_result"
    }
   ],
   "source": [
    "switchers"
   ],
   "metadata": {
    "collapsed": false,
    "pycharm": {
     "name": "#%%\n"
    }
   }
  },
  {
   "cell_type": "code",
   "execution_count": 14,
   "outputs": [],
   "source": [
    "amount = defaultdict(int)\n",
    "for seq in Utils.sequences(start, 2, 1):\n",
    "    amount[seq] += 1"
   ],
   "metadata": {
    "collapsed": false,
    "pycharm": {
     "name": "#%%\n"
    }
   }
  },
  {
   "cell_type": "code",
   "execution_count": 15,
   "outputs": [],
   "source": [
    "for i in range(40):\n",
    "    na = defaultdict(int)\n",
    "    for k, v in amount.items():\n",
    "        if k in switchers:\n",
    "            a, b = switchers[k]\n",
    "            na[a] += v\n",
    "            na[b] += v\n",
    "    amount = na"
   ],
   "metadata": {
    "collapsed": false,
    "pycharm": {
     "name": "#%%\n"
    }
   }
  },
  {
   "cell_type": "code",
   "execution_count": 16,
   "outputs": [],
   "source": [
    "res = defaultdict(int)"
   ],
   "metadata": {
    "collapsed": false,
    "pycharm": {
     "name": "#%%\n"
    }
   }
  },
  {
   "cell_type": "code",
   "execution_count": 17,
   "outputs": [],
   "source": [
    "for k, v in amount.items():\n",
    "    a, b = k\n",
    "    res[a] += v\n",
    "res[start[-1]] += 1"
   ],
   "metadata": {
    "collapsed": false,
    "pycharm": {
     "name": "#%%\n"
    }
   }
  },
  {
   "cell_type": "code",
   "execution_count": 18,
   "outputs": [],
   "source": [
    "# != 7812890155997\n",
    "# != 3906451671183\n",
    "# != 205631858896\n",
    "# == 3906445077999"
   ],
   "metadata": {
    "collapsed": false,
    "pycharm": {
     "name": "#%%\n"
    }
   }
  },
  {
   "cell_type": "code",
   "execution_count": 18,
   "outputs": [],
   "source": [
    "max(res.values()) - min(res.values())"
   ],
   "metadata": {
    "collapsed": false,
    "pycharm": {
     "name": "#%%\n"
    }
   }
  }
 ],
 "metadata": {
  "kernelspec": {
   "display_name": "Python 3",
   "language": "python",
   "name": "python3"
  },
  "language_info": {
   "codemirror_mode": {
    "name": "ipython",
    "version": 2
   },
   "file_extension": ".py",
   "mimetype": "text/x-python",
   "name": "python",
   "nbconvert_exporter": "python",
   "pygments_lexer": "ipython2",
   "version": "2.7.6"
  }
 },
 "nbformat": 4,
 "nbformat_minor": 0
}