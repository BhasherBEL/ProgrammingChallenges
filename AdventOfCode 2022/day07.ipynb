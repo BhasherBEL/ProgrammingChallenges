{
 "cells": [
  {
   "cell_type": "code",
   "execution_count": 1,
   "id": "7cd61c19",
   "metadata": {},
   "outputs": [],
   "source": [
    "from utils import Utils, AOC\n",
    "from session import SESSION\n",
    "import time\n",
    "from collections import defaultdict\n",
    "import re\n",
    "from datetime import datetime"
   ]
  },
  {
   "cell_type": "code",
   "execution_count": 2,
   "id": "daa8e4c7",
   "metadata": {},
   "outputs": [],
   "source": [
    "aoc = AOC(session=SESSION)"
   ]
  },
  {
   "cell_type": "code",
   "execution_count": 3,
   "id": "208e76cd",
   "metadata": {},
   "outputs": [
    {
     "data": {
      "text/plain": [
       "True"
      ]
     },
     "execution_count": 3,
     "metadata": {},
     "output_type": "execute_result"
    }
   ],
   "source": [
    "aoc.verify_session()"
   ]
  },
  {
   "cell_type": "code",
   "execution_count": 5,
   "id": "7a4f136e",
   "metadata": {},
   "outputs": [
    {
     "name": "stdout",
     "output_type": "stream",
     "text": [
      "Data correctly downloaded and saved locally for next usage.\n",
      "20% of data are digits. Analyse as text.\n",
      "0 empty line(s) found. Analyse as monline data.\n"
     ]
    },
    {
     "data": {
      "text/plain": [
       "<utils_components.aoc2.AOC at 0x7efc2c7b7f70>"
      ]
     },
     "execution_count": 5,
     "metadata": {},
     "output_type": "execute_result"
    }
   ],
   "source": [
    "aoc.get_today_file().analyse()"
   ]
  },
  {
   "cell_type": "markdown",
   "id": "738b7e6f",
   "metadata": {},
   "source": [
    "## Contest part"
   ]
  },
  {
   "cell_type": "code",
   "execution_count": 42,
   "id": "ffd008cb",
   "metadata": {},
   "outputs": [],
   "source": [
    "class Directory(object):\n",
    "    directories = []\n",
    "    def __init__(self, name, parent):\n",
    "        self.name = name\n",
    "        self.parent = parent\n",
    "        self.inner_size = 0\n",
    "        self.herited_size = 0\n",
    "        self.children = {}\n",
    "        Directory.directories.append(self)\n",
    "    \n",
    "    def get_size(self):\n",
    "        if self.herited_size == 0:\n",
    "            for child in self.children.values():\n",
    "                self.herited_size += child.get_size()\n",
    "                \n",
    "        return self.inner_size + self.herited_size"
   ]
  },
  {
   "cell_type": "code",
   "execution_count": 43,
   "id": "3d09ab24",
   "metadata": {},
   "outputs": [],
   "source": [
    "fs = Directory('/', None)"
   ]
  },
  {
   "cell_type": "code",
   "execution_count": 44,
   "id": "c7c91ab5",
   "metadata": {},
   "outputs": [],
   "source": [
    "current = fs\n",
    "for line in aoc.data:\n",
    "    if line.startswith('$ cd '):\n",
    "        _, path = line.split('$ cd ')\n",
    "        if path == '/':\n",
    "            current = fs\n",
    "        elif path == '..':\n",
    "            current = current.parent\n",
    "        else:\n",
    "            if path in current.children:\n",
    "                current = current.children[path]\n",
    "            else:\n",
    "                next_ = Directory(path, current)\n",
    "                current.children[path] = next_\n",
    "                current = next_\n",
    "    elif line.startswith('$ ls'):\n",
    "        continue\n",
    "    else:\n",
    "        if line.startswith('dir'):\n",
    "            continue\n",
    "        s, n = line.split()\n",
    "        s = int(s)\n",
    "        current.inner_size += s"
   ]
  },
  {
   "cell_type": "code",
   "execution_count": 47,
   "id": "2658d491",
   "metadata": {},
   "outputs": [
    {
     "data": {
      "text/plain": [
       "41272621"
      ]
     },
     "execution_count": 47,
     "metadata": {},
     "output_type": "execute_result"
    }
   ],
   "source": [
    "fs.get_size()"
   ]
  },
  {
   "cell_type": "code",
   "execution_count": 64,
   "id": "76835f56",
   "metadata": {},
   "outputs": [],
   "source": [
    "to_find = 30000000 - (70000000 - fs.get_size())"
   ]
  },
  {
   "cell_type": "code",
   "execution_count": 60,
   "id": "fc355fbd",
   "metadata": {},
   "outputs": [
    {
     "name": "stdout",
     "output_type": "stream",
     "text": [
      "1644735\n"
     ]
    }
   ],
   "source": [
    "r = 0\n",
    "dir_size = []\n",
    "for directory in Directory.directories:\n",
    "    dir_size.append(directory.get_size())\n",
    "    if directory.get_size() <= 100000:\n",
    "        r += directory.get_size()\n",
    "print(r)"
   ]
  },
  {
   "cell_type": "code",
   "execution_count": 61,
   "id": "0c6e13bc",
   "metadata": {},
   "outputs": [],
   "source": [
    "dir_size.sort()"
   ]
  },
  {
   "cell_type": "code",
   "execution_count": 65,
   "id": "757903df",
   "metadata": {},
   "outputs": [
    {
     "name": "stdout",
     "output_type": "stream",
     "text": [
      "1300850\n"
     ]
    }
   ],
   "source": [
    "for d in dir_size:\n",
    "    if d > to_find:\n",
    "        print(d)\n",
    "        break"
   ]
  }
 ],
 "metadata": {
  "kernelspec": {
   "display_name": "Python 3 (ipykernel)",
   "language": "python",
   "name": "python3"
  },
  "language_info": {
   "codemirror_mode": {
    "name": "ipython",
    "version": 3
   },
   "file_extension": ".py",
   "mimetype": "text/x-python",
   "name": "python",
   "nbconvert_exporter": "python",
   "pygments_lexer": "ipython3",
   "version": "3.10.8"
  }
 },
 "nbformat": 4,
 "nbformat_minor": 5
}
