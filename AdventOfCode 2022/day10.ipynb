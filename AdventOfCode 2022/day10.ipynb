{
 "cells": [
  {
   "cell_type": "code",
   "execution_count": 1,
   "id": "c586a549",
   "metadata": {},
   "outputs": [],
   "source": [
    "import sys\n",
    "sys.path.append('..')"
   ]
  },
  {
   "cell_type": "code",
   "execution_count": 2,
   "id": "7cd61c19",
   "metadata": {},
   "outputs": [],
   "source": [
    "from utils import Utils, AOC\n",
    "from session import SESSION\n",
    "import time\n",
    "from collections import defaultdict\n",
    "import re"
   ]
  },
  {
   "cell_type": "code",
   "execution_count": 3,
   "id": "daa8e4c7",
   "metadata": {},
   "outputs": [],
   "source": [
    "aoc = AOC(session=SESSION)"
   ]
  },
  {
   "cell_type": "code",
   "execution_count": 4,
   "id": "208e76cd",
   "metadata": {},
   "outputs": [
    {
     "data": {
      "text/plain": [
       "True"
      ]
     },
     "execution_count": 4,
     "metadata": {},
     "output_type": "execute_result"
    }
   ],
   "source": [
    "aoc.verify_session()"
   ]
  },
  {
   "cell_type": "code",
   "execution_count": 42,
   "id": "7a4f136e",
   "metadata": {},
   "outputs": [
    {
     "name": "stdout",
     "output_type": "stream",
     "text": [
      "Local file found.\n",
      "===== HEAD (5/145) =====\n",
      "noop\n",
      "noop\n",
      "addx 5\n",
      "addx 21\n",
      "addx -16\n",
      "========================\n"
     ]
    },
    {
     "data": {
      "text/plain": [
       "<utils_components.aoc2.AOC at 0x1a3fea98690>"
      ]
     },
     "execution_count": 42,
     "metadata": {},
     "output_type": "execute_result"
    }
   ],
   "source": [
    "aoc.get_file(year=2022, day=10).analyse().head()"
   ]
  },
  {
   "cell_type": "markdown",
   "id": "738b7e6f",
   "metadata": {},
   "source": [
    "## Contest part"
   ]
  },
  {
   "cell_type": "code",
   "execution_count": 33,
   "id": "dab69a32",
   "metadata": {},
   "outputs": [],
   "source": [
    "cycle = 0\n",
    "value = 1\n",
    "items = []\n",
    "for i, line in enumerate(aoc.data):\n",
    "    if line == 'noop':\n",
    "        cycle += 1\n",
    "        if (cycle - 20) % 40 == 0:\n",
    "            items.append(cycle * value)\n",
    "    else:\n",
    "        _, x = line.split()\n",
    "        cycle += 2\n",
    "        if (cycle - 20) % 40 == 1:\n",
    "            items.append((cycle-1) * value)\n",
    "        if (cycle - 20) % 40 == 0:\n",
    "            items.append(cycle * value)\n",
    "        value += int(x)"
   ]
  },
  {
   "cell_type": "code",
   "execution_count": 34,
   "id": "47c213b4",
   "metadata": {},
   "outputs": [
    {
     "data": {
      "text/plain": [
       "(17020, [420, 1260, 4000, 2940, 3780, 4620])"
      ]
     },
     "execution_count": 34,
     "metadata": {},
     "output_type": "execute_result"
    }
   ],
   "source": [
    "sum(items), items"
   ]
  },
  {
   "attachments": {},
   "cell_type": "markdown",
   "id": "fe35bbd8",
   "metadata": {},
   "source": [
    "## Part 2"
   ]
  },
  {
   "cell_type": "code",
   "execution_count": 43,
   "id": "4942a193",
   "metadata": {},
   "outputs": [],
   "source": [
    "crt = ['']\n",
    "cycle = 0\n",
    "value = 1\n",
    "for i, line in enumerate(aoc.data):\n",
    "    if line == 'noop':\n",
    "        if abs(cycle - value) <= 1:\n",
    "            crt[-1] += '#'\n",
    "        else:\n",
    "            crt[-1] += '.'\n",
    "        cycle += 1\n",
    "        if cycle % 40 == 0:\n",
    "            crt.append('')\n",
    "            cycle = 0\n",
    "    else:\n",
    "        _, x = line.split()\n",
    "        for i in range(2):\n",
    "            if abs(cycle - value) <= 1:\n",
    "                crt[-1] += '#'\n",
    "            else:\n",
    "                crt[-1] += '.'\n",
    "            cycle += 1\n",
    "            if cycle % 40 == 0:\n",
    "                crt.append('')\n",
    "                cycle = 0\n",
    "        value += int(x)"
   ]
  },
  {
   "cell_type": "code",
   "execution_count": 44,
   "id": "95ef94c2",
   "metadata": {},
   "outputs": [
    {
     "data": {
      "text/plain": [
       "['###..#....####.####.####.#.....##..####.',\n",
       " '#..#.#....#.......#.#....#....#..#.#....',\n",
       " '#..#.#....###....#..###..#....#....###..',\n",
       " '###..#....#.....#...#....#....#.##.#....',\n",
       " '#.#..#....#....#....#....#....#..#.#....',\n",
       " '#..#.####.####.####.#....####..###.####.',\n",
       " '']"
      ]
     },
     "execution_count": 44,
     "metadata": {},
     "output_type": "execute_result"
    }
   ],
   "source": [
    "crt"
   ]
  }
 ],
 "metadata": {
  "kernelspec": {
   "display_name": "Python 3",
   "language": "python",
   "name": "python3"
  },
  "language_info": {
   "codemirror_mode": {
    "name": "ipython",
    "version": 3
   },
   "file_extension": ".py",
   "mimetype": "text/x-python",
   "name": "python",
   "nbconvert_exporter": "python",
   "pygments_lexer": "ipython3",
   "version": "3.11.1"
  },
  "vscode": {
   "interpreter": {
    "hash": "c2938d320abc456c0685e00c040cd5a90d8106396fdc681ad96651d92d405048"
   }
  }
 },
 "nbformat": 4,
 "nbformat_minor": 5
}
