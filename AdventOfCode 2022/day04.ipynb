{
 "cells": [
  {
   "cell_type": "code",
   "execution_count": 5,
   "id": "7cd61c19",
   "metadata": {},
   "outputs": [],
   "source": [
    "from utils import Utils, AOC\n",
    "from session import SESSION"
   ]
  },
  {
   "cell_type": "code",
   "execution_count": 6,
   "id": "daa8e4c7",
   "metadata": {},
   "outputs": [],
   "source": [
    "aoc = AOC(session=SESSION)"
   ]
  },
  {
   "cell_type": "code",
   "execution_count": 7,
   "id": "208e76cd",
   "metadata": {},
   "outputs": [
    {
     "data": {
      "text/plain": [
       "True"
      ]
     },
     "execution_count": 7,
     "metadata": {},
     "output_type": "execute_result"
    }
   ],
   "source": [
    "aoc.verify_session()"
   ]
  },
  {
   "cell_type": "code",
   "execution_count": 8,
   "id": "7a4f136e",
   "metadata": {},
   "outputs": [
    {
     "name": "stdout",
     "output_type": "stream",
     "text": [
      "Local file found.\n",
      "100% of data are digits. Analyse as numbers.\n",
      "0 empty line(s) found. Analyse as monline data.\n",
      "===== HEAD (5/1000) =====\n",
      "[ 2  9  9 51]\n",
      "[33 51 45 73]\n",
      "[28 29 29 93]\n",
      "[37 47 37 48]\n",
      "[ 7 71  2 71]\n",
      "=========================\n"
     ]
    },
    {
     "data": {
      "text/plain": [
       "<utils_components.aoc2.AOC at 0x7f946c6da350>"
      ]
     },
     "execution_count": 8,
     "metadata": {},
     "output_type": "execute_result"
    }
   ],
   "source": [
    "aoc.get_today_file().analyse().head()"
   ]
  },
  {
   "cell_type": "code",
   "execution_count": 11,
   "id": "f4d92097",
   "metadata": {},
   "outputs": [
    {
     "name": "stdout",
     "output_type": "stream",
     "text": [
      "450\n"
     ]
    }
   ],
   "source": [
    "total = 0\n",
    "for a, b, c, d in aoc.data:\n",
    "    if a >= c and b <= d or c >= a and d <= b:\n",
    "        total += 1\n",
    "print(total)"
   ]
  },
  {
   "cell_type": "code",
   "execution_count": 12,
   "id": "ecb910e6",
   "metadata": {},
   "outputs": [
    {
     "name": "stdout",
     "output_type": "stream",
     "text": [
      "837\n"
     ]
    }
   ],
   "source": [
    "total = 0\n",
    "for a, b, c, d in aoc.data:\n",
    "    if c <= a <= d or c <= b <= d or a <= c <= b or a <= d <= b:\n",
    "        total += 1\n",
    "print(total)"
   ]
  }
 ],
 "metadata": {
  "kernelspec": {
   "display_name": "Python 3 (ipykernel)",
   "language": "python",
   "name": "python3"
  },
  "language_info": {
   "codemirror_mode": {
    "name": "ipython",
    "version": 3
   },
   "file_extension": ".py",
   "mimetype": "text/x-python",
   "name": "python",
   "nbconvert_exporter": "python",
   "pygments_lexer": "ipython3",
   "version": "3.10.8"
  }
 },
 "nbformat": 4,
 "nbformat_minor": 5
}
