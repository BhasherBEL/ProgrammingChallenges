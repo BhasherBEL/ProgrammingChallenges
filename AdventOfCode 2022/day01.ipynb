{
 "cells": [
  {
   "cell_type": "code",
   "execution_count": 1,
   "id": "f735210d",
   "metadata": {},
   "outputs": [],
   "source": [
    "from utils import AOC\n",
    "from session import SESSION"
   ]
  },
  {
   "cell_type": "code",
   "execution_count": 2,
   "id": "ed88e5fe",
   "metadata": {},
   "outputs": [],
   "source": [
    "aoc = AOC(session=SESSION)"
   ]
  },
  {
   "cell_type": "code",
   "execution_count": 3,
   "id": "44b86aca",
   "metadata": {},
   "outputs": [
    {
     "data": {
      "text/plain": [
       "True"
      ]
     },
     "execution_count": 3,
     "metadata": {},
     "output_type": "execute_result"
    }
   ],
   "source": [
    "aoc.verify_session()"
   ]
  },
  {
   "cell_type": "code",
   "execution_count": 4,
   "id": "2ca0a6fd",
   "metadata": {},
   "outputs": [
    {
     "name": "stdout",
     "output_type": "stream",
     "text": [
      "Local file found.\n",
      "100% of data are digits. Analyse as numbers.\n",
      "246 empty line(s) found. Analyse as multiline data.\n",
      "===== HEAD (5/247) =====\n",
      "[9057 8878 2753 7027 3880 7154 8022 6710 5721]\n",
      "[4863 3690 3333 1831 5293 6258 1212 4255 2331 3785 1505 3355 3353 4416]\n",
      "[5918 3076 2145 2712 6087 4310 1084 5807 1342 2770 5095 4696 5842 4555\n",
      " 5388]\n",
      "[20770]\n",
      "[ 3968 15647  3933 15427 16179]\n",
      "========================\n"
     ]
    },
    {
     "name": "stderr",
     "output_type": "stream",
     "text": [
      "/home/bhasher/Documents/sync/dev/projects/personal/ProgrammingChallenges/utils_components/aoc2.py:102: VisibleDeprecationWarning: Creating an ndarray from ragged nested sequences (which is a list-or-tuple of lists-or-tuples-or ndarrays with different lengths or shapes) is deprecated. If you meant to do this, you must specify 'dtype=object' when creating the ndarray.\n",
      "  self.data = np.array([self.parse(group.split('\\n')) for group in self.raw.split('\\n\\n')])\n"
     ]
    },
    {
     "data": {
      "text/plain": [
       "<utils_components.aoc2.AOC at 0x7f6909982470>"
      ]
     },
     "execution_count": 4,
     "metadata": {},
     "output_type": "execute_result"
    }
   ],
   "source": [
    "aoc.get_file(year=2022, day=1).analyse().head()"
   ]
  },
  {
   "cell_type": "code",
   "execution_count": 6,
   "id": "8134e69e",
   "metadata": {},
   "outputs": [
    {
     "data": {
      "text/plain": [
       "69836"
      ]
     },
     "execution_count": 6,
     "metadata": {},
     "output_type": "execute_result"
    }
   ],
   "source": [
    "max(map(sum, aoc.data))"
   ]
  },
  {
   "cell_type": "code",
   "execution_count": 8,
   "id": "4570f369",
   "metadata": {},
   "outputs": [
    {
     "data": {
      "text/plain": [
       "207968"
      ]
     },
     "execution_count": 8,
     "metadata": {},
     "output_type": "execute_result"
    }
   ],
   "source": [
    "sd = sorted(map(sum, aoc.data))\n",
    "sum(sd[-3:])"
   ]
  }
 ],
 "metadata": {
  "kernelspec": {
   "display_name": "Python 3 (ipykernel)",
   "language": "python",
   "name": "python3"
  },
  "language_info": {
   "codemirror_mode": {
    "name": "ipython",
    "version": 3
   },
   "file_extension": ".py",
   "mimetype": "text/x-python",
   "name": "python",
   "nbconvert_exporter": "python",
   "pygments_lexer": "ipython3",
   "version": "3.10.5"
  }
 },
 "nbformat": 4,
 "nbformat_minor": 5
}
