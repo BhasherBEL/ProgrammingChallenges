{
 "cells": [
  {
   "cell_type": "code",
   "execution_count": 9,
   "id": "f735210d",
   "metadata": {},
   "outputs": [],
   "source": [
    "from utils import AOC\n",
    "from session import SESSION\n",
    "import re"
   ]
  },
  {
   "cell_type": "code",
   "execution_count": 3,
   "id": "ed88e5fe",
   "metadata": {},
   "outputs": [],
   "source": [
    "aoc = AOC(session=SESSION)"
   ]
  },
  {
   "cell_type": "code",
   "execution_count": 4,
   "id": "52b6b6f0",
   "metadata": {},
   "outputs": [
    {
     "data": {
      "text/plain": [
       "True"
      ]
     },
     "execution_count": 4,
     "metadata": {},
     "output_type": "execute_result"
    }
   ],
   "source": [
    "aoc.verify_session()"
   ]
  },
  {
   "cell_type": "code",
   "execution_count": 5,
   "id": "71a70396",
   "metadata": {},
   "outputs": [
    {
     "name": "stdout",
     "output_type": "stream",
     "text": [
      "Local file found.\n",
      "0% of data are digits. Analyse as text.\n",
      "0 empty line(s) found. Analyse as monline data.\n",
      "===== HEAD (5/2500) =====\n",
      "B Z\n",
      "C Z\n",
      "C Z\n",
      "A Y\n",
      "B Z\n",
      "=========================\n"
     ]
    },
    {
     "data": {
      "text/plain": [
       "<utils_components.aoc2.AOC at 0x7f791b9493f0>"
      ]
     },
     "execution_count": 5,
     "metadata": {},
     "output_type": "execute_result"
    }
   ],
   "source": [
    "aoc.get_today_file().analyse().head()"
   ]
  },
  {
   "cell_type": "code",
   "execution_count": 16,
   "id": "bd358285",
   "metadata": {},
   "outputs": [],
   "source": [
    "def win(other, me):\n",
    "    if me == other:\n",
    "        return 3\n",
    "    if me == (other + 1)%3:\n",
    "        return 6\n",
    "    return 0"
   ]
  },
  {
   "cell_type": "code",
   "execution_count": 17,
   "id": "7e16cdf9",
   "metadata": {},
   "outputs": [
    {
     "name": "stdout",
     "output_type": "stream",
     "text": [
      "14163\n"
     ]
    }
   ],
   "source": [
    "total = 0\n",
    "for line in aoc.data:\n",
    "    other, me = line.split(' ')\n",
    "    total += win('ABC'.index(other), 'XYZ'.index(me))\n",
    "    total += 'XYZ'.index(me) + 1\n",
    "print(total)"
   ]
  },
  {
   "cell_type": "code",
   "execution_count": 19,
   "id": "6e8fd3eb",
   "metadata": {},
   "outputs": [
    {
     "name": "stdout",
     "output_type": "stream",
     "text": [
      "12091\n"
     ]
    }
   ],
   "source": [
    "total = 0\n",
    "for line in aoc.data:\n",
    "    other, res = line.split(' ')\n",
    "    total += 'XYZ'.index(res) * 3\n",
    "    total += ('ABC'.index(other) + 'XYZ'.index(res) + 2) % 3 + 1\n",
    "print(total)"
   ]
  }
 ],
 "metadata": {
  "kernelspec": {
   "display_name": "Python 3 (ipykernel)",
   "language": "python",
   "name": "python3"
  },
  "language_info": {
   "codemirror_mode": {
    "name": "ipython",
    "version": 3
   },
   "file_extension": ".py",
   "mimetype": "text/x-python",
   "name": "python",
   "nbconvert_exporter": "python",
   "pygments_lexer": "ipython3",
   "version": "3.10.5"
  }
 },
 "nbformat": 4,
 "nbformat_minor": 5
}
