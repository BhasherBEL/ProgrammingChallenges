{
 "cells": [
  {
   "cell_type": "code",
   "execution_count": 113,
   "id": "7cd61c19",
   "metadata": {},
   "outputs": [],
   "source": [
    "from utils import Utils, AOC\n",
    "from session import SESSION\n",
    "import time\n",
    "from collections import defaultdict\n",
    "import re"
   ]
  },
  {
   "cell_type": "code",
   "execution_count": 5,
   "id": "daa8e4c7",
   "metadata": {},
   "outputs": [],
   "source": [
    "aoc = AOC(session=SESSION)"
   ]
  },
  {
   "cell_type": "code",
   "execution_count": 6,
   "id": "208e76cd",
   "metadata": {},
   "outputs": [
    {
     "data": {
      "text/plain": [
       "True"
      ]
     },
     "execution_count": 6,
     "metadata": {},
     "output_type": "execute_result"
    }
   ],
   "source": [
    "aoc.verify_session()"
   ]
  },
  {
   "cell_type": "code",
   "execution_count": null,
   "id": "7c2bdde0",
   "metadata": {},
   "outputs": [],
   "source": [
    "aoc.raw = \"\"\n",
    "aoc.analyse().head()"
   ]
  },
  {
   "cell_type": "code",
   "execution_count": 43,
   "id": "7a4f136e",
   "metadata": {},
   "outputs": [
    {
     "name": "stdout",
     "output_type": "stream",
     "text": [
      "Local file found.\n"
     ]
    },
    {
     "data": {
      "text/plain": [
       "<utils_components.aoc2.AOC at 0x7efd4d1725c0>"
      ]
     },
     "execution_count": 43,
     "metadata": {},
     "output_type": "execute_result"
    }
   ],
   "source": [
    "aoc.get_today_file() #.analyse().head()"
   ]
  },
  {
   "cell_type": "markdown",
   "id": "738b7e6f",
   "metadata": {},
   "source": [
    "## Contest part"
   ]
  },
  {
   "cell_type": "code",
   "execution_count": 110,
   "id": "f25ea2f6",
   "metadata": {},
   "outputs": [],
   "source": [
    "sstacks, sinstructions = aoc.raw.split('\\n\\n')\n",
    "instructions = [[int(x) for i, x in enumerate(l.split(' ')) if i in (1, 3, 5)] for l in sinstructions.split('\\n') if l]"
   ]
  },
  {
   "cell_type": "code",
   "execution_count": 89,
   "id": "9076de9a",
   "metadata": {},
   "outputs": [],
   "source": [
    "stacks = defaultdict(list)\n",
    "for line in sstacks.split('\\n')[:-1]:\n",
    "    for i in range(0, 9):\n",
    "        item = line[4*i+1:4*i+2]\n",
    "        if item != ' ':\n",
    "            stacks[i+1].append(item)"
   ]
  },
  {
   "cell_type": "code",
   "execution_count": 92,
   "id": "0967a4e7",
   "metadata": {},
   "outputs": [],
   "source": [
    "for a, f, t in instructions:\n",
    "    tmp = []\n",
    "    for i in range(a):\n",
    "        tmp.append(stacks[f].pop(0))\n",
    "    stacks[t] = tmp + stacks[t]"
   ]
  },
  {
   "cell_type": "code",
   "execution_count": 93,
   "id": "f72ab865",
   "metadata": {},
   "outputs": [],
   "source": [
    "res = ''\n",
    "for i in range(1, 10):\n",
    "    res += stacks[i][0]"
   ]
  },
  {
   "cell_type": "code",
   "execution_count": 94,
   "id": "876d4b3e",
   "metadata": {},
   "outputs": [
    {
     "data": {
      "text/plain": [
       "'TPWCGNCCG'"
      ]
     },
     "execution_count": 94,
     "metadata": {},
     "output_type": "execute_result"
    }
   ],
   "source": [
    "res"
   ]
  },
  {
   "cell_type": "markdown",
   "id": "1c116c2e",
   "metadata": {},
   "source": [
    "## Rewritten part"
   ]
  },
  {
   "cell_type": "code",
   "execution_count": 163,
   "id": "6a36649f",
   "metadata": {},
   "outputs": [],
   "source": [
    "sstacks, sinstructions = aoc.raw.split('\\n\\n')\n",
    "stack = [[el for el in reversed(line) if ord(el) >= 65] for line in list(zip(*sstacks.split('\\n')))[1::4]]\n",
    "instructions = re.findall('move (\\d+) from (\\d+) to (\\d+)', sinstructions)"
   ]
  },
  {
   "cell_type": "code",
   "execution_count": 164,
   "id": "51a68beb",
   "metadata": {},
   "outputs": [],
   "source": [
    "for a, f, t in instructions:\n",
    "    size = len(stack[int(t)-1]) # part 2\n",
    "    for i in range(int(a)):\n",
    "        #stack[int(t)-1].append(stack[int(f)-1].pop())  # part 1\n",
    "        stack[int(t)-1].insert(size, stack[int(f)-1].pop()) # part 2"
   ]
  },
  {
   "cell_type": "code",
   "execution_count": 166,
   "id": "c7c91ab5",
   "metadata": {},
   "outputs": [
    {
     "data": {
      "text/plain": [
       "'TPWCGNCCG'"
      ]
     },
     "execution_count": 166,
     "metadata": {},
     "output_type": "execute_result"
    }
   ],
   "source": [
    "''.join(line.pop() for line in stack)"
   ]
  }
 ],
 "metadata": {
  "kernelspec": {
   "display_name": "Python 3 (ipykernel)",
   "language": "python",
   "name": "python3"
  },
  "language_info": {
   "codemirror_mode": {
    "name": "ipython",
    "version": 3
   },
   "file_extension": ".py",
   "mimetype": "text/x-python",
   "name": "python",
   "nbconvert_exporter": "python",
   "pygments_lexer": "ipython3",
   "version": "3.10.8"
  }
 },
 "nbformat": 4,
 "nbformat_minor": 5
}
