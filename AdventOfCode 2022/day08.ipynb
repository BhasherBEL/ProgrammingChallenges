{
 "cells": [
  {
   "cell_type": "code",
   "execution_count": 13,
   "id": "7cd61c19",
   "metadata": {},
   "outputs": [],
   "source": [
    "from utils import Utils, AOC\n",
    "from session import SESSION\n",
    "import time\n",
    "from collections import defaultdict\n",
    "import re\n",
    "from datetime import datetime\n",
    "import numpy as np"
   ]
  },
  {
   "cell_type": "code",
   "execution_count": 2,
   "id": "daa8e4c7",
   "metadata": {},
   "outputs": [],
   "source": [
    "aoc = AOC(session=SESSION)"
   ]
  },
  {
   "cell_type": "code",
   "execution_count": 3,
   "id": "208e76cd",
   "metadata": {},
   "outputs": [
    {
     "data": {
      "text/plain": [
       "True"
      ]
     },
     "execution_count": 3,
     "metadata": {},
     "output_type": "execute_result"
    }
   ],
   "source": [
    "aoc.verify_session()"
   ]
  },
  {
   "cell_type": "code",
   "execution_count": 193,
   "id": "7a4f136e",
   "metadata": {},
   "outputs": [
    {
     "name": "stdout",
     "output_type": "stream",
     "text": [
      "Local file found.\n",
      "===== head (5/99) =====\n",
      "202002313322443443333413205214140320025450316364504141264123114304203303114001123204003420102030300\n",
      "212313000221124342025540453251212255520310035503014622512241404324240404402541331004400300331322110\n",
      "332010030224230340301531501004040246520352260460326354116252046344244524210334140401240030314221201\n",
      "221301221024131121450340303252214260131364111213343344405130626304123155314054543541311324344211033\n",
      "1134433000214135052445324455546624654355260523323125133253553045204251430400315121003433044422220\n",
      "=======================\n"
     ]
    },
    {
     "data": {
      "text/plain": [
       "<utils_components.aoc2.AOC at 0x7f88c6fb85b0>"
      ]
     },
     "execution_count": 193,
     "metadata": {},
     "output_type": "execute_result"
    }
   ],
   "source": [
    "aoc.get_today_file().analyse().head()"
   ]
  },
  {
   "cell_type": "markdown",
   "id": "738b7e6f",
   "metadata": {},
   "source": [
    "## Contest part"
   ]
  },
  {
   "cell_type": "code",
   "execution_count": 167,
   "id": "e40d1f7c",
   "metadata": {},
   "outputs": [],
   "source": [
    "aoc.raw = \"\"\"30373\n",
    "25512\n",
    "65332\n",
    "33549\n",
    "35390\"\"\""
   ]
  },
  {
   "cell_type": "code",
   "execution_count": 194,
   "id": "757903df",
   "metadata": {},
   "outputs": [],
   "source": [
    "data = np.array([[int(y) for y in x] for x in aoc.raw.split('\\n')])"
   ]
  },
  {
   "cell_type": "code",
   "execution_count": 195,
   "id": "9de94e04",
   "metadata": {},
   "outputs": [],
   "source": [
    "seen = set()"
   ]
  },
  {
   "cell_type": "code",
   "execution_count": 196,
   "id": "93c89e79",
   "metadata": {},
   "outputs": [],
   "source": [
    "for i, line in enumerate(data):\n",
    "    current = -1\n",
    "    for j, v in enumerate(line):\n",
    "        if v <= current:\n",
    "            continue\n",
    "        current = v\n",
    "        seen.add((j, i))"
   ]
  },
  {
   "cell_type": "code",
   "execution_count": 197,
   "id": "e2d9f1cb",
   "metadata": {},
   "outputs": [],
   "source": [
    "for i, line in enumerate(data.T):\n",
    "    current = -1\n",
    "    for j, v in enumerate(line):\n",
    "        if v <= current:\n",
    "            continue\n",
    "        current = v\n",
    "        seen.add((i, j))"
   ]
  },
  {
   "cell_type": "code",
   "execution_count": 198,
   "id": "3c179a3e",
   "metadata": {},
   "outputs": [],
   "source": [
    "for i, line in enumerate([row[::-1] for row in data]):\n",
    "    current = -1\n",
    "    for j, v in enumerate(line):\n",
    "        if v <= current:\n",
    "            continue\n",
    "        current = v\n",
    "        seen.add((len(data)-j-1, i))"
   ]
  },
  {
   "cell_type": "code",
   "execution_count": 199,
   "id": "7dfd0bd7",
   "metadata": {},
   "outputs": [],
   "source": [
    "for i, line in enumerate([row[::-1] for row in data.T]):\n",
    "    current = -1\n",
    "    for j, v in enumerate(line):\n",
    "        if v <= current:\n",
    "            continue\n",
    "        current = v\n",
    "        seen.add((i, len(data)-j-1))"
   ]
  },
  {
   "cell_type": "code",
   "execution_count": 200,
   "id": "e8d3ac27",
   "metadata": {},
   "outputs": [
    {
     "data": {
      "text/plain": [
       "1669"
      ]
     },
     "execution_count": 200,
     "metadata": {},
     "output_type": "execute_result"
    }
   ],
   "source": [
    "len(seen)"
   ]
  },
  {
   "cell_type": "markdown",
   "id": "a5d0dc97",
   "metadata": {},
   "source": [
    "### Part 2"
   ]
  },
  {
   "cell_type": "code",
   "execution_count": 201,
   "id": "1ae7d254",
   "metadata": {},
   "outputs": [],
   "source": [
    "def score(x, y):\n",
    "    right = 0\n",
    "    for i in range(x+1, len(data)):\n",
    "        if data[y, i] >= data[y, x]:\n",
    "            right += 1\n",
    "            break\n",
    "        right += 1\n",
    "    \n",
    "    left = 0\n",
    "    for i in range(x-1, -1, -1):\n",
    "        if data[y, i] >= data[y, x]:\n",
    "            left += 1\n",
    "            break\n",
    "        left += 1\n",
    "    \n",
    "    down = 0\n",
    "    for i in range(y+1, len(data)):\n",
    "        if data[i, x] >= data[y, x]:\n",
    "            down += 1\n",
    "            break\n",
    "        down += 1\n",
    "    \n",
    "    up = 0\n",
    "    for i in range(y-1, -1, -1):\n",
    "        if data[i, x] >= data[y, x]:\n",
    "            up += 1\n",
    "            break\n",
    "        up += 1\n",
    "    \n",
    "    return right * left * up * down"
   ]
  },
  {
   "cell_type": "code",
   "execution_count": 202,
   "id": "0ad7f705",
   "metadata": {},
   "outputs": [
    {
     "data": {
      "text/plain": [
       "2"
      ]
     },
     "execution_count": 202,
     "metadata": {},
     "output_type": "execute_result"
    }
   ],
   "source": [
    "score(2, 1)"
   ]
  },
  {
   "cell_type": "code",
   "execution_count": 203,
   "id": "6703ba8c",
   "metadata": {},
   "outputs": [],
   "source": [
    "# > 9660"
   ]
  },
  {
   "cell_type": "code",
   "execution_count": 204,
   "id": "e1f3a0c3",
   "metadata": {},
   "outputs": [
    {
     "name": "stdout",
     "output_type": "stream",
     "text": [
      "331344\n"
     ]
    }
   ],
   "source": [
    "max_ = 0\n",
    "\n",
    "for i in range(len(data)):\n",
    "    for j in range(len(data)):\n",
    "        s = score(i, j)\n",
    "        if s > max_:\n",
    "            max_ = s\n",
    "\n",
    "print(max_)"
   ]
  },
  {
   "cell_type": "code",
   "execution_count": null,
   "id": "78c2fabc",
   "metadata": {},
   "outputs": [],
   "source": []
  }
 ],
 "metadata": {
  "kernelspec": {
   "display_name": "Python 3 (ipykernel)",
   "language": "python",
   "name": "python3"
  },
  "language_info": {
   "codemirror_mode": {
    "name": "ipython",
    "version": 3
   },
   "file_extension": ".py",
   "mimetype": "text/x-python",
   "name": "python",
   "nbconvert_exporter": "python",
   "pygments_lexer": "ipython3",
   "version": "3.10.8"
  }
 },
 "nbformat": 4,
 "nbformat_minor": 5
}
