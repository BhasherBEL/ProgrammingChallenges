{
 "cells": [
  {
   "cell_type": "code",
   "execution_count": 1,
   "id": "c586a549",
   "metadata": {},
   "outputs": [],
   "source": [
    "import sys\n",
    "sys.path.append('..')"
   ]
  },
  {
   "cell_type": "code",
   "execution_count": 73,
   "id": "7cd61c19",
   "metadata": {},
   "outputs": [],
   "source": [
    "from utils import Utils, AOC\n",
    "from session import SESSION\n",
    "import time\n",
    "from collections import defaultdict\n",
    "import re\n",
    "import numpy as np\n",
    "from functools import cmp_to_key"
   ]
  },
  {
   "cell_type": "code",
   "execution_count": 3,
   "id": "daa8e4c7",
   "metadata": {},
   "outputs": [],
   "source": [
    "aoc = AOC(session=SESSION)"
   ]
  },
  {
   "cell_type": "code",
   "execution_count": 4,
   "id": "208e76cd",
   "metadata": {},
   "outputs": [
    {
     "data": {
      "text/plain": [
       "True"
      ]
     },
     "execution_count": 4,
     "metadata": {},
     "output_type": "execute_result"
    }
   ],
   "source": [
    "aoc.verify_session()"
   ]
  },
  {
   "cell_type": "code",
   "execution_count": 89,
   "id": "7a4f136e",
   "metadata": {},
   "outputs": [
    {
     "name": "stdout",
     "output_type": "stream",
     "text": [
      "Local file found.\n"
     ]
    },
    {
     "data": {
      "text/plain": [
       "<utils_components.aoc2.AOC at 0x7ff8a26ab250>"
      ]
     },
     "execution_count": 89,
     "metadata": {},
     "output_type": "execute_result"
    }
   ],
   "source": [
    "aoc.get_today_file()"
   ]
  },
  {
   "cell_type": "code",
   "execution_count": 75,
   "id": "bf899805",
   "metadata": {},
   "outputs": [],
   "source": [
    "aoc.raw = \"\"\"[1,1,3,1,1]\n",
    "[1,1,5,1,1]\n",
    "\n",
    "[[1],[2,3,4]]\n",
    "[[1],4]\n",
    "\n",
    "[9]\n",
    "[[8,7,6]]\n",
    "\n",
    "[[4,4],4,4]\n",
    "[[4,4],4,4,4]\n",
    "\n",
    "[7,7,7,7]\n",
    "[7,7,7]\n",
    "\n",
    "[]\n",
    "[3]\n",
    "\n",
    "[[[]]]\n",
    "[[]]\n",
    "\n",
    "[1,[2,[3,[4,[5,6,7]]]],8,9]\n",
    "[1,[2,[3,[4,[5,6,0]]]],8,9]\"\"\""
   ]
  },
  {
   "cell_type": "markdown",
   "id": "738b7e6f",
   "metadata": {},
   "source": [
    "## Contest part"
   ]
  },
  {
   "cell_type": "code",
   "execution_count": 63,
   "id": "3c242daf",
   "metadata": {},
   "outputs": [],
   "source": [
    "def parse(el):\n",
    "    if not el.startswith('['):\n",
    "        return int(el)\n",
    "    res = ['']\n",
    "    level = 0\n",
    "    for c in el:\n",
    "        if c == '[':\n",
    "            level += 1\n",
    "            if level > 1:\n",
    "                res[-1] += c\n",
    "        elif c == ']':\n",
    "            level -= 1\n",
    "            if level >= 1:\n",
    "                res[-1] += c\n",
    "        elif level == 1 and c == ',':\n",
    "            res.append('')\n",
    "        else:\n",
    "            res[-1] += c\n",
    "    \n",
    "    return [parse(x) for x in res if x]"
   ]
  },
  {
   "cell_type": "code",
   "execution_count": 97,
   "id": "bd34f60c",
   "metadata": {},
   "outputs": [],
   "source": [
    "data = [[parse(x) for x in g.split('\\n')] for g in aoc.raw.split('\\n\\n')]"
   ]
  },
  {
   "cell_type": "code",
   "execution_count": 70,
   "id": "6a3bfb78",
   "metadata": {},
   "outputs": [],
   "source": [
    "def compare(a, b):\n",
    "    try:\n",
    "        for x, y in zip(a, b, strict=True):\n",
    "            res = 0\n",
    "            \n",
    "            if type(x) == list:\n",
    "                if type(y) == list:\n",
    "                    res = compare(x, y)\n",
    "                else:\n",
    "                    res = compare(x, [y])\n",
    "            elif type(y) == list:\n",
    "                res = compare([x], y)\n",
    "            elif x > y:\n",
    "                res = -1\n",
    "            elif x < y:\n",
    "                res = 1\n",
    "            \n",
    "            if res != 0:\n",
    "                return res\n",
    "                \n",
    "    except ValueError:\n",
    "        if len(a) < len(b):\n",
    "            return 1\n",
    "        else:\n",
    "            return -1\n",
    "\n",
    "    return 0"
   ]
  },
  {
   "cell_type": "code",
   "execution_count": 71,
   "id": "57295027",
   "metadata": {},
   "outputs": [],
   "source": [
    "# > 6253"
   ]
  },
  {
   "cell_type": "code",
   "execution_count": 91,
   "id": "ad37a1a9",
   "metadata": {},
   "outputs": [
    {
     "data": {
      "text/plain": [
       "6272"
      ]
     },
     "execution_count": 91,
     "metadata": {},
     "output_type": "execute_result"
    }
   ],
   "source": [
    "s = 0\n",
    "for i, (a, b) in enumerate(data):\n",
    "    res = compare(a, b)\n",
    "    if res == 1:\n",
    "        s += i+1\n",
    "    elif res == 0:\n",
    "        print(i)\n",
    "    \n",
    "s"
   ]
  },
  {
   "cell_type": "code",
   "execution_count": 92,
   "id": "9082d9c7",
   "metadata": {},
   "outputs": [],
   "source": [
    "joined = [[[6]], [[2]]]\n",
    "for a, b in data:\n",
    "    joined.append(a)\n",
    "    joined.append(b)"
   ]
  },
  {
   "cell_type": "code",
   "execution_count": 93,
   "id": "8a50f27c",
   "metadata": {},
   "outputs": [
    {
     "data": {
      "text/plain": [
       "22288"
      ]
     },
     "execution_count": 93,
     "metadata": {},
     "output_type": "execute_result"
    }
   ],
   "source": [
    "m = 1\n",
    "for i, el in enumerate(sorted(joined, key=cmp_to_key(compare), reverse=True)):\n",
    "    if el == [[6]] or el == [[2]]:\n",
    "        m *= i+1\n",
    "m"
   ]
  }
 ],
 "metadata": {
  "kernelspec": {
   "display_name": "Python 3.10.8 64-bit",
   "language": "python",
   "name": "python3"
  },
  "language_info": {
   "codemirror_mode": {
    "name": "ipython",
    "version": 3
   },
   "file_extension": ".py",
   "mimetype": "text/x-python",
   "name": "python",
   "nbconvert_exporter": "python",
   "pygments_lexer": "ipython3",
   "version": "3.10.8"
  },
  "vscode": {
   "interpreter": {
    "hash": "e7370f93d1d0cde622a1f8e1c04877d8463912d04d973331ad4851f04de6915a"
   }
  }
 },
 "nbformat": 4,
 "nbformat_minor": 5
}
