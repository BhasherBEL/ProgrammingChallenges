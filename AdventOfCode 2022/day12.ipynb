{
 "cells": [
  {
   "cell_type": "code",
   "execution_count": 1,
   "id": "c586a549",
   "metadata": {},
   "outputs": [],
   "source": [
    "import sys\n",
    "sys.path.append('..')"
   ]
  },
  {
   "cell_type": "code",
   "execution_count": 11,
   "id": "7cd61c19",
   "metadata": {},
   "outputs": [],
   "source": [
    "from utils import Utils, AOC\n",
    "from session import SESSION\n",
    "import time\n",
    "from collections import defaultdict\n",
    "import re\n",
    "import numpy as np"
   ]
  },
  {
   "cell_type": "code",
   "execution_count": 3,
   "id": "daa8e4c7",
   "metadata": {},
   "outputs": [],
   "source": [
    "aoc = AOC(session=SESSION)"
   ]
  },
  {
   "cell_type": "code",
   "execution_count": 4,
   "id": "208e76cd",
   "metadata": {},
   "outputs": [
    {
     "data": {
      "text/plain": [
       "True"
      ]
     },
     "execution_count": 4,
     "metadata": {},
     "output_type": "execute_result"
    }
   ],
   "source": [
    "aoc.verify_session()"
   ]
  },
  {
   "cell_type": "code",
   "execution_count": 5,
   "id": "7a4f136e",
   "metadata": {},
   "outputs": [
    {
     "name": "stdout",
     "output_type": "stream",
     "text": [
      "Data correctly downloaded and saved locally for next usage.\n",
      "0% of data are digits. Analyse as text.\n",
      "0 empty line(s) found. Analyse as monline data.\n",
      "===== HEAD (5/41) =====\n",
      "abcccccaaaaaacccaaaccaaaaaaaacccaaaaaaccccccccccccccccccccccccccccaaaaaaaaaaaaaacacccccccccccccccccccccccccccccccaaaaaaaacccccccccccccccccccccccccccccccccccccccccccccaaaaa\n",
      "abcccccaaaaaaaacaaaaccaaaaaaccccaaaaaaccccccccccaaacccccccccccccccaaaaaaaaaaaaaaaacccccccccccccccccccccccccccccccaaaaaaaaaccccccaaaccccccccccccccccccccccccccccccccccaaaaaa\n",
      "abccccaaaaaaaaacaaaaccaaaaaaccccaaaaaaaaccccccccaaaccccccccccccccccaaaaaaaaaaaaaaccccaaaccccccccccccccccccccccccccaaaaaaaaccccacaaaccccccccccccccccaaccccccccccccccccaaaaaa\n",
      "abcccaaaaaaaaaacaaaccaaaaaaaacccccaaccaaacaaccccaaaaaaaccccccccccccaacaaaaaaaaaccccccaaaaccccccccccccccccccccaaacaaaaaaccccccaaaaaaaacccccccccccccaaaacccccccccccccccaaacaa\n",
      "abcccaaacaaaccccccccaaaaaaaaaaccccccccaaaaaacaaaaaaaaaaccccccccccccccaaaaaaaaaaccccccaaaaccccccccccccccccaaccaaacaaaaaaacccccaaaaaaaacccccccccccccaaaaccaaaccccccccccccccaa\n",
      "=======================\n"
     ]
    },
    {
     "data": {
      "text/plain": [
       "<utils_components.aoc2.AOC at 0x2bde0742750>"
      ]
     },
     "execution_count": 5,
     "metadata": {},
     "output_type": "execute_result"
    }
   ],
   "source": [
    "aoc.get_today_file().analyse().head()"
   ]
  },
  {
   "cell_type": "markdown",
   "id": "738b7e6f",
   "metadata": {},
   "source": [
    "## Contest part"
   ]
  },
  {
   "cell_type": "code",
   "execution_count": 12,
   "id": "bd34f60c",
   "metadata": {},
   "outputs": [
    {
     "data": {
      "text/plain": [
       "((20, 0), (20, 146))"
      ]
     },
     "execution_count": 12,
     "metadata": {},
     "output_type": "execute_result"
    }
   ],
   "source": [
    "from_ = ()\n",
    "to_ = ()\n",
    "data = []\n",
    "for i, line in enumerate(aoc.data):\n",
    "    data.append([])\n",
    "    for j, el in enumerate(line):\n",
    "        if el == 'S':\n",
    "          from_ = i, j\n",
    "          data[-1].append(0)\n",
    "        elif el == 'E':\n",
    "            to_ = i, j\n",
    "            data[-1].append(25)\n",
    "        else:\n",
    "            data[-1].append('abcdefghijklmnopqrstuvwxyz'.index(el))\n",
    "data = np.array(data)\n",
    "from_, to_"
   ]
  },
  {
   "cell_type": "code",
   "execution_count": null,
   "id": "4a457135",
   "metadata": {},
   "outputs": [],
   "source": [
    "def get_neighbours(coords):\n",
    "    candidates = [\n",
    "        (coords[0] + 1, coords[1]),\n",
    "        (coords[0] - 1, coords[1]),\n",
    "        (coords[0], coords[1] + 1),\n",
    "        (coords[0], coords[1] - 1),\n",
    "    ]"
   ]
  },
  {
   "cell_type": "code",
   "execution_count": 44,
   "id": "95ef94c2",
   "metadata": {},
   "outputs": [
    {
     "data": {
      "text/plain": [
       "['###..#....####.####.####.#.....##..####.',\n",
       " '#..#.#....#.......#.#....#....#..#.#....',\n",
       " '#..#.#....###....#..###..#....#....###..',\n",
       " '###..#....#.....#...#....#....#.##.#....',\n",
       " '#.#..#....#....#....#....#....#..#.#....',\n",
       " '#..#.####.####.####.#....####..###.####.',\n",
       " '']"
      ]
     },
     "execution_count": 44,
     "metadata": {},
     "output_type": "execute_result"
    }
   ],
   "source": [
    "Utils.bfs_path(from_, to_, )"
   ]
  }
 ],
 "metadata": {
  "kernelspec": {
   "display_name": "Python 3",
   "language": "python",
   "name": "python3"
  },
  "language_info": {
   "codemirror_mode": {
    "name": "ipython",
    "version": 3
   },
   "file_extension": ".py",
   "mimetype": "text/x-python",
   "name": "python",
   "nbconvert_exporter": "python",
   "pygments_lexer": "ipython3",
   "version": "3.11.1"
  },
  "vscode": {
   "interpreter": {
    "hash": "c2938d320abc456c0685e00c040cd5a90d8106396fdc681ad96651d92d405048"
   }
  }
 },
 "nbformat": 4,
 "nbformat_minor": 5
}
