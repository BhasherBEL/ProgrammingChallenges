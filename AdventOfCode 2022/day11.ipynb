{
 "cells": [
  {
   "cell_type": "code",
   "execution_count": 1,
   "id": "c586a549",
   "metadata": {},
   "outputs": [],
   "source": [
    "import sys\n",
    "sys.path.append('..')"
   ]
  },
  {
   "cell_type": "code",
   "execution_count": 2,
   "id": "7cd61c19",
   "metadata": {},
   "outputs": [],
   "source": [
    "from utils import Utils, AOC\n",
    "from session import SESSION\n",
    "import time\n",
    "from collections import defaultdict\n",
    "import re"
   ]
  },
  {
   "cell_type": "code",
   "execution_count": 3,
   "id": "daa8e4c7",
   "metadata": {},
   "outputs": [],
   "source": [
    "aoc = AOC(session=SESSION)"
   ]
  },
  {
   "cell_type": "code",
   "execution_count": 4,
   "id": "208e76cd",
   "metadata": {},
   "outputs": [
    {
     "data": {
      "text/plain": [
       "True"
      ]
     },
     "execution_count": 4,
     "metadata": {},
     "output_type": "execute_result"
    }
   ],
   "source": [
    "aoc.verify_session()"
   ]
  },
  {
   "cell_type": "code",
   "execution_count": 5,
   "id": "7a4f136e",
   "metadata": {},
   "outputs": [
    {
     "name": "stdout",
     "output_type": "stream",
     "text": [
      "Local file found.\n"
     ]
    },
    {
     "data": {
      "text/plain": [
       "<utils_components.aoc2.AOC at 0x182fb4edd10>"
      ]
     },
     "execution_count": 5,
     "metadata": {},
     "output_type": "execute_result"
    }
   ],
   "source": [
    "aoc.get_today_file()"
   ]
  },
  {
   "cell_type": "code",
   "execution_count": 6,
   "id": "9d47c8b8",
   "metadata": {},
   "outputs": [],
   "source": [
    "aoc.exraw = \"\"\"Monkey 0:\n",
    "  Starting items: 79, 98\n",
    "  Operation: new = old * 19\n",
    "  Test: divisible by 23\n",
    "    If true: throw to monkey 2\n",
    "    If false: throw to monkey 3\n",
    "\n",
    "Monkey 1:\n",
    "  Starting items: 54, 65, 75, 74\n",
    "  Operation: new = old + 6\n",
    "  Test: divisible by 19\n",
    "    If true: throw to monkey 2\n",
    "    If false: throw to monkey 0\n",
    "\n",
    "Monkey 2:\n",
    "  Starting items: 79, 60, 97\n",
    "  Operation: new = old * old\n",
    "  Test: divisible by 13\n",
    "    If true: throw to monkey 1\n",
    "    If false: throw to monkey 3\n",
    "\n",
    "Monkey 3:\n",
    "  Starting items: 74\n",
    "  Operation: new = old + 3\n",
    "  Test: divisible by 17\n",
    "    If true: throw to monkey 0\n",
    "    If false: throw to monkey 1\"\"\""
   ]
  },
  {
   "cell_type": "markdown",
   "id": "738b7e6f",
   "metadata": {},
   "source": [
    "## Contest part"
   ]
  },
  {
   "cell_type": "code",
   "execution_count": 7,
   "id": "e4445391",
   "metadata": {},
   "outputs": [],
   "source": [
    "def op_to_func(op):\n",
    "    def apply(operator, first, second):\n",
    "        match operator:\n",
    "            case \"*\":\n",
    "                return first * second\n",
    "            case \"+\":\n",
    "                return first + second\n",
    "    \n",
    "    f, operator, s = op.split(' ')\n",
    "\n",
    "    def operation(x):\n",
    "        first = f\n",
    "        second = s\n",
    "        if first == 'old':\n",
    "            first = x\n",
    "        else:\n",
    "            first = int(first)\n",
    "        if second == 'old':\n",
    "            second = x\n",
    "        else:\n",
    "            second = int(second)\n",
    "\n",
    "        return apply(operator, first, second)\n",
    "    \n",
    "    return operation"
   ]
  },
  {
   "cell_type": "code",
   "execution_count": 8,
   "id": "db6d382b",
   "metadata": {},
   "outputs": [],
   "source": [
    "def op_to_func2(op):\n",
    "    def operation(x):\n",
    "        return eval(op.replace('old', str(x)))\n",
    "    \n",
    "    return operation"
   ]
  },
  {
   "cell_type": "code",
   "execution_count": 12,
   "id": "8c014bea",
   "metadata": {},
   "outputs": [],
   "source": [
    "prod = Utils.product(map(int, re.findall(r'divisible by (\\d+)', aoc.raw)))"
   ]
  },
  {
   "cell_type": "code",
   "execution_count": 13,
   "id": "ef6b4246",
   "metadata": {},
   "outputs": [],
   "source": [
    "class Monkey:\n",
    "    def __init__(self, monkey, items_list, operation, test, true, false, monkies) -> None:\n",
    "        self.id = int(monkey)\n",
    "        self.items = [int(item) for item in items_list.split(', ')]\n",
    "        self.inspect = op_to_func(operation)\n",
    "        self.test = lambda x: not (x % int(test))\n",
    "        self.true = int(true)\n",
    "        self.false = int(false)\n",
    "        self.monkies = monkies\n",
    "        self.count = 0\n",
    "\n",
    "    def process(self):\n",
    "        while self.items:\n",
    "            item = self.items.pop(0)\n",
    "            self.count += 1\n",
    "            if self.test(item := (self.inspect(item) % prod)):\n",
    "                self.monkies[self.true].items.append(item)\n",
    "            else:\n",
    "                self.monkies[self.false].items.append(item)\n"
   ]
  },
  {
   "cell_type": "code",
   "execution_count": 14,
   "id": "c7c91ab5",
   "metadata": {},
   "outputs": [],
   "source": [
    "monkies = []\n",
    "for els in re.findall(r\"\"\"Monkey (\\d+):\n",
    "  Starting items: ([\\d ,]+)\n",
    "  Operation: new = (.+)\n",
    "  Test: divisible by (\\d+)\n",
    "    If true: throw to monkey (\\d+)\n",
    "    If false: throw to monkey (\\d+)\"\"\", aoc.raw):\n",
    "    monkies.append(Monkey(*els, monkies))"
   ]
  },
  {
   "cell_type": "code",
   "execution_count": 15,
   "id": "5fac6f0d",
   "metadata": {},
   "outputs": [
    {
     "name": "stdout",
     "output_type": "stream",
     "text": [
      "10000/10000 (100.00%)\r"
     ]
    }
   ],
   "source": [
    "for i in range(10000):\n",
    "    for monkey in monkies:\n",
    "        monkey.process()\n",
    "    print(f'{i+1}/{10000} ({(i+1)/10000:.2%})', end='\\r')"
   ]
  },
  {
   "cell_type": "code",
   "execution_count": 16,
   "id": "dab69a32",
   "metadata": {},
   "outputs": [
    {
     "data": {
      "text/plain": [
       "14952185856"
      ]
     },
     "execution_count": 16,
     "metadata": {},
     "output_type": "execute_result"
    }
   ],
   "source": [
    "a, b = sorted([monkey.count for monkey in monkies], reverse=True)[:2]\n",
    "a * b"
   ]
  }
 ],
 "metadata": {
  "kernelspec": {
   "display_name": "Python 3",
   "language": "python",
   "name": "python3"
  },
  "language_info": {
   "codemirror_mode": {
    "name": "ipython",
    "version": 3
   },
   "file_extension": ".py",
   "mimetype": "text/x-python",
   "name": "python",
   "nbconvert_exporter": "python",
   "pygments_lexer": "ipython3",
   "version": "3.11.1"
  },
  "vscode": {
   "interpreter": {
    "hash": "c2938d320abc456c0685e00c040cd5a90d8106396fdc681ad96651d92d405048"
   }
  }
 },
 "nbformat": 4,
 "nbformat_minor": 5
}
