{
 "cells": [
  {
   "cell_type": "code",
   "execution_count": 1,
   "id": "7cd61c19",
   "metadata": {},
   "outputs": [],
   "source": [
    "from utils import Utils, AOC\n",
    "from session import SESSION"
   ]
  },
  {
   "cell_type": "code",
   "execution_count": 2,
   "id": "daa8e4c7",
   "metadata": {},
   "outputs": [],
   "source": [
    "aoc = AOC(session=SESSION)"
   ]
  },
  {
   "cell_type": "code",
   "execution_count": 3,
   "id": "208e76cd",
   "metadata": {},
   "outputs": [
    {
     "data": {
      "text/plain": [
       "True"
      ]
     },
     "execution_count": 3,
     "metadata": {},
     "output_type": "execute_result"
    }
   ],
   "source": [
    "aoc.verify_session()"
   ]
  },
  {
   "cell_type": "code",
   "execution_count": 20,
   "id": "7a4f136e",
   "metadata": {},
   "outputs": [
    {
     "name": "stdout",
     "output_type": "stream",
     "text": [
      "Local file found.\n",
      "===== HEAD (5/300) =====\n",
      "NLBLfrNNLvqwbMfDqSjSzzSJjjggcdVs\n",
      "lTRGPPZnRRHszcsZdSsccZ\n",
      "CFTTFtFHTtCtDDzrmBtrBD\n",
      "BJldgBWnRgWNWtllSlWShMcLcVSvVjbVVVvDVVVL\n",
      "HFGFwqQPQGwHrTFpwmThMbDDVcVmLvvshj\n",
      "========================\n"
     ]
    },
    {
     "data": {
      "text/plain": [
       "<utils_components.aoc2.AOC at 0x7fd5fdf05de0>"
      ]
     },
     "execution_count": 20,
     "metadata": {},
     "output_type": "execute_result"
    }
   ],
   "source": [
    "aoc.get_today_file().analyse().head()"
   ]
  },
  {
   "cell_type": "code",
   "execution_count": 22,
   "id": "a42c37da",
   "metadata": {},
   "outputs": [
    {
     "name": "stdout",
     "output_type": "stream",
     "text": [
      "7990\n"
     ]
    }
   ],
   "source": [
    "total = 0\n",
    "for line in aoc.data:\n",
    "    a, b = line[:len(line)//2], line[len(line)//2:]\n",
    "    a = set(a)\n",
    "    b = set(b)\n",
    "    c = (a & b).pop()\n",
    "    total += 'abcdefghijklmnopqrstuvwxyzABCDEFGHIJKLMNOPQRSTUVWXYZ'.index(c) + 1\n",
    "print(total)"
   ]
  },
  {
   "cell_type": "code",
   "execution_count": 24,
   "id": "aa15ad77",
   "metadata": {},
   "outputs": [
    {
     "name": "stdout",
     "output_type": "stream",
     "text": [
      "2602\n"
     ]
    }
   ],
   "source": [
    "total = 0\n",
    "for i in range(0, len(aoc.data), 3):\n",
    "    c = (set(aoc.data[i]) & set(aoc.data[i+1]) & set(aoc.data[i+2])).pop()\n",
    "    total += 'abcdefghijklmnopqrstuvwxyzABCDEFGHIJKLMNOPQRSTUVWXYZ'.index(c) + 1\n",
    "print(total)"
   ]
  }
 ],
 "metadata": {
  "kernelspec": {
   "display_name": "Python 3 (ipykernel)",
   "language": "python",
   "name": "python3"
  },
  "language_info": {
   "codemirror_mode": {
    "name": "ipython",
    "version": 3
   },
   "file_extension": ".py",
   "mimetype": "text/x-python",
   "name": "python",
   "nbconvert_exporter": "python",
   "pygments_lexer": "ipython3",
   "version": "3.10.8"
  }
 },
 "nbformat": 4,
 "nbformat_minor": 5
}
